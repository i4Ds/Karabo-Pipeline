{
 "cells": [
  {
   "cell_type": "code",
   "execution_count": 67,
   "metadata": {},
   "outputs": [
    {
     "name": "stdout",
     "output_type": "stream",
     "text": [
      "Creating \u001b[94m\u001b[1m/home/lukas/i4ds/ska/Karabo-Pipeline/karabo_folder/fhdir_2d0cfbb6\u001b[0m directory for data object storage.\n"
     ]
    }
   ],
   "source": [
    "import os\n",
    "import re\n",
    "import shutil\n",
    "import uuid\n",
    "from typing import Optional\n",
    "import glob\n",
    "from karabo.util.plotting_util import Font\n",
    "\n",
    "\n",
    "def _get_default_root_dir() -> str:\n",
    "    karabo_folder = \"karabo_folder\"\n",
    "    scratch = os.environ.get(\"SCRATCH\")\n",
    "    if scratch is not None:\n",
    "        root_parent = scratch\n",
    "    else:\n",
    "        root_parent = os.getcwd()\n",
    "    root_dir = os.path.join(root_parent, karabo_folder)\n",
    "    return os.path.abspath(root_dir)\n",
    "\n",
    "\n",
    "class FileHandler:\n",
    "    \"\"\"Utility file-handler for unspecified directories.\n",
    "\n",
    "    Provides directory-management functionality in case no dir-path was specified.\n",
    "    `FileHandler.root` is a static root-directory where each subdir is located.\n",
    "    Subdirs are `prefix`_{uuid4[:8]} in case `prefix` is defined, otherwise uuid4[:8].\n",
    "\n",
    "    Args:\n",
    "        prefix: Prefix of dir-path where dir-path is `prefix`_{uuid4[:8]}\n",
    "    \"\"\"\n",
    "\n",
    "    root: str = _get_default_root_dir()\n",
    "    fh_dir_identifier = \"fhdir\"  # additional security to protect against dir-removal\n",
    "\n",
    "    def __init__(\n",
    "        self,\n",
    "        prefix: Optional[str] = None,\n",
    "        verbose: bool = True,\n",
    "    ) -> None:\n",
    "        \"\"\"Creates `FileHandler` instance with the according sub-directory.\n",
    "\n",
    "        Args:\n",
    "            prefix: Prefix for easier identification of sub-directory.\n",
    "            verbose: Subdir creation and removal verbose?\n",
    "        \"\"\"\n",
    "        self.verbose = verbose\n",
    "        subdir_name = str(uuid.uuid4())[:8]\n",
    "        if (\n",
    "            FileHandler.fh_dir_identifier is not None\n",
    "            and len(FileHandler.fh_dir_identifier) > 0\n",
    "        ):\n",
    "            subdir_name = f\"{FileHandler.fh_dir_identifier}_{subdir_name}\"\n",
    "        if prefix is not None and len(prefix) > 0:\n",
    "            subdir_name = f\"{prefix}_{subdir_name}\"\n",
    "        self.subdir = os.path.join(FileHandler.root, subdir_name)\n",
    "        if self.verbose:\n",
    "            print(\n",
    "                f\"Creating {Font.BLUE}{Font.BOLD}{self.subdir}{Font.END} \"\n",
    "                \"directory for data object storage.\"\n",
    "            )\n",
    "        os.makedirs(self.subdir, exist_ok=False)\n",
    "\n",
    "    def clean_up(self) -> None:\n",
    "        \"\"\"Removes instance-bound `self.subdir`.\"\"\"\n",
    "        if os.path.exists(self.subdir):\n",
    "            if self.verbose:\n",
    "                print(f\"Removing {self.subdir}\")\n",
    "            shutil.rmtree(self.subdir)\n",
    "            if len(os.listdir(FileHandler.root)) == 0:\n",
    "                shutil.rmtree(FileHandler.root)\n",
    "\n",
    "    @staticmethod\n",
    "    def clean_up_root(force: bool = False, verbose: bool = True) -> None:\n",
    "        \"\"\"Removes the from `FileHandler` created directories.\n",
    "\n",
    "        Args:\n",
    "            force: Remove `FileHandler.root` entirely regardless of content?\n",
    "            verbose: Verbose removal?\n",
    "        \"\"\"\n",
    "        if os.path.exists(FileHandler.root):\n",
    "            if force:\n",
    "                if verbose:\n",
    "                    print(f\"Force remove {FileHandler.root}\")\n",
    "                shutil.rmtree(FileHandler.root)\n",
    "            elif (\n",
    "                FileHandler.fh_dir_identifier is None\n",
    "                or len(FileHandler.fh_dir_identifier) < 1\n",
    "            ):\n",
    "                print(\n",
    "                    \"`clean_up_root` can't remove anything because \"\n",
    "                    f\"{FileHandler.fh_dir_identifier=}. Set `fh_dir_identifier` \"\n",
    "                    f\"correctly or use `force` to remove {FileHandler.root} regardless.\"\n",
    "                )\n",
    "            else:\n",
    "                if verbose:\n",
    "                    print(\n",
    "                        f\"Remove {FileHandler.root} in case all subdirs match \"\n",
    "                        f\"{FileHandler.fh_dir_identifier=}\"\n",
    "                    )\n",
    "                paths = glob.glob(os.path.join(FileHandler.root, \"*\"))\n",
    "                for path in paths:\n",
    "                    if (\n",
    "                        os.path.isdir(path)\n",
    "                        and re.match(\n",
    "                            FileHandler.fh_dir_identifier, os.path.split(path)[-1]\n",
    "                        )\n",
    "                        is not None\n",
    "                    ):\n",
    "                        shutil.rmtree(path=path)\n",
    "                if len(os.listdir(FileHandler.root)) > 0:\n",
    "                    if verbose:\n",
    "                        print(\n",
    "                            f\"`clean_up_root` is not able safely remove \"\n",
    "                            f\"{FileHandler.root} because there are directories which \"\n",
    "                            f\"do not match {FileHandler.fh_dir_identifier=} or files.\"\n",
    "                        )\n",
    "                else:\n",
    "                    shutil.rmtree(FileHandler.root)\n",
    "\n",
    "fh = FileHandler()"
   ]
  },
  {
   "cell_type": "code",
   "execution_count": 71,
   "metadata": {},
   "outputs": [
    {
     "name": "stdout",
     "output_type": "stream",
     "text": [
      "Force remove /home/lukas/i4ds/ska/Karabo-Pipeline/karabo_folder\n"
     ]
    }
   ],
   "source": [
    "FileHandler.clean_up_root(force=True)"
   ]
  }
 ],
 "metadata": {
  "kernelspec": {
   "display_name": "Python 3.9.16 ('karabo_dev_env')",
   "language": "python",
   "name": "python3"
  },
  "language_info": {
   "codemirror_mode": {
    "name": "ipython",
    "version": 3
   },
   "file_extension": ".py",
   "mimetype": "text/x-python",
   "name": "python",
   "nbconvert_exporter": "python",
   "pygments_lexer": "ipython3",
   "version": "3.9.16"
  },
  "orig_nbformat": 4,
  "vscode": {
   "interpreter": {
    "hash": "ccbb141bba2c4c019c63d533d94ea415ff9cd07ec39847273b695c7aaf48b1d0"
   }
  }
 },
 "nbformat": 4,
 "nbformat_minor": 2
}
