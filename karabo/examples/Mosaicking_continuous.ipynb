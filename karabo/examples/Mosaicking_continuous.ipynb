{
 "cells": [
  {
   "cell_type": "markdown",
   "source": [
    "# Mosaicing of reconstructed sky maps for line emission"
   ],
   "metadata": {
    "collapsed": false
   }
  },
  {
   "cell_type": "markdown",
   "source": [
    "We do a sky reconstruction for different pointings of our HI test catalogs (line emission) and then we coadd the pointings. For the reconstruction we currently still use oskar and assume a gaussian primary beam of around 1 degree FWHM."
   ],
   "metadata": {
    "collapsed": false
   }
  },
  {
   "cell_type": "code",
   "execution_count": null,
   "outputs": [],
   "source": [
    "import os\n",
    "import shutil\n",
    "import numpy as np\n",
    "import matplotlib.pyplot as plt\n",
    "import h5py\n",
    "from astropy.time import Time\n",
    "from datetime import datetime\n",
    "from astropy.coordinates import EarthLocation, AltAz, ICRS\n",
    "import astropy.units as u\n",
    "\n",
    "# from astropy.constants import c\n",
    "import copy\n",
    "from astropy.io import fits\n",
    "from astropy.wcs import WCS\n",
    "from astropy import coordinates as coords\n",
    "\n",
    "from karabo.simulation.sky_model import SkyModel\n",
    "from karabo.simulation.line_emission import freq_channels, karabo_reconstruction\n",
    "\n",
    "# from karabo.simulation.telescope import Telescope\n",
    "# from karabo.simulation.observation import Observation\n",
    "# from karabo.simulation.interferometer import InterferometerSimulation\n",
    "# from karabo.imaging.imager import Imager\n",
    "from karabo.util.plotting_util import get_slices\n",
    "\n",
    "# from karabo.simulation.beam import BeamPattern\n",
    "\n",
    "from MontagePy.main import *\n",
    "from MontagePy.archive import *\n",
    "\n",
    "\n",
    "%matplotlib inline"
   ],
   "metadata": {
    "collapsed": false
   }
  },
  {
   "cell_type": "markdown",
   "source": [
    "The observation location should be compatible with the MeerKAT site. Also, the observation time and the coordinate has to be set. We need to pay attention that the sky model passes through the field of view during the observation!"
   ],
   "metadata": {
    "collapsed": false
   }
  },
  {
   "cell_type": "code",
   "execution_count": null,
   "outputs": [],
   "source": [
    "# Specify an observation time -> take whatever you want\n",
    "t_obs = \"2000-03-20 12:06:39\"  # 2022-09-01 09:09:00.\n",
    "t_len = \"03:05:00.000\"\n",
    "observing_time = Time(t_obs)\n",
    "\n",
    "ra_deg = 20.0  # phase_center.ra.deg\n",
    "dec_deg = -30.0  # phase_center.dec.deg"
   ],
   "metadata": {
    "collapsed": false
   }
  },
  {
   "cell_type": "markdown",
   "source": [
    "Parameter definitions."
   ],
   "metadata": {
    "collapsed": false
   }
  },
  {
   "cell_type": "code",
   "execution_count": null,
   "outputs": [],
   "source": [
    "# Parameters needed for our sky reconstruction\n",
    "catalog_path = \"data/point_sources_OSKAR1_diluted5000.h5\"\n",
    "outer_rad = 5.0  # We define the FOV size with an outer radius, the center of the radius is phase-center\n",
    "area = 5  # angular size of FOV in degrees\n",
    "channel_num = 10  # Number of frequency channels to be used\n",
    "timestep_num = 10  # Number of time steps used\n",
    "\n",
    "# These are the parameters defining the mosaic we want to make and the pointings\n",
    "location = \"20.0 -30.0\"\n",
    "phase_center = (20.0, -30.0) * u.deg\n",
    "size = 5.0 * u.deg\n",
    "workdir = \"Mosaic_test\"\n",
    "\n",
    "# Parameters for the plots\n",
    "vmax = 0.4\n",
    "vmax_i = 0.1\n",
    "vmax_rec = 0.2"
   ],
   "metadata": {
    "collapsed": false
   }
  },
  {
   "cell_type": "markdown",
   "source": [
    "We create the sky"
   ],
   "metadata": {
    "collapsed": false
   }
  },
  {
   "cell_type": "code",
   "execution_count": null,
   "outputs": [],
   "source": [
    "sky_pointing = SkyModel.sky_from_h5_with_redshift_filtered(\n",
    "    catalog_path, ra_deg, dec_deg, outer_rad\n",
    ")\n",
    "sky_pointing.explore_sky(\n",
    "    phase_center=(ra_deg, dec_deg),\n",
    "    vmin=0,\n",
    "    s=10,\n",
    "    cmap=\"jet\",\n",
    "    cbar_label=\"Flux [Jy]\",\n",
    "    cfun=None,\n",
    "    wcs_enabled=False,\n",
    "    xlabel=\"RA [deg]\",\n",
    "    ylabel=\"DEC [deg]\",\n",
    ")"
   ],
   "metadata": {
    "collapsed": false
   }
  },
  {
   "cell_type": "code",
   "execution_count": null,
   "outputs": [],
   "source": [
    "# Load sky into memory and close connection to h5\n",
    "sky_pointing.compute()"
   ],
   "metadata": {
    "collapsed": false
   }
  },
  {
   "cell_type": "markdown",
   "source": [
    "Frequency/Redshift channels"
   ],
   "metadata": {
    "collapsed": false
   }
  },
  {
   "cell_type": "code",
   "execution_count": null,
   "outputs": [],
   "source": [
    "redshift_channel, freq_channel, freq_bin, freq_mid = freq_channels(\n",
    "    sky_pointing.sources[:, 13], channel_num\n",
    ")\n",
    "print(freq_channel[-1])"
   ],
   "metadata": {
    "collapsed": false
   }
  },
  {
   "cell_type": "code",
   "execution_count": null,
   "outputs": [],
   "source": [
    "FWHM_ref = (\n",
    "    1 * u.deg\n",
    ")  # reference FWHM of the simulated gaussian primary beam (FWHM at 1.5GHz)\n",
    "\n",
    "FWHM_real = np.sqrt(89.5 * 86.2) / 60.0 * (1e3 / (freq_mid / 10**6)) * u.deg\n",
    "print(\"The FWHM of the Gaussian primary beam at the mid frequency is: \", FWHM_real)\n",
    "fac = 0.87  # This is the ideal position if the primary beam is gaussian\n",
    "offset = (\n",
    "    FWHM_real * fac\n",
    ")  # Radial distance between central pointing and the other pointings\n",
    "\n",
    "img_size = 1024  # Pixel size of the pointing\n",
    "size_pntg = 1.2 * FWHM_real  # Size of the pointing in degrees\n",
    "\n",
    "# Position of the pointings\n",
    "center1 = coords.SkyCoord(ra=phase_center[0], dec=phase_center[1], frame=\"icrs\")\n",
    "center2 = coords.SkyCoord(\n",
    "    ra=phase_center[0] + offset, dec=phase_center[1], frame=\"icrs\"\n",
    ")\n",
    "pointings = [\n",
    "    center1,\n",
    "] + [center2]\n",
    "\n",
    "print(pointings)\n",
    "\n",
    "print(pointings[1].ra.deg)"
   ],
   "metadata": {
    "collapsed": false
   }
  },
  {
   "cell_type": "code",
   "execution_count": null,
   "outputs": [],
   "source": [
    "# We create and move into subdirectories in this notebook but we want to come back to the original startup directory whenever we restart the processing.\n",
    "home = \"results\"\n",
    "os.chdir(home)\n",
    "\n",
    "print(\"Startup folder: \" + home)\n",
    "\n",
    "\n",
    "# Clean out any old copy of the work tree, then remake it\n",
    "# and the set of the subdirectories we will need.\n",
    "\n",
    "try:\n",
    "    shutil.rmtree(workdir)\n",
    "except:\n",
    "    print(\n",
    "        \"                Can't delete work tree; probably doesn't exist yet\", flush=True\n",
    "    )\n",
    "\n",
    "print(\"Work directory: \" + workdir, flush=True)\n",
    "\n",
    "os.makedirs(workdir)\n",
    "\n",
    "os.chdir(workdir)\n",
    "\n",
    "os.makedirs(\"raw\")\n",
    "os.makedirs(\"projected\")\n",
    "os.makedirs(\"diffs\")\n",
    "os.makedirs(\"corrected\")\n",
    "os.makedirs(\"reconstructions\")"
   ],
   "metadata": {
    "collapsed": false
   }
  },
  {
   "cell_type": "code",
   "execution_count": null,
   "outputs": [],
   "source": [
    "# os.makedirs(\"Primary_Beam\")\n",
    "#\n",
    "# os.chdir(\"Primary_Beam\")\n",
    "#\n",
    "# os.makedirs(\"raw\")\n",
    "# os.makedirs(\"projected\")\n",
    "# os.makedirs(\"diffs\")\n",
    "# os.makedirs(\"corrected\")\n",
    "# os.makedirs(\"reconstructions\")\n",
    "#\n",
    "# os.chdir(\"..\")"
   ],
   "metadata": {
    "collapsed": false
   }
  },
  {
   "cell_type": "markdown",
   "source": [
    "We do a sky reconstruction for every redshift bin for every pointing and save it in the corresponding folders."
   ],
   "metadata": {
    "collapsed": false
   }
  },
  {
   "cell_type": "code",
   "execution_count": null,
   "outputs": [],
   "source": [
    "outfile = \"reconstructions/pointing\"\n",
    "\n",
    "for k in range(len(pointings)):\n",
    "    print(\"Reconstruction of pointing \" + str(k) + \"...\")\n",
    "\n",
    "    image, header = karabo_reconstruction(\n",
    "        outfile=outfile + str(k),\n",
    "        mosaic_pntg_file=\"raw/pointing\" + str(k),\n",
    "        sky=sky_pointing,\n",
    "        ra_deg=pointings[k].ra.deg,\n",
    "        dec_deg=pointings[k].dec.deg,\n",
    "        img_size=img_size,\n",
    "        start_freq=freq_mid,\n",
    "        freq_bin=freq_channel[0] - freq_channel[-1],\n",
    "        beam_type=\"Gaussian beam\",\n",
    "        cut=size_pntg.value,\n",
    "        channel_num=1,\n",
    "        pdf_plot=True,\n",
    "        circle=True,\n",
    "    )"
   ],
   "metadata": {
    "collapsed": false
   }
  },
  {
   "cell_type": "markdown",
   "source": [
    "Primary Beam correction preparation per pointing"
   ],
   "metadata": {
    "collapsed": false
   }
  },
  {
   "cell_type": "code",
   "execution_count": null,
   "outputs": [],
   "source": [
    "# os.chdir(\"Primary_Beam\")\n",
    "#\n",
    "#\n",
    "# for k in range(len(pointings)):\n",
    "#     prim_beam, _ = gaussian_beam(\n",
    "#         img_size=img_size,\n",
    "#         ra=pointings[k].ra.deg,\n",
    "#         dec=pointings[k].dec.deg,\n",
    "#         cut=size_pntg.value,\n",
    "#         fwhm=FWHM_real.value,\n",
    "#         outfile=\"raw/gaussian_\" + str(k),\n",
    "#     )\n",
    "# os.chdir(\"..\")"
   ],
   "metadata": {
    "collapsed": false
   }
  },
  {
   "cell_type": "markdown",
   "source": [
    "Now let us start with the actual mosaicing, for every redshfit bin. We first need to create the FITS header for the mosaic, which is the same in every redshift channel. Then we additionally create a file for every channel which contains the metadata of the pointings in this channel. With these two files we create the reprojections which we then use to coadd the pointings."
   ],
   "metadata": {
    "collapsed": false
   }
  },
  {
   "cell_type": "code",
   "execution_count": null,
   "outputs": [],
   "source": [
    "rtn = mHdr(\n",
    "    locstr=location,\n",
    "    width=size.value,\n",
    "    height=size.value,\n",
    "    outfile=\"region.hdr\",\n",
    "    resolution=5,\n",
    "    csys=\"Equatorial\",\n",
    ")\n",
    "print(\"mHdr:             \" + str(rtn), flush=True)\n",
    "\n",
    "# Replace the projection -> to SIN (orthographic)\n",
    "with open(\"region.hdr\", \"r\", encoding=\"utf-8\") as file:\n",
    "    data = file.readlines()\n",
    "\n",
    "print(data)\n",
    "data[5] = \"CTYPE1  = 'RA---SIN'\\n\"\n",
    "data[6] = \"CTYPE2  = 'DEC--SIN'\\n\"\n",
    "\n",
    "with open(\"region.hdr\", \"w\", encoding=\"utf-8\") as file:\n",
    "    file.writelines(data)\n",
    "\n",
    "\n",
    "# Scan the images for their coverage metadata.\n",
    "rtn = mImgtbl(\"raw\", \"rimages.tbl\")\n",
    "print(\"mImgtbl (raw):    \" + str(rtn), flush=True)"
   ],
   "metadata": {
    "collapsed": false
   }
  },
  {
   "cell_type": "markdown",
   "source": [
    "Calculate the differences of the overlaping regions."
   ],
   "metadata": {
    "collapsed": false
   }
  },
  {
   "cell_type": "code",
   "execution_count": null,
   "outputs": [],
   "source": [
    "# Reproject the original images to the  frame of the output FITS header we created\n",
    "rtn = mProjExec(\"raw\", \"rimages.tbl\", \"region.hdr\", projdir=\"projected\")\n",
    "print(\"mProjExec:           \" + str(rtn), flush=True)"
   ],
   "metadata": {
    "collapsed": false
   }
  },
  {
   "cell_type": "code",
   "execution_count": null,
   "outputs": [],
   "source": [
    "mImgtbl(\"projected\", \"pimages.tbl\")\n",
    "print(\"mImgtbl (projected): \" + str(rtn), flush=True)"
   ],
   "metadata": {
    "collapsed": false
   }
  },
  {
   "cell_type": "markdown",
   "source": [
    "Coadding:"
   ],
   "metadata": {
    "collapsed": false
   }
  },
  {
   "cell_type": "code",
   "execution_count": null,
   "outputs": [],
   "source": [
    "rtn = mAdd(\"projected\", \"pimages.tbl\", \"region.hdr\", \"mosaic.fits\")\n",
    "print(\"mAdd:                \" + str(rtn), flush=True)"
   ],
   "metadata": {
    "collapsed": false
   }
  },
  {
   "cell_type": "markdown",
   "source": [
    "Primary Beam Correction"
   ],
   "metadata": {
    "collapsed": false
   }
  },
  {
   "cell_type": "code",
   "execution_count": null,
   "outputs": [],
   "source": [
    "# prim_beam_mosaic, prim_header_mosaic = fits.getdata(\n",
    "#     \"Primary_Beam/mosaic.fits\", ext=0, header=True\n",
    "# )\n",
    "# dirty_image = dirty_image / prim_beam_mosaic"
   ],
   "metadata": {
    "collapsed": false
   }
  },
  {
   "cell_type": "code",
   "execution_count": null,
   "outputs": [],
   "source": [
    "# wcs = WCS(header)\n",
    "# print(wcs)\n",
    "#\n",
    "# slices = get_slices(wcs)\n",
    "#\n",
    "# plt.figure(figsize=(20, 10))\n",
    "#\n",
    "# ax1 = plt.subplot(1, 2, 1)\n",
    "# scatter = ax1.scatter(\n",
    "#     sky_pointing[:, 0],\n",
    "#     sky_pointing[:, 1],\n",
    "#     c=sky_pointing[:, 2],\n",
    "#     vmin=0,\n",
    "#     vmax=vmax,\n",
    "#     s=10,\n",
    "#     cmap=\"jet\",\n",
    "# )\n",
    "# ax1.set_aspect(\"equal\")\n",
    "# plt.colorbar(scatter, ax=ax1, label=\"Flux [Jy]\")\n",
    "# ax1.set_xlim((ra_deg - size.value / 2, ra_deg + size.value / 2))\n",
    "# ax1.set_ylim((dec_deg - size.value / 2, dec_deg + size.value / 2))\n",
    "# ax1.set_xlabel(\"RA [deg]\")\n",
    "# ax1.set_ylabel(\"DEC [deg]\")\n",
    "# ax1.invert_xaxis()\n",
    "#\n",
    "# ax2 = plt.subplot(122, projection=wcs, slices=slices)\n",
    "# recon_img = ax2.imshow(dirty_image, cmap=\"YlGnBu\", origin=\"lower\", vmin=0, vmax=0.1)\n",
    "# plt.colorbar(recon_img, ax=ax2, label=\"Flux Density [Jy]\")\n",
    "#\n",
    "# plt.title(\"Reconstructed image\")\n",
    "# plt.tight_layout()\n",
    "# plt.savefig(\"Mosaic.pdf\")\n",
    "plt.show()"
   ],
   "metadata": {
    "collapsed": false
   }
  },
  {
   "cell_type": "code",
   "execution_count": null,
   "outputs": [],
   "source": [
    "fits.writeto(\"mosaic_total.fits\", dirty_image, header, overwrite=True)"
   ],
   "metadata": {
    "collapsed": false
   }
  },
  {
   "cell_type": "markdown",
   "source": [
    "# Plot Scatterplot onto Reconstruction"
   ],
   "metadata": {
    "collapsed": false
   }
  },
  {
   "cell_type": "code",
   "execution_count": null,
   "outputs": [],
   "source": [
    "dirty_image, header = fits.getdata(\"mosaic.fits\", ext=0, header=True)\n",
    "\n",
    "wcs = WCS(header)\n",
    "print(wcs)\n",
    "\n",
    "slices = get_slices(wcs)\n",
    "\n",
    "plt.figure(figsize=(20, 10))\n",
    "\n",
    "ax1 = plt.subplot(1, 2, 1)\n",
    "scatter = ax1.scatter(\n",
    "    sky_pointing[:, 0],\n",
    "    sky_pointing[:, 1],\n",
    "    c=sky_pointing[:, 2],\n",
    "    vmin=0,\n",
    "    s=10,\n",
    "    cmap=\"jet\",\n",
    ")\n",
    "ax1.set_aspect(\"equal\")\n",
    "plt.colorbar(scatter, ax=ax1, label=\"Flux [Jy]\")\n",
    "ax1.set_xlim((ra_deg - size.value / 2, ra_deg + size.value / 2))\n",
    "ax1.set_ylim((dec_deg - size.value / 2, dec_deg + size.value / 2))\n",
    "ax1.set_xlabel(\"RA [deg]\")\n",
    "ax1.set_ylabel(\"DEC [deg]\")\n",
    "ax1.invert_xaxis()\n",
    "\n",
    "ax2 = plt.subplot(122, projection=wcs, slices=slices)\n",
    "recon_img = ax2.imshow(dirty_image, cmap=\"YlGnBu\", origin=\"lower\", vmin=0)\n",
    "plt.colorbar(recon_img, ax=ax2, label=\"Flux Density [Jy]\")\n",
    "\n",
    "plt.title(\"Reconstructed image\")\n",
    "plt.tight_layout()\n",
    "plt.savefig(\"Mosaic.pdf\")\n",
    "plt.show()"
   ],
   "metadata": {
    "collapsed": false
   }
  }
 ],
 "metadata": {
  "kernelspec": {
   "display_name": "Python 3",
   "language": "python",
   "name": "python3"
  },
  "language_info": {
   "codemirror_mode": {
    "name": "ipython",
    "version": 2
   },
   "file_extension": ".py",
   "mimetype": "text/x-python",
   "name": "python",
   "nbconvert_exporter": "python",
   "pygments_lexer": "ipython2",
   "version": "2.7.6"
  }
 },
 "nbformat": 4,
 "nbformat_minor": 0
}
