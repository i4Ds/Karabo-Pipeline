{
 "cells": [
  {
   "cell_type": "markdown",
   "id": "340a325e-22b2-4290-83f8-c4e91334a9f0",
   "metadata": {},
   "source": [
    "# 21cm Line Emission Simulations using RASCIL"
   ]
  },
  {
   "cell_type": "markdown",
   "id": "024620b5-894e-40bd-b40d-bdcafd206b02",
   "metadata": {},
   "source": [
    "## This notebook demonstrates how to run a 21cm line emission simulation, to obtain visibilities and dirty images, and create a mosaic of pointings with and without primary beams."
   ]
  },
  {
   "cell_type": "code",
   "execution_count": null,
   "id": "30525016-f774-477b-aa6a-cf3770663128",
   "metadata": {
    "ExecuteTime": {
     "end_time": "2025-05-16T10:01:38.233910Z",
     "start_time": "2025-05-16T10:01:38.044879Z"
    }
   },
   "outputs": [],
   "source": [
    "!export HDF5_USE_FILE_LOCKING='FALSE'"
   ]
  },
  {
   "cell_type": "code",
   "execution_count": null,
   "id": "c2847a0f-602c-48e4-9f83-dd334905f413",
   "metadata": {
    "ExecuteTime": {
     "end_time": "2025-05-16T10:01:38.906362Z",
     "start_time": "2025-05-16T10:01:38.903054Z"
    }
   },
   "outputs": [],
   "source": [
    "from datetime import datetime, timedelta\n",
    "from pathlib import Path\n",
    "\n",
    "import numpy as np\n",
    "from astropy import units as u\n",
    "from astropy.coordinates import SkyCoord\n",
    "from typing import List\n",
    "from ska_sdp_datamodels.image.image_model import Image as RASCILImage\n",
    "import matplotlib.pyplot as plt\n",
    "\n",
    "\n",
    "from karabo.data.external_data import HISourcesSmallCatalogDownloadObject\n",
    "from karabo.imaging.image import Image, ImageMosaicker\n",
    "from karabo.imaging.imager_base import DirtyImagerConfig\n",
    "from karabo.imaging.imager_rascil import RascilDirtyImager, RascilDirtyImagerConfig\n",
    "from karabo.simulation.interferometer import FilterUnits, InterferometerSimulation\n",
    "from karabo.simulation.line_emission import (\n",
    "    CircleSkyRegion,\n",
    "    line_emission_pipeline,\n",
    "    generate_gaussian_beam_data,\n",
    "    gaussian_beam_fwhm_for_frequency,\n",
    ")\n",
    "from karabo.simulation.observation import Observation\n",
    "from karabo.simulation.sky_model import SkyModel\n",
    "from karabo.simulation.telescope import Telescope\n",
    "from karabo.simulator_backend import SimulatorBackend\n",
    "from karabo.util.file_handler import FileHandler"
   ]
  },
  {
   "cell_type": "code",
   "execution_count": null,
   "id": "054fc2a7-f5e8-4db3-b7ae-2a689d1ee5a3",
   "metadata": {
    "ExecuteTime": {
     "end_time": "2025-05-16T10:01:39.781026Z",
     "start_time": "2025-05-16T10:01:39.777015Z"
    }
   },
   "outputs": [],
   "source": [
    "# Image details\n",
    "npixels = 2048\n",
    "image_width_degrees = 3\n",
    "cellsize_radians = np.radians(image_width_degrees) / npixels\n",
    "\n",
    "# The number of time steps is then determined as total_length / integration_time.\n",
    "observation_length = timedelta(seconds=10000)  # 14400 = 4hours\n",
    "integration_time = timedelta(seconds=10000)\n",
    "\n",
    "output_base_directory = Path(\n",
    "    FileHandler().get_tmp_dir(\n",
    "        prefix=\"line-emission-\",\n",
    "        purpose=\"Example line emission simulation\",\n",
    "    )\n",
    ")"
   ]
  },
  {
   "cell_type": "code",
   "execution_count": null,
   "id": "bc309a22-0a12-4d94-9cd2-980d0af0d96d",
   "metadata": {
    "ExecuteTime": {
     "end_time": "2025-05-16T10:01:42.804670Z",
     "start_time": "2025-05-16T10:01:42.797786Z"
    }
   },
   "outputs": [],
   "source": [
    "# Define observation pointings\n",
    "pointings = [\n",
    "    CircleSkyRegion(\n",
    "        radius=2 * u.deg, center=SkyCoord(ra=20, dec=-30, unit=\"deg\", frame=\"icrs\")\n",
    "    ),\n",
    "    CircleSkyRegion(\n",
    "        radius=2 * u.deg,\n",
    "        center=SkyCoord(ra=20, dec=-31.4, unit=\"deg\", frame=\"icrs\"),\n",
    "    ),\n",
    "    CircleSkyRegion(\n",
    "        radius=2 * u.deg,\n",
    "        center=SkyCoord(ra=21.4, dec=-30, unit=\"deg\", frame=\"icrs\"),\n",
    "    ),\n",
    "    CircleSkyRegion(\n",
    "        radius=2 * u.deg,\n",
    "        center=SkyCoord(ra=21.4, dec=-31.4, unit=\"deg\", frame=\"icrs\"),\n",
    "    ),\n",
    "]"
   ]
  },
  {
   "cell_type": "code",
   "execution_count": null,
   "id": "364aed0c-216f-4865-bd22-bdcf118b8b95",
   "metadata": {
    "ExecuteTime": {
     "end_time": "2025-05-16T10:01:49.867055Z",
     "start_time": "2025-05-16T10:01:49.864699Z"
    }
   },
   "outputs": [],
   "source": [
    "# Primary beam settings\n",
    "should_apply_primary_beam = False\n",
    "\n",
    "# Create interferometer simulation\n",
    "if should_apply_primary_beam:\n",
    "    beam_type = \"Gaussian beam\"\n",
    "    # Options: \"Aperture array\", \"Isotropic beam\", \"Gaussian beam\", \"VLA (PBCOR)\"\n",
    "    gaussian_fwhm = 50  # Degrees\n",
    "    gaussian_ref_freq = 8e8  # Hz\n",
    "else:\n",
    "    beam_type = \"Isotropic beam\"\n",
    "    gaussian_fwhm = 0\n",
    "    gaussian_ref_freq = 0"
   ]
  },
  {
   "cell_type": "code",
   "execution_count": null,
   "id": "cfb5180a-531d-495c-b109-6df386210120",
   "metadata": {
    "ExecuteTime": {
     "end_time": "2025-05-16T10:01:51.297651Z",
     "start_time": "2025-05-16T10:01:51.278112Z"
    }
   },
   "outputs": [],
   "source": [
    "# Load sky with sources\n",
    "sky = SkyModel.sky_test_LE()"
   ]
  },
  {
   "cell_type": "code",
   "execution_count": null,
   "id": "f28d3607-8eb9-42a4-a090-8163aea6c16b",
   "metadata": {
    "ExecuteTime": {
     "end_time": "2025-05-16T10:01:53.229367Z",
     "start_time": "2025-05-16T10:01:53.226125Z"
    }
   },
   "outputs": [],
   "source": [
    "# Define observation channels and duration\n",
    "observation = Observation(\n",
    "    start_date_and_time=datetime(2000, 3, 20, 12, 6, 39),\n",
    "    length=observation_length,\n",
    "    number_of_time_steps=int(\n",
    "        observation_length.total_seconds() / integration_time.total_seconds()\n",
    "    ),\n",
    "    start_frequency_hz=7.1e8,   #start of redshift-bin you want to measure\n",
    "    frequency_increment_hz=2e7,\n",
    "    number_of_channels=4,       #on how many frequency channels you want to observe\n",
    ")"
   ]
  },
  {
   "cell_type": "code",
   "execution_count": null,
   "id": "4a5f2c2e-a6c5-4fe2-b922-ba0b62cc55c5",
   "metadata": {
    "ExecuteTime": {
     "end_time": "2025-05-16T10:01:57.253834Z",
     "start_time": "2025-05-16T10:01:57.250497Z"
    }
   },
   "outputs": [],
   "source": [
    "# Instantiate interferometer       \n",
    "interferometer = InterferometerSimulation(\n",
    "    time_average_sec=10,\n",
    "    ignore_w_components=True,\n",
    "    uv_filter_max=10000,\n",
    "    uv_filter_units=FilterUnits.Metres,\n",
    "    use_gpus=True,\n",
    "    station_type=\"Isotropic beam\",\n",
    "    gauss_beam_fwhm_deg=0,\n",
    "    gauss_ref_freq_hz=0,\n",
    "    use_dask=False,\n",
    ")"
   ]
  },
  {
   "cell_type": "markdown",
   "id": "516c0520-1944-409b-b1a2-04e7fdb6b1c4",
   "metadata": {},
   "source": [
    "## Simulation: compute visibilities and dirty images (first, without primary beam effects)"
   ]
  },
  {
   "cell_type": "code",
   "execution_count": null,
   "id": "cbde382a-7c84-4465-acfc-9817032d42f6",
   "metadata": {
    "ExecuteTime": {
     "end_time": "2025-05-16T10:03:01.183860Z",
     "start_time": "2025-05-16T10:02:06.222921Z"
    }
   },
   "outputs": [],
   "source": [
    "# Run pipeline which computes the visibilities and dirty images\n",
    "backend_to_dirty_images = {}\n",
    "\n",
    "dirty_imager_config = RascilDirtyImagerConfig(\n",
    "    imaging_npixel=npixels,\n",
    "    imaging_cellsize=cellsize_radians,\n",
    ")\n",
    "\n",
    "for simulator_backend, telescope_name in (\n",
    "    (SimulatorBackend.RASCIL, \"MID\"),\n",
    "):\n",
    "    telescope = Telescope.constructor(telescope_name, backend=simulator_backend)\n",
    "\n",
    "    visibilities, dirty_images = line_emission_pipeline(\n",
    "        output_base_directory=output_base_directory,\n",
    "        pointings=pointings,\n",
    "        sky_model=sky,\n",
    "        observation_details=observation,\n",
    "        telescope=telescope,\n",
    "        interferometer=interferometer,\n",
    "        simulator_backend=simulator_backend,\n",
    "        dirty_imager_config=dirty_imager_config,\n",
    "        primary_beams=None,\n",
    "    )\n",
    "\n",
    "    backend_to_dirty_images[simulator_backend] = dirty_images\n",
    "\n",
    "\n",
    "print(\"Done with line emission pipelines\")\n",
    "\n",
    "\n",
    "# To use OSKAR change RascilDirtyImagerConfig to DirtyImagerConfig and SimulatorBackend.RASCIL to SimulatorBackend.OSKAR"
   ]
  },
  {
   "cell_type": "markdown",
   "id": "f1f4ed94",
   "metadata": {},
   "source": [
    "## Visualization of dirty images (and mosaics)"
   ]
  },
  {
   "cell_type": "code",
   "execution_count": null,
   "id": "2812230b-4e64-458c-b01c-8e0eb149435e",
   "metadata": {
    "ExecuteTime": {
     "end_time": "2025-05-16T10:05:25.774938Z",
     "start_time": "2025-05-16T10:03:01.195271Z"
    }
   },
   "outputs": [],
   "source": [
    "# Create mosaics of pointings for each frequency channel\n",
    "mosaicker = ImageMosaicker()\n",
    "\n",
    "backend_to_mosaics = {}\n",
    "\n",
    "for simulator_backend, dirty_images in backend_to_dirty_images.items():\n",
    "    print(f\"Computing mosaic for  simulator_backend = { simulator_backend.name }\")\n",
    "    backend_to_mosaics[simulator_backend] = []\n",
    "\n",
    "    for index_freq in range(observation.number_of_channels):\n",
    "        mosaic, _ = mosaicker.mosaic(dirty_images[index_freq])\n",
    "        backend_to_mosaics[simulator_backend].append(mosaic)\n",
    "\n",
    "\n",
    "# Add all mosaics across frequency channels to create one final mosaic image\n",
    "backend_to_summed_mosaics = {}\n",
    "\n",
    "for simulator_backend, mosaics in backend_to_mosaics.items():\n",
    "    summed_mosaic = Image(\n",
    "        data=sum(m.data for m in mosaics),\n",
    "        header=mosaics[0].header,\n",
    "    )\n",
    "    backend_to_summed_mosaics[simulator_backend] = summed_mosaic"
   ]
  },
  {
   "cell_type": "code",
   "execution_count": null,
   "id": "560f92ab-3971-4c06-a747-8437ffcd97e8",
   "metadata": {
    "ExecuteTime": {
     "end_time": "2025-05-16T10:05:44.660282Z",
     "start_time": "2025-05-16T10:05:44.089374Z"
    }
   },
   "outputs": [],
   "source": [
    "%matplotlib inline\n",
    "#Plot the mosaic for the first frequency channel\n",
    "backend_to_mosaics[SimulatorBackend.RASCIL][0].plot(\n",
    "    block=True,\n",
    "    title=f\"Mosaic for frequency channel 0 ({observation.start_frequency_hz:.1e}Hz)\",\n",
    ")"
   ]
  },
  {
   "cell_type": "code",
   "execution_count": null,
   "id": "a5cfa755-735c-489e-b388-496cc872db4b",
   "metadata": {
    "ExecuteTime": {
     "end_time": "2025-05-16T10:05:52.775742Z",
     "start_time": "2025-05-16T10:05:48.872879Z"
    }
   },
   "outputs": [],
   "source": [
    "%matplotlib inline\n",
    "#Plot the mosaics summed over all frequency channels\n",
    "backend_to_summed_mosaics[SimulatorBackend.RASCIL].plot(\n",
    "    block=True,\n",
    "    vmax=11,\n",
    "    title=\"Summed mosaic across frequency channels without primary beams\"\n",
    ")"
   ]
  },
  {
   "cell_type": "markdown",
   "id": "275e5808-2c67-477f-bf07-65c73f521f2c",
   "metadata": {
    "tags": []
   },
   "source": [
    "# Primary Beam Effects"
   ]
  },
  {
   "cell_type": "markdown",
   "id": "32d46075-7151-4ce9-a96a-98016fddd29b",
   "metadata": {},
   "source": [
    "## We instantiate different interferometers (with / without primary beam effects), and provide primary beams (Gaussian, in this example) to the `line_emission_pipeline`"
   ]
  },
  {
   "cell_type": "markdown",
   "id": "dcfe4b1d-d201-4de1-a15b-11340b30f1b0",
   "metadata": {},
   "source": [
    "## NOTE!\n",
    "- RASCIL ignores the `gaussian_*` parameters in `InterferometerSimulation`, and instead uses the `primary_beams` array provided into `line_emission_pipeline`"
   ]
  },
  {
   "cell_type": "code",
   "execution_count": null,
   "id": "abc491b8-b159-4aca-9858-3edc36062543",
   "metadata": {
    "ExecuteTime": {
     "end_time": "2025-05-16T10:06:40.359065Z",
     "start_time": "2025-05-16T10:06:40.356098Z"
    }
   },
   "outputs": [],
   "source": [
    "# Instantiate interferometers\n",
    "interferometer = InterferometerSimulation(\n",
    "    time_average_sec=10,\n",
    "    ignore_w_components=True,\n",
    "    uv_filter_max=10000,\n",
    "    uv_filter_units=FilterUnits.Metres,\n",
    "    use_gpus=True,\n",
    "    station_type=\"Isotropic beam\",\n",
    "    gauss_beam_fwhm_deg=0,\n",
    "    gauss_ref_freq_hz=0,\n",
    "    use_dask=False,\n",
    ")\n",
    "\n",
    "# If you want to work with OSKAR you need to change the station_type to \"Gaussian beam\" and change the parameters gauss_beam_fwhm_deg=2 and gauss_ref_freq=7e8"
   ]
  },
  {
   "cell_type": "markdown",
   "id": "50c2a549-27aa-47d1-a4df-e5e8503a79bb",
   "metadata": {},
   "source": [
    "## Generate data for primary beams (2D np.array for each frequency channel)\n",
    "### RASCIL supports custom primary beams -> here, we use Gaussian beams\n",
    "### For OSKAR the primary beam is created in the InterferometerSimulation"
   ]
  },
  {
   "cell_type": "code",
   "execution_count": null,
   "id": "c9bd28b5-209d-4c20-a3a8-8345ef8c27ee",
   "metadata": {
    "ExecuteTime": {
     "end_time": "2025-05-16T10:06:55.929084Z",
     "start_time": "2025-05-16T10:06:54.436335Z"
    }
   },
   "outputs": [],
   "source": [
    "primary_beams: List[RASCILImage] = []\n",
    "\n",
    "# Compute frequency channels\n",
    "frequency_channel_starts = np.linspace(\n",
    "    observation.start_frequency_hz,\n",
    "    observation.start_frequency_hz\n",
    "    + observation.frequency_increment_hz * observation.number_of_channels,\n",
    "    num=observation.number_of_channels,\n",
    "    endpoint=False,\n",
    ")"
   ]
  },
  {
   "cell_type": "code",
   "execution_count": null,
   "id": "f777d3d8",
   "metadata": {},
   "outputs": [],
   "source": [
    "# Here we create a sample beam (Gaussian)\n",
    "# as a 2D np.array of shape (npixels, npixels)\n",
    "\n",
    "for frequency in frequency_channel_starts:\n",
    "    fwhm_degrees = gaussian_beam_fwhm_for_frequency(frequency)\n",
    "    fwhm_pixels = fwhm_degrees / np.degrees(dirty_imager_config.imaging_cellsize)\n",
    "    primary_beam = generate_gaussian_beam_data(\n",
    "        fwhm_pixels=fwhm_pixels,\n",
    "        x_size=dirty_imager_config.imaging_npixel,\n",
    "        y_size=dirty_imager_config.imaging_npixel,\n",
    "    )\n",
    "    primary_beams.append(primary_beam)"
   ]
  },
  {
   "cell_type": "markdown",
   "id": "d0ef343f",
   "metadata": {},
   "source": [
    "To create a primary beam using eidos 'from eidos_beam_generator import eidos_beam_generator' und then convert the fits into 2D np.arrays"
   ]
  },
  {
   "cell_type": "markdown",
   "id": "49335064-3376-43c1-9a8b-d7b6b60a00a8",
   "metadata": {},
   "source": [
    "## We then run the simulations with and without primary beams, and compare the resulting dirty images"
   ]
  },
  {
   "cell_type": "code",
   "execution_count": null,
   "id": "e5eaf99e-ca34-43cd-943b-ff36270ad80e",
   "metadata": {
    "ExecuteTime": {
     "end_time": "2025-05-16T16:04:11.729899Z",
     "start_time": "2025-05-16T16:04:11.417644Z"
    }
   },
   "outputs": [],
   "source": [
    "backend_to_dirty_images_without_primary_beams = {}\n",
    "\n",
    "for simulator_backend, telescope_name in (\n",
    "    (SimulatorBackend.RASCIL, \"MID\"), # For OSKAR change to SimulatorBackend.OSKAR\n",
    "):\n",
    "    telescope = Telescope.constructor(telescope_name, backend=simulator_backend)\n",
    "\n",
    "    # Compute visibilities without primary beam\n",
    "\n",
    "    (\n",
    "        visibilities_without_primary_beam,\n",
    "        dirty_images_without_primary_beam\n",
    "    ) = line_emission_pipeline(\n",
    "        output_base_directory=output_base_directory,\n",
    "        pointings=pointings,\n",
    "        sky_model=sky,\n",
    "        observation_details=observation,\n",
    "        telescope=telescope,\n",
    "        interferometer=interferometer,\n",
    "        simulator_backend=simulator_backend,\n",
    "        dirty_imager_config=dirty_imager_config,\n",
    "        primary_beams=None,\n",
    "    )\n",
    "\n",
    "    backend_to_dirty_images_without_primary_beams[\n",
    "        simulator_backend\n",
    "    ] = dirty_images_without_primary_beam"
   ]
  },
  {
   "cell_type": "code",
   "execution_count": null,
   "id": "4917411e",
   "metadata": {},
   "outputs": [],
   "source": [
    "# Compute visibilities with primary beams\n",
    "\n",
    "backend_to_dirty_images_with_primary_beams ={}\n",
    "\n",
    "(\n",
    "        visibilities_with_primary_beam,\n",
    "        dirty_images_with_primary_beam\n",
    "    ) = line_emission_pipeline(\n",
    "        output_base_directory=output_base_directory,\n",
    "        pointings=pointings,\n",
    "        sky_model=sky,\n",
    "        observation_details=observation,\n",
    "        telescope=telescope,\n",
    "        interferometer=interferometer,\n",
    "        simulator_backend=simulator_backend,\n",
    "        dirty_imager_config=dirty_imager_config,\n",
    "        primary_beams=primary_beams,\n",
    "    )\n",
    "\n",
    "backend_to_dirty_images_with_primary_beams[\n",
    "        simulator_backend\n",
    "    ] = dirty_images_with_primary_beam"
   ]
  },
  {
   "cell_type": "code",
   "execution_count": null,
   "id": "b9f7405f",
   "metadata": {},
   "outputs": [],
   "source": [
    "# Create mosaics of pointings for each frequency channel without primary beam\n",
    "mosaicker = ImageMosaicker()\n",
    "\n",
    "backend_to_mosaics = {}\n",
    "\n",
    "for simulator_backend, dirty_images in backend_to_dirty_images.items():\n",
    "    print(f\"Computing mosaic for  simulator_backend = { simulator_backend.name }\")\n",
    "    backend_to_mosaics[simulator_backend] = []\n",
    "\n",
    "    for index_freq in range(observation.number_of_channels):\n",
    "        mosaic, _ = mosaicker.mosaic(dirty_images[index_freq])\n",
    "        backend_to_mosaics[simulator_backend].append(mosaic)\n",
    "\n",
    "\n",
    "# Add all mosaics across frequency channels to create one final mosaic image without primary beams\n",
    "backend_to_summed_mosaics = {}\n",
    "\n",
    "for simulator_backend, mosaics in backend_to_mosaics.items():\n",
    "    summed_mosaic = Image(\n",
    "        data=sum(m.data for m in mosaics),\n",
    "        header=mosaics[0].header,\n",
    "    )\n",
    "    backend_to_summed_mosaics[simulator_backend] = summed_mosaic"
   ]
  },
  {
   "cell_type": "code",
   "execution_count": null,
   "id": "a72706c3",
   "metadata": {},
   "outputs": [],
   "source": [
    "# Create mosaics of pointings for each frequency channel with primary beam\n",
    "backend_to_mosaics_primary_beam = {}\n",
    "\n",
    "for simulator_backend, dirty_images_with_primary_beam in backend_to_dirty_images_with_primary_beams.items():\n",
    "    print(f\"Computing mosaic for  simulator_backend = { simulator_backend.name }\")\n",
    "    backend_to_mosaics_primary_beam[simulator_backend] = []\n",
    "\n",
    "    for index_freq in range(observation.number_of_channels):\n",
    "        mosaic, _ = mosaicker.mosaic(dirty_images_with_primary_beam[index_freq])\n",
    "        backend_to_mosaics_primary_beam[simulator_backend].append(mosaic)\n",
    "\n",
    "# Add all mosaics across frequency channels to create one final mosaic image with primary beams\n",
    "backend_to_summed_mosaics_primary_beam = {}\n",
    "\n",
    "for simulator_backend, mosaics in backend_to_mosaics_primary_beam.items():\n",
    "    summed_mosaic_primary = Image(\n",
    "        data=sum(m.data for m in mosaics),\n",
    "        header=mosaics[0].header,\n",
    "    )\n",
    "    backend_to_summed_mosaics_primary_beam[simulator_backend] = summed_mosaic_primary"
   ]
  },
  {
   "cell_type": "code",
   "execution_count": null,
   "id": "69e18906-2a20-46bd-87c1-71c3d0621f7b",
   "metadata": {
    "ExecuteTime": {
     "end_time": "2025-05-16T10:09:49.591115Z",
     "start_time": "2025-05-16T10:09:45.844256Z"
    }
   },
   "outputs": [],
   "source": [
    "%matplotlib inline\n",
    "backend_to_summed_mosaics_primary_beam[SimulatorBackend.RASCIL].plot(\n",
    "    block=True,\n",
    "    title=\"Summed mosaic with Gaussian primary beams across channels\"\n",
    ")\n",
    "\n",
    "backend_to_summed_mosaics[SimulatorBackend.RASCIL].plot(\n",
    "    block=True,\n",
    "    title=\"Summed mosaic without primary beams across channels\"\n",
    ")"
   ]
  },
  {
   "cell_type": "code",
   "execution_count": null,
   "id": "ba713d6a-f92a-4081-bfa5-3e5bb7678521",
   "metadata": {},
   "outputs": [],
   "source": []
  }
 ],
 "metadata": {
  "kernelspec": {
   "display_name": "Python 3",
   "language": "python",
   "name": "python3"
  },
  "language_info": {
   "codemirror_mode": {
    "name": "ipython",
    "version": 3
   },
   "file_extension": ".py",
   "mimetype": "text/x-python",
   "name": "python",
   "nbconvert_exporter": "python",
   "pygments_lexer": "ipython3",
   "version": "3.9.21"
  }
 },
 "nbformat": 4,
 "nbformat_minor": 5
}
