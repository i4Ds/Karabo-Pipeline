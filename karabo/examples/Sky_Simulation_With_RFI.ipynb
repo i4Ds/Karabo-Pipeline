{
 "cells": [
  {
   "cell_type": "markdown",
   "id": "75776554b8eb13d1",
   "metadata": {},
   "source": [
    "# Performing a Sky Simulation with RFI Sources"
   ]
  },
  {
   "cell_type": "markdown",
   "id": "a2e5f73c8ad7d318",
   "metadata": {},
   "source": [
    "This example shows how to include RFI into the simulation. We take an arbitrary sky and use karabo to simulate the visibilities and the interference due to satellites."
   ]
  },
  {
   "cell_type": "code",
   "execution_count": null,
   "id": "initial_id",
   "metadata": {
    "ExecuteTime": {
     "end_time": "2025-05-22T08:02:35.056853Z",
     "start_time": "2025-05-22T08:02:31.872296Z"
    },
    "collapsed": true
   },
   "outputs": [],
   "source": [
    "import os\n",
    "from karabo.simulation.observation import Observation\n",
    "from karabo.simulation.sky_model import SkyModel\n",
    "from karabo.simulation.telescope import Telescope, VLAVersions\n",
    "from karabo.simulation.interferometer import FilterUnits, InterferometerSimulation\n",
    "from rascil.processing_components import create_visibility_from_ms\n",
    "from karabo.simulator_backend import SimulatorBackend\n",
    "from karabo.util.file_handler import FileHandler\n",
    "from karabo.simulation.signal.rfi_signal import RFISignal\n",
    "\n",
    "import numpy as np\n",
    "from astropy.coordinates import SkyCoord\n",
    "from astropy import units as u\n",
    "from datetime import datetime, timedelta\n",
    "from pathlib import Path\n",
    "\n",
    "from karabo.imaging.imager_oskar import OskarDirtyImager, OskarDirtyImagerConfig\n",
    "from karabo.imaging.imager_rascil import RascilDirtyImager, RascilDirtyImagerConfig\n",
    "from ska_sdp_datamodels.image import create_image\n",
    "\n",
    "import matplotlib.pyplot as plt\n",
    "\n",
    "%matplotlib inline"
   ]
  },
  {
   "cell_type": "code",
   "execution_count": null,
   "id": "8a619a64",
   "metadata": {},
   "outputs": [],
   "source": [
    "# Parameter definition\n",
    "ra_deg = 90\n",
    "dec_deg = 34\n",
    "start_time = datetime(2000, 3, 20, 6, 6, 39)\n",
    "obs_length = timedelta(hours=0, minutes=15, seconds=0, milliseconds=0)\n",
    "start_freq = 1.5e8\n",
    "freq_bin = 1.0e7\n",
    "number_of_time_steps = 100\n",
    "number_of_channels = 2"
   ]
  },
  {
   "cell_type": "code",
   "execution_count": null,
   "id": "a882333ac2bb430f",
   "metadata": {
    "ExecuteTime": {
     "end_time": "2025-05-22T08:02:37.082357Z",
     "start_time": "2025-05-22T08:02:35.901643Z"
    }
   },
   "outputs": [],
   "source": [
    "phasecenter = (ra_deg, dec_deg)\n",
    "# Read in and plot the sky model\n",
    "# sky = SkyModel.sky_test()\n",
    "\n",
    "sky = SkyModel()\n",
    "sky_data = np.zeros((81, SkyModel.SOURCES_COLS))\n",
    "a = np.arange(phasecenter[0] - 2.0, phasecenter[0] + 2.5, 0.5)\n",
    "b = np.arange(phasecenter[1] - 2.0, phasecenter[1] + 2.5, 0.5)\n",
    "ra_arr, dec_arr = np.meshgrid(a, b)\n",
    "sky_data[:, 0] = ra_arr.flatten()\n",
    "sky_data[:, 1] = dec_arr.flatten()\n",
    "sky_data[:, 2] = 1\n",
    "sky.add_point_sources(sky_data)\n",
    "\n",
    "\n",
    "# Sky Model if you want ONE POINT SOURCE ONLY\n",
    "# sky = SkyModel()\n",
    "# sky_data = np.array([[20.0, -30.0, 1]])\n",
    "# sky.add_point_sources(sky_data)\n",
    "\n",
    "sky.explore_sky(phase_center=phasecenter, wcs_enabled=False)"
   ]
  },
  {
   "cell_type": "code",
   "execution_count": null,
   "id": "1fbb7e246a1786e7",
   "metadata": {
    "ExecuteTime": {
     "end_time": "2025-05-21T13:48:48.353482Z",
     "start_time": "2025-05-21T13:48:48.350154Z"
    }
   },
   "outputs": [],
   "source": [
    "# Set Imaging parameters\n",
    "fov = 3 / 180 * np.pi\n",
    "imaging_cellsize = (1.2 / 60) / 180 * np.pi\n",
    "imaging_npixel = int(fov / imaging_cellsize)\n",
    "imaging_npixel = imaging_npixel if imaging_npixel % 2 == 0 else imaging_npixel + 1\n",
    "print(f\"Image size of : {imaging_npixel}\")\n",
    "\n",
    "dirty_imager_config = OskarDirtyImagerConfig(\n",
    "    imaging_npixel=imaging_npixel,\n",
    "    imaging_cellsize=imaging_cellsize,\n",
    ")\n",
    "dirty_imager = OskarDirtyImager(dirty_imager_config)"
   ]
  },
  {
   "cell_type": "code",
   "execution_count": null,
   "id": "15c05657a50514f1",
   "metadata": {
    "ExecuteTime": {
     "end_time": "2025-05-21T13:48:48.408466Z",
     "start_time": "2025-05-21T13:48:48.404861Z"
    }
   },
   "outputs": [],
   "source": [
    "# Simulation settings that are the same for OSKAR and RASCIL\n",
    "observation = Observation(\n",
    "    phase_centre_ra_deg=ra_deg,\n",
    "    phase_centre_dec_deg=dec_deg,\n",
    "    start_date_and_time=start_time,\n",
    "    length=obs_length,\n",
    "    number_of_time_steps=number_of_time_steps,\n",
    "    start_frequency_hz=start_freq,\n",
    "    frequency_increment_hz=freq_bin,\n",
    "    number_of_channels=number_of_channels,\n",
    ")\n",
    "\n",
    "# observation.compute_hour_angles_of_observation()"
   ]
  },
  {
   "cell_type": "code",
   "execution_count": null,
   "id": "ba9a5eb5",
   "metadata": {},
   "outputs": [],
   "source": [
    "# `sim-vis` which is used for the RFI simulation relies on data from SpaceTrack service.\n",
    "# It needs a login with username and password. Thus, we must provide the login as\n",
    "# a .yaml file.\n",
    "credentials_filename = \"my_test_credentials.yaml\"\n",
    "f = open(credentials_filename, \"w\")\n",
    "f.write(\"username: <add your username>\\n\")\n",
    "f.write(\"password: <add ypur password>\\n\")\n",
    "f.close()"
   ]
  },
  {
   "cell_type": "code",
   "execution_count": null,
   "id": "f8c30254",
   "metadata": {},
   "outputs": [],
   "source": [
    "# The class `RFISignal` controls the simulation of RFI sources\n",
    "rfi_simulation = RFISignal()\n",
    "rfi_simulation.set_credentials_filename(credentials_filename)"
   ]
  },
  {
   "cell_type": "code",
   "execution_count": null,
   "id": "4abace93",
   "metadata": {},
   "outputs": [],
   "source": [
    "simulation = InterferometerSimulation(\n",
    "    channel_bandwidth_hz=1.0e7,\n",
    "    time_average_sec=8,\n",
    "    ignore_w_components=True,\n",
    "    uv_filter_units=FilterUnits.Metres,\n",
    "    use_gpus=False,\n",
    "    use_dask=False,\n",
    "    station_type=\"Isotropic beam\",  # This is only used by OSKAR (beam setting in OSKAR)\n",
    ")"
   ]
  },
  {
   "cell_type": "code",
   "execution_count": null,
   "id": "74ec6bb4",
   "metadata": {},
   "outputs": [],
   "source": [
    "output_base_directory = Path(\n",
    "    FileHandler().get_tmp_dir(\n",
    "        prefix=\"line-emission-\",\n",
    "        purpose=\"Example line emission simulation\",\n",
    "    )\n",
    ")"
   ]
  },
  {
   "cell_type": "code",
   "execution_count": null,
   "id": "d296a141405c1791",
   "metadata": {
    "ExecuteTime": {
     "end_time": "2025-05-21T13:48:52.393762Z",
     "start_time": "2025-05-21T13:48:48.460080Z"
    }
   },
   "outputs": [],
   "source": [
    "#### OSKAR SIMULATION\n",
    "# Load the telescope (SKA-Mid)\n",
    "telescope = Telescope.constructor(\"VLA\", VLAVersions.D, backend=SimulatorBackend.OSKAR)\n",
    "\n",
    "visibility = simulation.run_simulation(\n",
    "    telescope=telescope,\n",
    "    sky=sky,\n",
    "    observation=observation,\n",
    "    backend=SimulatorBackend.OSKAR,\n",
    "    primary_beam=None,\n",
    "    visibility_format=\"MS\",\n",
    "    visibility_path=os.path.join(output_base_directory, \"OSKAR.MS\"),\n",
    "    rfi_signals=rfi_simulation,\n",
    ")"
   ]
  },
  {
   "cell_type": "code",
   "execution_count": null,
   "id": "83438750",
   "metadata": {},
   "outputs": [],
   "source": [
    "visibility.path"
   ]
  },
  {
   "cell_type": "code",
   "execution_count": null,
   "id": "c539c5d4235fdd1c",
   "metadata": {
    "ExecuteTime": {
     "end_time": "2025-05-21T13:48:58.336329Z",
     "start_time": "2025-05-21T13:48:52.408859Z"
    }
   },
   "outputs": [],
   "source": [
    "# Imaging with RASCIL\n",
    "dirty_rascil = dirty_imager.create_dirty_image(visibility)\n",
    "dirty_image = dirty_rascil.plot(\n",
    "    title=\"Dirty image RASCIL\", vmin=0, vmax=1.0, wcs_enabled=True\n",
    ")"
   ]
  }
 ],
 "metadata": {
  "kernelspec": {
   "display_name": "karabo-dev310",
   "language": "python",
   "name": "python3"
  },
  "language_info": {
   "codemirror_mode": {
    "name": "ipython",
    "version": 3
   },
   "file_extension": ".py",
   "mimetype": "text/x-python",
   "name": "python",
   "nbconvert_exporter": "python",
   "pygments_lexer": "ipython3",
   "version": "3.10.18"
  }
 },
 "nbformat": 4,
 "nbformat_minor": 5
}
