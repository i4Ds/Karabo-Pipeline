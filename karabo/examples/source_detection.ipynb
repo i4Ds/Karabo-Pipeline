{
 "cells": [
  {
   "cell_type": "markdown",
   "id": "7269719f",
   "metadata": {},
   "source": [
    "# Source Detection\n",
    "\n",
    "This notebook shows an end to end radio interferometry pipeline from the sky to final image using the Karabo pipeline. In addition, we show you how to get the pixel coordinates of the point sources of the produced image. The simulation of the sky, telescope and observation are based on [OSKAR](https://ska-telescope.gitlab.io/sim/oskar/), the imaging on [RASCIL](https://ska-telescope.gitlab.io/external/rascil/index.html).\n",
    "\n",
    "For this example we use the GLEAM survey [GLEAM EGC catalog version 2](https://vizier.cds.unistra.fr/viz-bin/VizieR-3), which can be downloaded from the [VizieR](https://cdsarc.unistra.fr/viz-bin/cat/VIII/100) service. To download the full survey, you have to change **preferences/max** to unlimited. The download here was done using the **FITS (binary) Table** option which can be selected in the dropdown menu below. The GLEAM survey was created using the Murchison Widefield Array (MWA), the low-frequency Square Kilometre Array (SKA1 LOW) precursor located in western Australia. The catalogue covers 24,402 square degrees, over declinations south of +30° and galactic latitudes outside 10° of the galactic plane, excluding some areas such as the Magellanic clouds. It contains 307,456 radio sources with 20 separate flux density measurements across 72-231 MHz, selected from a time- and frequency- integrated image centred at 200 MHz, with a resolution of ~=2'."
   ]
  },
  {
   "cell_type": "code",
   "execution_count": null,
   "id": "946e5544",
   "metadata": {
    "pycharm": {
     "name": "#%%\n"
    }
   },
   "outputs": [],
   "source": [
    "import sys, os\n",
    "from datetime import timedelta, datetime\n",
    "import oskar\n",
    "import matplotlib\n",
    "import matplotlib.pyplot as plt\n",
    "from astropy.visualization import astropy_mpl_style\n",
    "import numpy as np\n",
    "\n",
    "from astropy.utils.data import get_pkg_data_filename\n",
    "from astropy.io import fits\n",
    "from astropy import wcs\n",
    "\n",
    "from karabo.simulation.sky_model import *\n",
    "from karabo.simulation.observation import *\n",
    "from karabo.simulation.utils import *\n",
    "from karabo.simulation.telescope import *\n",
    "from karabo.simulation.observation import *\n",
    "from karabo.simulation.interferometer import *\n",
    "from karabo.util.jupyter import setup_jupyter_env"
   ]
  },
  {
   "cell_type": "markdown",
   "source": [],
   "metadata": {
    "collapsed": false,
    "pycharm": {
     "name": "#%% md\n"
    }
   }
  },
  {
   "cell_type": "markdown",
   "source": [
    "## Sky Catalog\n",
    "\n",
    "Of course, any catalog downloaded in any format such as .fits or .csv can be used. Since the structures of the catalogs can differ significantly, we leave the preprocessing to the format of the `SkyModel` (from `karabo.simulation.sky_model`) to the user. The `SkyModel` has the following catalog format:\n",
    "\n",
    "- right_ascension:\n",
    "- declination:\n",
    "- stokes_I_flux:\n",
    "- stokes_Q_flux:\n",
    "- stokes_U_flux:\n",
    "- stokes_V_flux:\n",
    "- reference_frequency:\n",
    "- spectral_index:\n",
    "- rotation_measure:\n",
    "- major_axis_FWHM:\n",
    "- minor_axis_FWHM:\n",
    "- position_angle:\n",
    "- source_id:\n",
    "\n",
    "For this example we only use right ascension (RAJ2000) and declination (DEJ2000) and the Stokes I peak flux intensity at 76 MHz (Fp076). There are some sources which have no flux values in the corresponding frequency band. These must be removed first."
   ],
   "metadata": {
    "collapsed": false,
    "pycharm": {
     "name": "#%% md\n"
    }
   }
  },
  {
   "cell_type": "code",
   "execution_count": null,
   "outputs": [],
   "source": [
    "gleam = SkyModel.get_fits_catalog('./asu-3.fit')\n",
    "df_gleam = gleam.to_pandas()\n",
    "df_gleam.head()"
   ],
   "metadata": {
    "collapsed": false,
    "pycharm": {
     "name": "#%%\n"
    }
   }
  },
  {
   "cell_type": "markdown",
   "source": [
    "Now we create the `sky_array` with the help of the catalog. This can either be included in the constructor of the `SkyModel`. Additional sources can be added using `add_point_sources` or `add_point_source`. The values of the sources can be modified using the square brackets `add_point_sources` like an `np.ndarray`. In the next chunk we initialize the sources and pass them to the constructor. Since some features like source ID's are on the far right and we would otherwise have to fill everything with null vectors (null vectors are the default values for undefined columns), we do this afterwards with `sky[:,[9,10,11,12]] = df_gleam[['a076','b076','pa076','GLEAM']]`."
   ],
   "metadata": {
    "collapsed": false,
    "pycharm": {
     "name": "#%% md\n"
    }
   }
  },
  {
   "cell_type": "code",
   "execution_count": null,
   "outputs": [],
   "source": [
    "ref_freq = 76e6\n",
    "df_gleam = df_gleam[~df_gleam['Fp076'].isna()]\n",
    "ra, dec, fp = df_gleam['RAJ2000'], df_gleam['DEJ2000'], df_gleam['Fp076']\n",
    "sky_array = np.column_stack((ra, dec, fp, np.zeros(ra.shape[0]), np.zeros(ra.shape[0]), \n",
    "                             np.zeros(ra.shape[0]), [ref_freq]*ra.shape[0])).astype('float64')\n",
    "sky = SkyModel(sky_array)\n",
    "# major axis FWHM, minor axis FWHM, position angle, object id\n",
    "sky[:,[9,10,11,12]] = df_gleam[['a076','b076','pa076','GLEAM']]\n",
    "sky.num_sources"
   ],
   "metadata": {
    "collapsed": false,
    "pycharm": {
     "name": "#%%\n"
    }
   }
  },
  {
   "cell_type": "markdown",
   "source": [
    "Before further steps are taken, the phase center of the telescope must be defined."
   ],
   "metadata": {
    "collapsed": false,
    "pycharm": {
     "name": "#%% md\n"
    }
   }
  },
  {
   "cell_type": "code",
   "execution_count": null,
   "outputs": [],
   "source": [
    "phase_center = [250,-80] # ra,dec"
   ],
   "metadata": {
    "collapsed": false,
    "pycharm": {
     "name": "#%%\n"
    }
   }
  },
  {
   "cell_type": "markdown",
   "source": [
    "Now we just look at the Log10 Stokes I flux of the GLEAM survey. This provides a better overview of how the survey looks like on the sphere."
   ],
   "metadata": {
    "collapsed": false,
    "pycharm": {
     "name": "#%% md\n"
    }
   }
  },
  {
   "cell_type": "code",
   "execution_count": null,
   "outputs": [],
   "source": [
    "def plot_sky(sky, phase_center):\n",
    "    ra0, dec0 = phase_center[0], phase_center[1]\n",
    "    data = sky[:,0:3]\n",
    "    ra = np.radians(data[:, 0] - ra0)\n",
    "    dec = np.radians(data[:, 1])\n",
    "    flux = data[:, 2]\n",
    "    log_flux = np.log10(flux)\n",
    "    x = np.cos(dec) * np.sin(ra)\n",
    "    y = np.cos(np.radians(dec0)) * np.sin(dec) - \\\n",
    "                np.sin(np.radians(dec0)) * np.cos(dec) * np.cos(ra)\n",
    "    sc = plt.scatter(x, y, s=.5, c=log_flux, cmap='plasma',\n",
    "                vmin=np.min(log_flux), vmax=np.max(log_flux))\n",
    "    plt.axis('equal')\n",
    "    plt.xlabel('x direction cosine')\n",
    "    plt.ylabel('y direction cosine')\n",
    "    plt.colorbar(sc, label='Log10(Stokes I flux [Jy])')\n",
    "    plt.show()\n",
    "    \n",
    "plot_sky(sky, phase_center)"
   ],
   "metadata": {
    "collapsed": false,
    "pycharm": {
     "name": "#%%\n"
    }
   }
  },
  {
   "cell_type": "markdown",
   "source": [
    "Now that we have determined the phase center we can take a closer look at how the point sources are distributed around the center. For this we use a coordinate 2d image projection with the phase center as the origin using the the world coordinate system ([wcs](https://docs.astropy.org/en/stable/wcs/index.html)) of astropy. Specific information about the wcs parameters can be found [here](https://docs.astropy.org/en/stable/api/astropy.wcs.Wcsprm.html). For this illustration, we take the Stokes I flux intensity into account to address for it's brightness. The value conversion is done using a function which is defined in the argument `cfun` of `explore_sky`. Here we uses np.log10 as default. If you wish to not have the intensity colored just set `cfun=None`.\n",
    "\n",
    "Important here is that `explore_sky` sets up a default `wcs` if none is set. So if you want to have a specific `wcs` for the `SkyModel` you have to set it prior or afterwards yourself."
   ],
   "metadata": {
    "collapsed": false,
    "pycharm": {
     "name": "#%% md\n"
    }
   }
  },
  {
   "cell_type": "code",
   "execution_count": null,
   "outputs": [],
   "source": [
    "sky.explore_sky(phase_center=phase_center, figsize=(8,6))"
   ],
   "metadata": {
    "collapsed": false,
    "pycharm": {
     "name": "#%%\n"
    }
   }
  },
  {
   "cell_type": "markdown",
   "source": [
    "Now, to have only a partition of the sky, we can use the `filter_by_radius`, which filters from the phase center with an inner and outer radius in degrees. We provide an additional filter `filter_by_flux` which filters the sky using the Stokes I flux and `filter_by_frequency` which filters the sky using the reference frequency. In addition, we set the world coordinate system `astropy.wcs` using `setup_default_wcs` at the `phase_center`. The wcs is later needed for coordinate transformation when the imaging parameters are known."
   ],
   "metadata": {
    "collapsed": false,
    "pycharm": {
     "name": "#%% md\n"
    }
   }
  },
  {
   "cell_type": "code",
   "execution_count": null,
   "outputs": [],
   "source": [
    "# first filter sky by inner and outer radius in degrees from the phase center\n",
    "sky.filter_by_radius(0, .55, phase_center[0], phase_center[1])\n",
    "sky.setup_default_wcs(phase_center, set_as_instance=True)\n",
    "sky.num_sources"
   ],
   "metadata": {
    "collapsed": false,
    "pycharm": {
     "name": "#%%\n"
    }
   }
  },
  {
   "cell_type": "markdown",
   "source": [
    "Now let's look at the filtered sources."
   ],
   "metadata": {
    "collapsed": false,
    "pycharm": {
     "name": "#%% md\n"
    }
   }
  },
  {
   "cell_type": "code",
   "execution_count": null,
   "outputs": [],
   "source": [
    "sky.explore_sky(phase_center=phase_center, figsize=(8,6), s=80,\n",
    "                xlim=(-.55,.55), ylim=(-.55,.55), with_labels=True)"
   ],
   "metadata": {
    "collapsed": false,
    "pycharm": {
     "name": "#%%\n"
    }
   }
  },
  {
   "cell_type": "markdown",
   "source": [
    "### Telescope & Observation Module\n",
    "\n",
    "Now that we have filtered the sky and set the phase center, we define and simulate the telescope and the observation. With `get_OSKAR_Example_Telescope` we get a `Telescope` object (from `karabo.simulation.telescope`) consisting of an interferometer with 30 aperture array stations, each with 2587 antenna elements."
   ],
   "metadata": {
    "collapsed": false,
    "pycharm": {
     "name": "#%% md\n"
    }
   }
  },
  {
   "cell_type": "code",
   "execution_count": null,
   "outputs": [],
   "source": [
    "telescope = get_OSKAR_Example_Telescope()"
   ],
   "metadata": {
    "collapsed": false,
    "pycharm": {
     "name": "#%%\n"
    }
   }
  },
  {
   "cell_type": "markdown",
   "source": [
    "Then we define an `observation` (from `karabo.simulation.observation`) where the observation parameters are defined."
   ],
   "metadata": {
    "collapsed": false,
    "pycharm": {
     "name": "#%% md\n"
    }
   }
  },
  {
   "cell_type": "code",
   "execution_count": null,
   "outputs": [],
   "source": [
    "observation = Observation(start_frequency_hz=ref_freq, start_date_and_time=datetime(2000, 1, 1, 12, 0),\n",
    "                          length=timedelta(hours=12), number_of_channels=16, frequency_increment_hz=20e6,\n",
    "                          phase_centre_ra_deg=phase_center[0], phase_centre_dec_deg=phase_center[1],\n",
    "                          number_of_time_steps=24)"
   ],
   "metadata": {
    "collapsed": false,
    "pycharm": {
     "name": "#%%\n"
    }
   }
  },
  {
   "cell_type": "markdown",
   "source": [
    "Now we set simulation parameters using `InterferometerSimulation` (from `karabo.simulation.intererometer`) in the constructor and start the simulation using `run_simulation`."
   ],
   "metadata": {
    "collapsed": false,
    "pycharm": {
     "name": "#%% md\n"
    }
   }
  },
  {
   "cell_type": "code",
   "execution_count": null,
   "outputs": [],
   "source": [
    "interferometer = InterferometerSimulation(ms_path='./visibilities_gleam.ms', channel_bandwidth_hz=1e6,\n",
    "                                          time_average_sec=10)"
   ],
   "metadata": {
    "collapsed": false,
    "pycharm": {
     "name": "#%%\n"
    }
   }
  },
  {
   "cell_type": "code",
   "execution_count": null,
   "outputs": [],
   "source": [
    "interferometer.run_simulation(telescope, sky, observation)"
   ],
   "metadata": {
    "collapsed": false,
    "pycharm": {
     "name": "#%%\n"
    }
   }
  },
  {
   "cell_type": "markdown",
   "source": [
    "The visibilities are now stored in the casa measurement set 'visibilities_gleam.ms' and can be used for imaging."
   ],
   "metadata": {
    "collapsed": false,
    "pycharm": {
     "name": "#%% md\n"
    }
   }
  },
  {
   "cell_type": "markdown",
   "source": [
    "### Imaging\n",
    "\n",
    "Now we start the imaging process using the `Imager` (from `karabo.simulation.imager`) with the visibilities 'visibilities_gleam.ms'. The `Imager` allows various configurations concerning imaging, calibration, Clean and Dask. Important for source detection is `imaging_npixel` which defines the number of pixels in x,y rsp. ra,dec direction and `imaging_cellsize` which defines the coverage of a pixel in radian. In this example the image covers $3.878509448876288\\times 10^{-5} * 2048 * 180 / \\pi \\approx 4.55°$ degrees, so $4.55/2 = 2.28°$ degrees in each direction from the phase center."
   ],
   "metadata": {
    "collapsed": false,
    "pycharm": {
     "name": "#%% md\n"
    }
   }
  },
  {
   "cell_type": "code",
   "execution_count": null,
   "outputs": [],
   "source": [
    "from karabo.Imaging.imager import *\n",
    "\n",
    "imager = Imager(ingest_msname='./visibilities_gleam.ms',\n",
    "                ingest_dd=[0],\n",
    "                ingest_vis_nchan=16,\n",
    "                ingest_chan_per_blockvis=1,\n",
    "                ingest_average_blockvis=True,\n",
    "                imaging_npixel=2048,\n",
    "                imaging_cellsize=3.878509448876288e-05,\n",
    "                imaging_weighting='robust',\n",
    "                imaging_robustness=-.5,\n",
    "                clean_nmajor=0,\n",
    "                clean_algorithm='mmclean',\n",
    "                clean_scales=[0,6,10,30,60],\n",
    "                clean_fractional_threshold=.3,\n",
    "                clean_threshold=.12e-3,\n",
    "                clean_nmoment=5,\n",
    "                clean_psf_support=640,\n",
    "                clean_restored_output='integrated')\n",
    "\n",
    "result = imager.imaging_rascil()"
   ],
   "metadata": {
    "collapsed": false,
    "pycharm": {
     "name": "#%%\n"
    }
   }
  },
  {
   "cell_type": "code",
   "execution_count": null,
   "outputs": [],
   "source": [
    "deconvolved, restored, residual = result\n",
    "\n",
    "import matplotlib\n",
    "matplotlib.use('tkagg')\n",
    "%matplotlib inline\n",
    "\n",
    "deconvolved.plot_image()\n",
    "deconvolved.save_as_fits(\"./deconvolved.fits\")\n",
    "restored.plot_image()\n",
    "restored.save_as_fits(\"./restored.fits\")\n",
    "residual.plot_image()\n",
    "residual.save_as_fits(\"./residual.fits\")"
   ],
   "metadata": {
    "collapsed": false,
    "pycharm": {
     "name": "#%%\n"
    }
   }
  },
  {
   "cell_type": "code",
   "execution_count": null,
   "outputs": [],
   "source": [
    "import bdsf\n",
    "bdsf.process_image(rest.position.name, thresh_isl=4)"
   ],
   "metadata": {
    "collapsed": false,
    "pycharm": {
     "name": "#%%\n"
    }
   }
  },
  {
   "cell_type": "markdown",
   "source": [
    "## Pixel Coordinates\n",
    "\n",
    "Now we want to have the pixel coordinates on the created image. We achieve this with the `get_pixel_coord` function of the `Imager` object. For this we can use directly the object used for imaging or a new one. Creating a new/different `Imager` object is useful if you haven't executed the imaging process itself or the imaging was done using another tool.\n",
    "\n",
    "So we get the pixel coordinates `px` and `py` as well as the indices of the objects of the `SkyModel`. Thus we can infer the pixel coordinates directly to the sources. Below the image coordinates are shown proportional to the image size."
   ],
   "metadata": {
    "collapsed": false,
    "pycharm": {
     "name": "#%% md\n"
    }
   }
  },
  {
   "cell_type": "code",
   "execution_count": null,
   "outputs": [],
   "source": [
    "from karabo.Imaging.imager import Imager\n",
    "import matplotlib\n",
    "matplotlib.use('tkagg')\n",
    "%matplotlib inline\n",
    "\n",
    "imager2 = Imager(imaging_npixel=2048,\n",
    "                 imaging_cellsize=3.878509448876288e-05)\n",
    "\n",
    "px, py, sky_idxs = imager2.get_pixel_coord(sky=sky, filter_outlier=True)\n",
    "fig, ax = plt.subplots(figsize=(8,8))\n",
    "ax.scatter(px, py)\n",
    "plt.xlim((0,2048))\n",
    "plt.ylim((0,2048))\n",
    "\n",
    "for i, txt in enumerate(sky[sky_idxs,-1]):\n",
    "    #ax.annotate(txt, (px[i], py[i]))\n",
    "    pass\n",
    "plt.show()"
   ],
   "metadata": {
    "collapsed": false,
    "pycharm": {
     "name": "#%%\n"
    }
   }
  },
  {
   "cell_type": "code",
   "execution_count": 9,
   "id": "892f86d7",
   "metadata": {
    "pycharm": {
     "is_executing": true,
     "name": "#%%\n"
    }
   },
   "outputs": [
    {
     "name": "stderr",
     "output_type": "stream",
     "text": [
      "\u001B[1;34m--> Opened '/var/folders/t_/dts5nn157lggfx17hwmndrt00000gn/T/tmp9v07551n'\u001B[0m\n",
      "Image size .............................. : (2048, 2048) pixels\n",
      "Number of channels ...................... : 16\n",
      "Number of Stokes parameters ............. : 1\n"
     ]
    },
    {
     "ename": "KeyError",
     "evalue": "\"Keyword 'HISTORY' not found.\"",
     "output_type": "error",
     "traceback": [
      "\u001B[0;31m---------------------------------------------------------------------------\u001B[0m",
      "\u001B[0;31mKeyError\u001B[0m                                  Traceback (most recent call last)",
      "File \u001B[0;32m~/opt/anaconda3/envs/karabo_dev_env/lib/python3.8/site-packages/bdsf/readimage.py:377\u001B[0m, in \u001B[0;36mOp_readimage.init_beam\u001B[0;34m(self, img)\u001B[0m\n\u001B[1;32m    376\u001B[0m \u001B[38;5;28;01mtry\u001B[39;00m:\n\u001B[0;32m--> 377\u001B[0m     beam \u001B[38;5;241m=\u001B[39m (\u001B[43mhdr\u001B[49m\u001B[43m[\u001B[49m\u001B[38;5;124;43m'\u001B[39;49m\u001B[38;5;124;43mBMAJ\u001B[39;49m\u001B[38;5;124;43m'\u001B[39;49m\u001B[43m]\u001B[49m, hdr[\u001B[38;5;124m'\u001B[39m\u001B[38;5;124mBMIN\u001B[39m\u001B[38;5;124m'\u001B[39m], hdr[\u001B[38;5;124m'\u001B[39m\u001B[38;5;124mBPA\u001B[39m\u001B[38;5;124m'\u001B[39m])\n\u001B[1;32m    378\u001B[0m     found \u001B[38;5;241m=\u001B[39m \u001B[38;5;28;01mTrue\u001B[39;00m\n",
      "File \u001B[0;32m~/opt/anaconda3/envs/karabo_dev_env/lib/python3.8/site-packages/astropy/io/fits/header.py:157\u001B[0m, in \u001B[0;36mHeader.__getitem__\u001B[0;34m(self, key)\u001B[0m\n\u001B[1;32m    155\u001B[0m     keyword \u001B[38;5;241m=\u001B[39m key\n\u001B[0;32m--> 157\u001B[0m card \u001B[38;5;241m=\u001B[39m \u001B[38;5;28mself\u001B[39m\u001B[38;5;241m.\u001B[39m_cards[\u001B[38;5;28;43mself\u001B[39;49m\u001B[38;5;241;43m.\u001B[39;49m\u001B[43m_cardindex\u001B[49m\u001B[43m(\u001B[49m\u001B[43mkey\u001B[49m\u001B[43m)\u001B[49m]\n\u001B[1;32m    159\u001B[0m \u001B[38;5;28;01mif\u001B[39;00m card\u001B[38;5;241m.\u001B[39mfield_specifier \u001B[38;5;129;01mis\u001B[39;00m \u001B[38;5;129;01mnot\u001B[39;00m \u001B[38;5;28;01mNone\u001B[39;00m \u001B[38;5;129;01mand\u001B[39;00m keyword \u001B[38;5;241m==\u001B[39m card\u001B[38;5;241m.\u001B[39mrawkeyword:\n\u001B[1;32m    160\u001B[0m     \u001B[38;5;66;03m# This is RVKC; if only the top-level keyword was specified return\u001B[39;00m\n\u001B[1;32m    161\u001B[0m     \u001B[38;5;66;03m# the raw value, not the parsed out float value\u001B[39;00m\n",
      "File \u001B[0;32m~/opt/anaconda3/envs/karabo_dev_env/lib/python3.8/site-packages/astropy/io/fits/header.py:1754\u001B[0m, in \u001B[0;36mHeader._cardindex\u001B[0;34m(self, key)\u001B[0m\n\u001B[1;32m   1753\u001B[0m \u001B[38;5;28;01mif\u001B[39;00m \u001B[38;5;129;01mnot\u001B[39;00m indices:\n\u001B[0;32m-> 1754\u001B[0m     \u001B[38;5;28;01mraise\u001B[39;00m \u001B[38;5;167;01mKeyError\u001B[39;00m(\u001B[38;5;124mf\u001B[39m\u001B[38;5;124m\"\u001B[39m\u001B[38;5;124mKeyword \u001B[39m\u001B[38;5;132;01m{\u001B[39;00mkeyword\u001B[38;5;132;01m!r}\u001B[39;00m\u001B[38;5;124m not found.\u001B[39m\u001B[38;5;124m\"\u001B[39m)\n\u001B[1;32m   1756\u001B[0m \u001B[38;5;28;01mtry\u001B[39;00m:\n",
      "\u001B[0;31mKeyError\u001B[0m: \"Keyword 'BMAJ' not found.\"",
      "\nDuring handling of the above exception, another exception occurred:\n",
      "\u001B[0;31mKeyError\u001B[0m                                  Traceback (most recent call last)",
      "Input \u001B[0;32mIn [9]\u001B[0m, in \u001B[0;36m<cell line: 2>\u001B[0;34m()\u001B[0m\n\u001B[1;32m      1\u001B[0m \u001B[38;5;28;01mimport\u001B[39;00m \u001B[38;5;21;01mbdsf\u001B[39;00m\n\u001B[0;32m----> 2\u001B[0m \u001B[43mbdsf\u001B[49m\u001B[38;5;241;43m.\u001B[39;49m\u001B[43mprocess_image\u001B[49m\u001B[43m(\u001B[49m\u001B[43mresidual\u001B[49m\u001B[38;5;241;43m.\u001B[39;49m\u001B[43mposition\u001B[49m\u001B[38;5;241;43m.\u001B[39;49m\u001B[43mname\u001B[49m\u001B[43m,\u001B[49m\u001B[43m \u001B[49m\u001B[43mthresh_isl\u001B[49m\u001B[38;5;241;43m=\u001B[39;49m\u001B[38;5;241;43m4\u001B[39;49m\u001B[43m)\u001B[49m\n",
      "File \u001B[0;32m~/opt/anaconda3/envs/karabo_dev_env/lib/python3.8/site-packages/bdsf/__init__.py:253\u001B[0m, in \u001B[0;36mprocess_image\u001B[0;34m(input, **kwargs)\u001B[0m\n\u001B[1;32m    249\u001B[0m     img\u001B[38;5;241m.\u001B[39mopts\u001B[38;5;241m.\u001B[39mdebug \u001B[38;5;241m=\u001B[39m kwargs[\u001B[38;5;124m'\u001B[39m\u001B[38;5;124mdebug\u001B[39m\u001B[38;5;124m'\u001B[39m]\n\u001B[1;32m    251\u001B[0m \u001B[38;5;66;03m# Now process it. Any kwargs specified by the user will\u001B[39;00m\n\u001B[1;32m    252\u001B[0m \u001B[38;5;66;03m# override those read in from the parameter save file or dictionary.\u001B[39;00m\n\u001B[0;32m--> 253\u001B[0m \u001B[43mimg\u001B[49m\u001B[38;5;241;43m.\u001B[39;49m\u001B[43mprocess\u001B[49m\u001B[43m(\u001B[49m\u001B[38;5;241;43m*\u001B[39;49m\u001B[38;5;241;43m*\u001B[39;49m\u001B[43mkwargs\u001B[49m\u001B[43m)\u001B[49m\n\u001B[1;32m    254\u001B[0m \u001B[38;5;28;01mreturn\u001B[39;00m img\n",
      "File \u001B[0;32m~/opt/anaconda3/envs/karabo_dev_env/lib/python3.8/site-packages/bdsf/image.py:135\u001B[0m, in \u001B[0;36mImage.process\u001B[0;34m(self, **kwargs)\u001B[0m\n\u001B[1;32m    133\u001B[0m \u001B[38;5;124;03m\"\"\"Process Image object\"\"\"\u001B[39;00m\n\u001B[1;32m    134\u001B[0m \u001B[38;5;28;01mfrom\u001B[39;00m \u001B[38;5;21;01m.\u001B[39;00m \u001B[38;5;28;01mimport\u001B[39;00m interface\n\u001B[0;32m--> 135\u001B[0m success \u001B[38;5;241m=\u001B[39m \u001B[43minterface\u001B[49m\u001B[38;5;241;43m.\u001B[39;49m\u001B[43mprocess\u001B[49m\u001B[43m(\u001B[49m\u001B[38;5;28;43mself\u001B[39;49m\u001B[43m,\u001B[49m\u001B[43m \u001B[49m\u001B[38;5;241;43m*\u001B[39;49m\u001B[38;5;241;43m*\u001B[39;49m\u001B[43mkwargs\u001B[49m\u001B[43m)\u001B[49m\n\u001B[1;32m    136\u001B[0m \u001B[38;5;28;01mreturn\u001B[39;00m success\n",
      "File \u001B[0;32m~/opt/anaconda3/envs/karabo_dev_env/lib/python3.8/site-packages/bdsf/interface.py:62\u001B[0m, in \u001B[0;36mprocess\u001B[0;34m(img, **kwargs)\u001B[0m\n\u001B[1;32m     60\u001B[0m img, op_chain \u001B[38;5;241m=\u001B[39m get_op_chain(img)\n\u001B[1;32m     61\u001B[0m \u001B[38;5;28;01mif\u001B[39;00m op_chain \u001B[38;5;129;01mis\u001B[39;00m \u001B[38;5;129;01mnot\u001B[39;00m \u001B[38;5;28;01mNone\u001B[39;00m:\n\u001B[0;32m---> 62\u001B[0m     \u001B[43m_run_op_list\u001B[49m\u001B[43m(\u001B[49m\u001B[43mimg\u001B[49m\u001B[43m,\u001B[49m\u001B[43m \u001B[49m\u001B[43mop_chain\u001B[49m\u001B[43m)\u001B[49m\n\u001B[1;32m     63\u001B[0m     img\u001B[38;5;241m.\u001B[39m_prev_opts \u001B[38;5;241m=\u001B[39m img\u001B[38;5;241m.\u001B[39mopts\u001B[38;5;241m.\u001B[39mto_dict()\n\u001B[1;32m     64\u001B[0m \u001B[38;5;28;01mreturn\u001B[39;00m \u001B[38;5;28;01mTrue\u001B[39;00m\n",
      "File \u001B[0;32m~/opt/anaconda3/envs/karabo_dev_env/lib/python3.8/site-packages/bdsf/__init__.py:152\u001B[0m, in \u001B[0;36m_run_op_list\u001B[0;34m(img, chain)\u001B[0m\n\u001B[1;32m    150\u001B[0m         answ \u001B[38;5;241m=\u001B[39m raw_input_no_history(prompt)\n\u001B[1;32m    151\u001B[0m op\u001B[38;5;241m.\u001B[39m__start_time \u001B[38;5;241m=\u001B[39m time()\n\u001B[0;32m--> 152\u001B[0m \u001B[43mop\u001B[49m\u001B[43m(\u001B[49m\u001B[43mimg\u001B[49m\u001B[43m)\u001B[49m\n\u001B[1;32m    153\u001B[0m op\u001B[38;5;241m.\u001B[39m__stop_time \u001B[38;5;241m=\u001B[39m time()\n\u001B[1;32m    154\u001B[0m gc\u001B[38;5;241m.\u001B[39mcollect()\n",
      "File \u001B[0;32m~/opt/anaconda3/envs/karabo_dev_env/lib/python3.8/site-packages/bdsf/readimage.py:122\u001B[0m, in \u001B[0;36mOp_readimage.__call__\u001B[0;34m(self, img)\u001B[0m\n\u001B[1;32m    120\u001B[0m \u001B[38;5;66;03m### initialize wcs conversion routines\u001B[39;00m\n\u001B[1;32m    121\u001B[0m \u001B[38;5;28mself\u001B[39m\u001B[38;5;241m.\u001B[39minit_wcs(img)\n\u001B[0;32m--> 122\u001B[0m \u001B[38;5;28;43mself\u001B[39;49m\u001B[38;5;241;43m.\u001B[39;49m\u001B[43minit_beam\u001B[49m\u001B[43m(\u001B[49m\u001B[43mimg\u001B[49m\u001B[43m)\u001B[49m\n\u001B[1;32m    123\u001B[0m \u001B[38;5;28mself\u001B[39m\u001B[38;5;241m.\u001B[39minit_freq(img)\n\u001B[1;32m    124\u001B[0m year, code \u001B[38;5;241m=\u001B[39m \u001B[38;5;28mself\u001B[39m\u001B[38;5;241m.\u001B[39mget_equinox(img)\n",
      "File \u001B[0;32m~/opt/anaconda3/envs/karabo_dev_env/lib/python3.8/site-packages/bdsf/readimage.py:381\u001B[0m, in \u001B[0;36mOp_readimage.init_beam\u001B[0;34m(self, img)\u001B[0m\n\u001B[1;32m    378\u001B[0m     found \u001B[38;5;241m=\u001B[39m \u001B[38;5;28;01mTrue\u001B[39;00m\n\u001B[1;32m    379\u001B[0m \u001B[38;5;28;01mexcept\u001B[39;00m:\n\u001B[1;32m    380\u001B[0m     \u001B[38;5;66;03m### try see if AIPS as put the beam in HISTORY as usual\u001B[39;00m\n\u001B[0;32m--> 381\u001B[0m    \u001B[38;5;28;01mfor\u001B[39;00m h \u001B[38;5;129;01min\u001B[39;00m \u001B[43mhdr\u001B[49m\u001B[43m[\u001B[49m\u001B[38;5;124;43m'\u001B[39;49m\u001B[38;5;124;43mHISTORY\u001B[39;49m\u001B[38;5;124;43m'\u001B[39;49m\u001B[43m]\u001B[49m:\n\u001B[1;32m    382\u001B[0m       \u001B[38;5;66;03m# Check if h is a string or a FITS Card object (long headers are\u001B[39;00m\n\u001B[1;32m    383\u001B[0m       \u001B[38;5;66;03m# split into Cards as of PyFITS 3.0.4)\u001B[39;00m\n\u001B[1;32m    384\u001B[0m       \u001B[38;5;28;01mif\u001B[39;00m \u001B[38;5;129;01mnot\u001B[39;00m \u001B[38;5;28misinstance\u001B[39m(h, \u001B[38;5;28mstr\u001B[39m):\n\u001B[1;32m    385\u001B[0m         hstr \u001B[38;5;241m=\u001B[39m h\u001B[38;5;241m.\u001B[39mvalue\n",
      "File \u001B[0;32m~/opt/anaconda3/envs/karabo_dev_env/lib/python3.8/site-packages/astropy/io/fits/header.py:150\u001B[0m, in \u001B[0;36mHeader.__getitem__\u001B[0;34m(self, key)\u001B[0m\n\u001B[1;32m    148\u001B[0m         key \u001B[38;5;241m=\u001B[39m key\u001B[38;5;241m.\u001B[39mupper()\n\u001B[1;32m    149\u001B[0m         \u001B[38;5;66;03m# Special case for commentary cards\u001B[39;00m\n\u001B[0;32m--> 150\u001B[0m         \u001B[38;5;28;01mreturn\u001B[39;00m \u001B[43m_HeaderCommentaryCards\u001B[49m\u001B[43m(\u001B[49m\u001B[38;5;28;43mself\u001B[39;49m\u001B[43m,\u001B[49m\u001B[43m \u001B[49m\u001B[43mkey\u001B[49m\u001B[43m)\u001B[49m\n\u001B[1;32m    152\u001B[0m \u001B[38;5;28;01mif\u001B[39;00m \u001B[38;5;28misinstance\u001B[39m(key, \u001B[38;5;28mtuple\u001B[39m):\n\u001B[1;32m    153\u001B[0m     keyword \u001B[38;5;241m=\u001B[39m key[\u001B[38;5;241m0\u001B[39m]\n",
      "File \u001B[0;32m~/opt/anaconda3/envs/karabo_dev_env/lib/python3.8/site-packages/astropy/io/fits/header.py:2214\u001B[0m, in \u001B[0;36m_HeaderCommentaryCards.__init__\u001B[0;34m(self, header, keyword)\u001B[0m\n\u001B[1;32m   2212\u001B[0m \u001B[38;5;28msuper\u001B[39m()\u001B[38;5;241m.\u001B[39m\u001B[38;5;21m__init__\u001B[39m(header)\n\u001B[1;32m   2213\u001B[0m \u001B[38;5;28mself\u001B[39m\u001B[38;5;241m.\u001B[39m_keyword \u001B[38;5;241m=\u001B[39m keyword\n\u001B[0;32m-> 2214\u001B[0m \u001B[38;5;28mself\u001B[39m\u001B[38;5;241m.\u001B[39m_count \u001B[38;5;241m=\u001B[39m \u001B[38;5;28;43mself\u001B[39;49m\u001B[38;5;241;43m.\u001B[39;49m\u001B[43m_header\u001B[49m\u001B[38;5;241;43m.\u001B[39;49m\u001B[43mcount\u001B[49m\u001B[43m(\u001B[49m\u001B[38;5;28;43mself\u001B[39;49m\u001B[38;5;241;43m.\u001B[39;49m\u001B[43m_keyword\u001B[49m\u001B[43m)\u001B[49m\n\u001B[1;32m   2215\u001B[0m \u001B[38;5;28mself\u001B[39m\u001B[38;5;241m.\u001B[39m_indices \u001B[38;5;241m=\u001B[39m \u001B[38;5;28mslice\u001B[39m(\u001B[38;5;28mself\u001B[39m\u001B[38;5;241m.\u001B[39m_count)\u001B[38;5;241m.\u001B[39mindices(\u001B[38;5;28mself\u001B[39m\u001B[38;5;241m.\u001B[39m_count)\n",
      "File \u001B[0;32m~/opt/anaconda3/envs/karabo_dev_env/lib/python3.8/site-packages/astropy/io/fits/header.py:1380\u001B[0m, in \u001B[0;36mHeader.count\u001B[0;34m(self, keyword)\u001B[0m\n\u001B[1;32m   1377\u001B[0m \u001B[38;5;66;03m# We have to look before we leap, since otherwise _keyword_indices,\u001B[39;00m\n\u001B[1;32m   1378\u001B[0m \u001B[38;5;66;03m# being a defaultdict, will create an entry for the nonexistent keyword\u001B[39;00m\n\u001B[1;32m   1379\u001B[0m \u001B[38;5;28;01mif\u001B[39;00m keyword \u001B[38;5;129;01mnot\u001B[39;00m \u001B[38;5;129;01min\u001B[39;00m \u001B[38;5;28mself\u001B[39m\u001B[38;5;241m.\u001B[39m_keyword_indices:\n\u001B[0;32m-> 1380\u001B[0m     \u001B[38;5;28;01mraise\u001B[39;00m \u001B[38;5;167;01mKeyError\u001B[39;00m(\u001B[38;5;124mf\u001B[39m\u001B[38;5;124m\"\u001B[39m\u001B[38;5;124mKeyword \u001B[39m\u001B[38;5;132;01m{\u001B[39;00mkeyword\u001B[38;5;132;01m!r}\u001B[39;00m\u001B[38;5;124m not found.\u001B[39m\u001B[38;5;124m\"\u001B[39m)\n\u001B[1;32m   1382\u001B[0m \u001B[38;5;28;01mreturn\u001B[39;00m \u001B[38;5;28mlen\u001B[39m(\u001B[38;5;28mself\u001B[39m\u001B[38;5;241m.\u001B[39m_keyword_indices[keyword])\n",
      "\u001B[0;31mKeyError\u001B[0m: \"Keyword 'HISTORY' not found.\""
     ]
    }
   ],
   "source": [
    "import bdsf\n",
    "bdsf.process_image(rest.position.name, thresh_isl=4)"
   ]
  },
  {
   "cell_type": "markdown",
   "id": "5f1a51e6",
   "metadata": {
    "tags": []
   },
   "source": [
    "## Pixel Coordinates\n",
    "\n",
    "Now we want to have the pixel coordinates on the created image. We achieve this with the `get_pixel_coord` function of the `Imager` object. For this we can use directly the object used for imaging or a new one. Creating a new/different `Imager` object is useful if you haven't executed the imaging process itself or the imaging was done using another tool.\n",
    "\n",
    "So we get the pixel coordinates `px` and `py` as well as the indices of the objects of the `SkyModel`. Thus we can infer the pixel coordinates directly to the sources. Below the image coordinates are shown proportional to the image size."
   ]
  },
  {
   "cell_type": "code",
   "execution_count": null,
   "id": "2d2086fa-f58a-416f-a587-229b852ebb47",
   "metadata": {},
   "outputs": [],
   "source": [
    "from karabo.Imaging.imager import Imager\n",
    "import matplotlib\n",
    "matplotlib.use('tkagg')\n",
    "%matplotlib inline\n",
    "\n",
    "imager2 = Imager(imaging_npixel=2048,\n",
    "                 imaging_cellsize=3.878509448876288e-05)\n",
    "\n",
    "px, py, sky_idxs = imager2.get_pixel_coord(sky=sky, filter_outlier=True)\n",
    "fig, ax = plt.subplots(figsize=(8,8))\n",
    "ax.scatter(px, py)\n",
    "plt.xlim((0,2048))\n",
    "plt.ylim((0,2048))\n",
    "\n",
    "for i, txt in enumerate(sky[sky_idxs,-1]):\n",
    "    #ax.annotate(txt, (px[i], py[i]))\n",
    "    pass\n",
    "plt.show()"
   ]
  },
  {
   "cell_type": "code",
   "execution_count": null,
   "id": "086f540e",
   "metadata": {},
   "outputs": [],
   "source": [
    "pd.DataFrame({'sources':sky[sky_idxs,-1],'px':px,'py':py})"
   ]
  },
  {
   "cell_type": "markdown",
   "id": "ee6697c3",
   "metadata": {},
   "source": [
    "In summary, these are the minimum steps necessary to get the pixel coordinates. The creation of a `SkyModel`, its filtering (radius, flux, frequency) if desired, the definition of a phase center with which a `astropy.wcs` is created, and the call of `get_pixel_coord` to get the actual pixel coordinates."
   ]
  },
  {
   "cell_type": "code",
   "execution_count": null,
   "id": "4afcc151",
   "metadata": {},
   "outputs": [],
   "source": [
    "sky = SkyModel(sky_array) # obviously you have to provide the catalog in a proper form\n",
    "sky[:,[9,10,11,12]] = df_gleam[['a076','b076','pa076','GLEAM']]\n",
    "phase_center = [250,-80] # ra,dec\n",
    "sky.filter_by_radius(0, .55, phase_center[0], phase_center[1])\n",
    "sky.setup_default_wcs(phase_center, set_as_instance=True) # if you want to use another wcs, use sky.set_wcs\n",
    "imager2 = Imager(imaging_npixel=2048,\n",
    "                 imaging_cellsize=3.878509448876288e-05)\n",
    "px, py, sky_idxs = imager2.get_pixel_coord(sky=sky, filter_outlier=True)\n",
    "px, py, sky_idxs"
   ]
  }
 ],
 "metadata": {
  "interpreter": {
   "hash": "a424f534593172213fc036407833d41a2357dbed8b39ef293519ab55d7a4ebc3"
  },
  "kernelspec": {
   "display_name": "karabo_dev_env",
   "language": "python",
   "name": "karabo_dev_env"
  },
  "language_info": {
   "codemirror_mode": {
    "name": "ipython",
    "version": 3
   },
   "file_extension": ".py",
   "mimetype": "text/x-python",
   "name": "python",
   "nbconvert_exporter": "python",
   "pygments_lexer": "ipython3",
   "version": "3.8.13"
  }
 },
 "nbformat": 4,
 "nbformat_minor": 5
}