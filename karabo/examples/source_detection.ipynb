{
 "cells": [
  {
   "cell_type": "markdown",
   "id": "7269719f",
   "metadata": {
    "pycharm": {
     "name": "#%% md\n"
    }
   },
   "source": [
    "# Source Detection\n",
    "\n",
    "This notebook shows an end to end radio interferometry pipeline from the sky to final image using the Karabo pipeline. In addition, we show you how to get the pixel coordinates of the point sources of the produced image. The simulation of the sky, telescope and observation are based on [OSKAR](https://ska-telescope.gitlab.io/sim/oskar/), the imaging on [RASCIL](https://ska-telescope.gitlab.io/external/rascil/index.html).\n",
    "\n",
    "For this example we use the GLEAM survey [GLEAM EGC catalog version 2](https://vizier.cds.unistra.fr/viz-bin/VizieR-3), which can be downloaded from the [VizieR](https://cdsarc.unistra.fr/viz-bin/cat/VIII/100) service. To download the full survey, you have to change **preferences/max** to unlimited. The download here was done using the **FITS (binary) Table** option which can be selected in the dropdown menu below. The GLEAM survey was created using the Murchison Widefield Array (MWA), the low-frequency Square Kilometre Array (SKA1 LOW) precursor located in western Australia. The catalogue covers 24,402 square degrees, over declinations south of +30° and galactic latitudes outside 10° of the galactic plane, excluding some areas such as the Magellanic clouds. It contains 307,456 radio sources with 20 separate flux density measurements across 72-231 MHz, selected from a time- and frequency- integrated image centred at 200 MHz, with a resolution of ~=2'."
   ]
  },
  {
   "cell_type": "code",
   "execution_count": 1,
   "outputs": [],
   "source": [
    "from datetime import datetime, timedelta\n",
    "\n",
    "from karabo.simulation.interferometer import InterferometerSimulation\n",
    "from karabo.simulation.observation import Observation\n",
    "from karabo.simulation.sky_model import SkyModel\n",
    "from karabo.simulation.telescope import Telescope\n",
    "from karabo.sourcedetection import SourceDetectionResult, SourceDetectionEvaluation"
   ],
   "metadata": {
    "collapsed": false,
    "pycharm": {
     "name": "#%%\n"
    }
   }
  },
  {
   "cell_type": "markdown",
   "source": [
    "## Sky Catalog\n",
    "\n",
    "Of course, any catalog downloaded in any format such as .fits or .csv can be used. Since the structures of the catalogs can differ significantly, we leave the preprocessing to the format of the `SkyModel` (from `karabo.simulation.sky_model`) to the user. The `SkyModel` has the following catalog format:\n",
    "\n",
    "- right_ascension:\n",
    "- declination:\n",
    "- stokes_I_flux:\n",
    "- stokes_Q_flux:\n",
    "- stokes_U_flux:\n",
    "- stokes_V_flux:\n",
    "- reference_frequency:\n",
    "- spectral_index:\n",
    "- rotation_measure:\n",
    "- major_axis_FWHM:\n",
    "- minor_axis_FWHM:\n",
    "- position_angle:\n",
    "- source_id:\n",
    "\n",
    "For this example we only use right ascension (RAJ2000) and declination (DEJ2000) and the Stokes I peak flux intensity at 76 MHz (Fp076). There are some sources which have no flux values in the corresponding frequency band. These must be removed first."
   ],
   "metadata": {
    "collapsed": false,
    "pycharm": {
     "name": "#%% md\n"
    }
   }
  },
  {
   "cell_type": "code",
   "execution_count": 2,
   "outputs": [
    {
     "data": {
      "text/plain": "<karabo.simulation.sky_model.SkyModel at 0x7ff52eaaeb20>"
     },
     "execution_count": 2,
     "metadata": {},
     "output_type": "execute_result"
    }
   ],
   "source": [
    "sky = SkyModel.get_GLEAM_Sky()\n",
    "sky"
   ],
   "metadata": {
    "collapsed": false,
    "pycharm": {
     "name": "#%%\n"
    }
   }
  },
  {
   "cell_type": "code",
   "execution_count": 3,
   "outputs": [
    {
     "data": {
      "text/plain": "307087"
     },
     "execution_count": 3,
     "metadata": {},
     "output_type": "execute_result"
    }
   ],
   "source": [
    "sky.num_sources"
   ],
   "metadata": {
    "collapsed": false,
    "pycharm": {
     "name": "#%%\n"
    }
   }
  },
  {
   "cell_type": "markdown",
   "source": [
    "Before further steps are taken, the phase center of the telescope must be defined."
   ],
   "metadata": {
    "collapsed": false,
    "pycharm": {
     "name": "#%% md\n"
    }
   }
  },
  {
   "cell_type": "code",
   "execution_count": 4,
   "outputs": [],
   "source": [
    "phase_center = [250, -80]  # ra,dec"
   ],
   "metadata": {
    "collapsed": false,
    "pycharm": {
     "name": "#%%\n"
    }
   }
  },
  {
   "cell_type": "markdown",
   "source": [
    "Now we just look at the Log10 Stokes I flux of the GLEAM survey. This provides a better overview of how the survey looks like on the sphere."
   ],
   "metadata": {
    "collapsed": false,
    "pycharm": {
     "name": "#%% md\n"
    }
   }
  },
  {
   "cell_type": "code",
   "execution_count": 5,
   "outputs": [
    {
     "name": "stderr",
     "output_type": "stream",
     "text": [
      "/Users/cvoegele/development/Karabo-Pipeline/karabo/simulation/sky_model.py:350: RuntimeWarning: invalid value encountered in log10\n",
      "  log_flux = np.log10(flux)\n"
     ]
    },
    {
     "data": {
      "text/plain": "<Figure size 640x480 with 2 Axes>"
     },
     "metadata": {},
     "output_type": "display_data"
    }
   ],
   "source": [
    "sky.plot_sky(phase_center)"
   ],
   "metadata": {
    "collapsed": false,
    "pycharm": {
     "name": "#%%\n"
    }
   }
  },
  {
   "cell_type": "markdown",
   "source": [
    "Now that we have determined the phase center we can take a closer look at how the point sources are distributed around the center. For this we use a coordinate 2d image projection with the phase center as the origin using the the world coordinate system ([wcs](https://docs.astropy.org/en/stable/wcs/index.html)) of astropy. Specific information about the wcs parameters can be found [here](https://docs.astropy.org/en/stable/api/astropy.wcs.Wcsprm.html). For this illustration, we take the Stokes I flux intensity into account to address for it's brightness. The value conversion is done using a function which is defined in the argument `cfun` of `explore_sky`. Here we uses np.log10 as default. If you wish to not have the intensity colored just set `cfun=None`.\n",
    "\n",
    "Important here is that `explore_sky` sets up a default `wcs` if none is set. So if you want to have a specific `wcs` for the `SkyModel` you have to set it prior or afterwards yourself."
   ],
   "metadata": {
    "collapsed": false,
    "pycharm": {
     "name": "#%% md\n"
    }
   }
  },
  {
   "cell_type": "code",
   "execution_count": 6,
   "outputs": [
    {
     "name": "stderr",
     "output_type": "stream",
     "text": [
      "/Users/cvoegele/development/Karabo-Pipeline/karabo/simulation/sky_model.py:316: RuntimeWarning: invalid value encountered in log10\n",
      "  flux = cfun(flux)\n"
     ]
    },
    {
     "data": {
      "text/plain": "<Figure size 800x600 with 2 Axes>"
     },
     "metadata": {},
     "output_type": "display_data"
    }
   ],
   "source": [
    "sky.explore_sky(phase_center=phase_center, figsize=(8, 6))"
   ],
   "metadata": {
    "collapsed": false,
    "pycharm": {
     "name": "#%%\n"
    }
   }
  },
  {
   "cell_type": "markdown",
   "source": [
    "Now, to have only a partition of the sky, we can use the `filter_by_radius`, which filters from the phase center with an inner and outer radius in degrees. We provide an additional filter `filter_by_flux` which filters the sky using the Stokes I flux and `filter_by_frequency` which filters the sky using the reference frequency. In addition, we set the world coordinate system `astropy.wcs` using `setup_default_wcs` at the `phase_center`. The wcs is later needed for coordinate transformation when the imaging parameters are known."
   ],
   "metadata": {
    "collapsed": false,
    "pycharm": {
     "name": "#%% md\n"
    }
   }
  },
  {
   "cell_type": "code",
   "execution_count": 7,
   "outputs": [
    {
     "data": {
      "text/plain": "8"
     },
     "execution_count": 7,
     "metadata": {},
     "output_type": "execute_result"
    }
   ],
   "source": [
    "# first filter sky by inner and outer radius in degrees from the phase center\n",
    "filtered_sky = sky.filter_by_radius(0, .55, phase_center[0], phase_center[1])\n",
    "filtered_sky.setup_default_wcs(phase_center)\n",
    "filtered_sky.num_sources"
   ],
   "metadata": {
    "collapsed": false,
    "pycharm": {
     "name": "#%%\n"
    }
   }
  },
  {
   "cell_type": "markdown",
   "source": [
    "Now let's look at the filtered sources."
   ],
   "metadata": {
    "collapsed": false,
    "pycharm": {
     "name": "#%% md\n"
    }
   }
  },
  {
   "cell_type": "code",
   "execution_count": 8,
   "outputs": [
    {
     "name": "stderr",
     "output_type": "stream",
     "text": [
      "/Users/cvoegele/development/Karabo-Pipeline/karabo/simulation/sky_model.py:316: RuntimeWarning: invalid value encountered in log10\n",
      "  flux = cfun(flux)\n"
     ]
    },
    {
     "data": {
      "text/plain": "<Figure size 800x600 with 2 Axes>"
     },
     "metadata": {},
     "output_type": "display_data"
    }
   ],
   "source": [
    "sky.explore_sky(phase_center=phase_center, figsize=(8, 6), s=80,\n",
    "                xlim=(-.55, .55), ylim=(-.55, .55), with_labels=True)"
   ],
   "metadata": {
    "collapsed": false,
    "pycharm": {
     "name": "#%%\n"
    }
   }
  },
  {
   "cell_type": "markdown",
   "source": [
    "### Telescope & Observation Module\n",
    "\n",
    "Now that we have filtered the sky and set the phase center, we define and simulate the telescope and the observation. With `get_OSKAR_Example_Telescope` we get a `Telescope` object (from `karabo.simulation.telescope`) consisting of an interferometer with 30 aperture array stations, each with 2587 antenna elements."
   ],
   "metadata": {
    "collapsed": false,
    "pycharm": {
     "name": "#%% md\n"
    }
   }
  },
  {
   "cell_type": "code",
   "execution_count": 9,
   "outputs": [
    {
     "data": {
      "text/plain": "<Figure size 640x480 with 1 Axes>"
     },
     "metadata": {},
     "output_type": "display_data"
    }
   ],
   "source": [
    "telescope = Telescope.get_OSKAR_Example_Telescope()\n",
    "telescope.plot_telescope()"
   ],
   "metadata": {
    "collapsed": false,
    "pycharm": {
     "name": "#%%\n"
    }
   }
  },
  {
   "cell_type": "markdown",
   "source": [
    "Then we define an `observation` (from `karabo.simulation.observation`) where the observation parameters are defined."
   ],
   "metadata": {
    "collapsed": false,
    "pycharm": {
     "name": "#%% md\n"
    }
   }
  },
  {
   "cell_type": "code",
   "execution_count": 10,
   "outputs": [],
   "source": [
    "observation = Observation(start_frequency_hz=100e6, start_date_and_time=datetime(2000, 1, 1, 12, 0),\n",
    "                          length=timedelta(hours=12), number_of_channels=16, frequency_increment_hz=20e6,\n",
    "                          phase_centre_ra_deg=phase_center[0], phase_centre_dec_deg=phase_center[1],\n",
    "                          number_of_time_steps=24)"
   ],
   "metadata": {
    "collapsed": false,
    "pycharm": {
     "name": "#%%\n"
    }
   }
  },
  {
   "cell_type": "markdown",
   "source": [
    "Now we set simulation parameters using `InterferometerSimulation` (from `karabo.simulation.intererometer`) in the constructor and start the simulation using `run_simulation`."
   ],
   "metadata": {
    "collapsed": false,
    "pycharm": {
     "name": "#%% md\n"
    }
   }
  },
  {
   "cell_type": "code",
   "execution_count": 11,
   "outputs": [],
   "source": [
    "interferometer = InterferometerSimulation(channel_bandwidth_hz=1e6, time_average_sec=10)"
   ],
   "metadata": {
    "collapsed": false,
    "pycharm": {
     "name": "#%%\n"
    }
   }
  },
  {
   "cell_type": "code",
   "execution_count": 12,
   "outputs": [
    {
     "name": "stdout",
     "output_type": "stream",
     "text": [
      "W|                                                                   \n",
      "W|== WARNING: No GPU capability available.\n",
      "W|                                                                   \n"
     ]
    }
   ],
   "source": [
    "simulated_sky = interferometer.run_simulation(telescope, filtered_sky, observation)"
   ],
   "metadata": {
    "collapsed": false,
    "pycharm": {
     "name": "#%%\n"
    }
   }
  },
  {
   "cell_type": "markdown",
   "source": [
    "### Imaging\n",
    "\n",
    "Now we start the imaging process using the `Imager` (from `karabo.simulation.imager`) with the visibilities in 'simulated_sky'. The `Imager` allows various configurations concerning imaging, calibration, Clean and Dask. Important for source detection is `imaging_npixel` which defines the number of pixels in x,y rsp. ra,dec direction and `imaging_cellsize` which defines the coverage of a pixel in radian. In this example the image covers $3.878509448876288\\times 10^{-5} * 2048 * 180 / \\pi \\approx 4.55°$ degrees, so $4.55/2 = 2.28°$ degrees in each direction from the phase center."
   ],
   "metadata": {
    "collapsed": false,
    "pycharm": {
     "name": "#%% md\n"
    }
   }
  },
  {
   "cell_type": "code",
   "execution_count": 13,
   "outputs": [
    {
     "name": "stdout",
     "output_type": "stream",
     "text": [
      "Client Dashboard Address: http://127.0.0.1:8787/status\n",
      "LocalCluster(d7de024d, 'tcp://127.0.0.1:52974', workers=3, threads=3, memory=16.00 GiB)\n"
     ]
    }
   ],
   "source": [
    "from karabo.Imaging.imager import *\n",
    "\n",
    "cell_size = 3.878509448876288e-05*2\n",
    "npixel = 2048\n",
    "\n",
    "imager = Imager(simulated_sky,\n",
    "                ingest_dd=[0],\n",
    "                ingest_vis_nchan=16,\n",
    "                ingest_chan_per_blockvis=1,\n",
    "                ingest_average_blockvis=True,\n",
    "                imaging_npixel=npixel,\n",
    "                imaging_cellsize=cell_size,\n",
    "                imaging_weighting='robust',\n",
    "                imaging_robustness=-.5)\n",
    "\n",
    "result = imager.imaging_rascil(\n",
    "    clean_nmajor=0,\n",
    "    clean_algorithm='mmclean',\n",
    "    clean_scales=[0, 6, 10, 30, 60],\n",
    "    clean_fractional_threshold=.3,\n",
    "    clean_threshold=.12e-3,\n",
    "    clean_nmoment=5,\n",
    "    clean_psf_support=640,\n",
    "    clean_restored_output='integrated')"
   ],
   "metadata": {
    "collapsed": false,
    "pycharm": {
     "name": "#%%\n"
    }
   }
  },
  {
   "cell_type": "code",
   "execution_count": 14,
   "outputs": [
    {
     "name": "stdout",
     "output_type": "stream",
     "text": [
      "WCS Keywords\n",
      "\n",
      "Number of WCS axes: 4\n",
      "CTYPE : 'RA---SIN'  'DEC--SIN'  'STOKES'  'FREQ'  \n",
      "CRVAL : 250.0  -80.0  1.0  100000000.0  \n",
      "CRPIX : 1025.0  1025.0  1.0  1.0  \n",
      "PC1_1 PC1_2 PC1_3 PC1_4  : 1.0  0.0  0.0  0.0  \n",
      "PC2_1 PC2_2 PC2_3 PC2_4  : 0.0  1.0  0.0  0.0  \n",
      "PC3_1 PC3_2 PC3_3 PC3_4  : 0.0  0.0  1.0  0.0  \n",
      "PC4_1 PC4_2 PC4_3 PC4_4  : 0.0  0.0  0.0  1.0  \n",
      "CDELT : -0.0044444444444445  0.0044444444444444  1.0  20000000.0  \n",
      "NAXIS : 2048  2048  1  16\n"
     ]
    },
    {
     "data": {
      "text/plain": "<Figure size 640x480 with 2 Axes>"
     },
     "metadata": {},
     "output_type": "display_data"
    },
    {
     "name": "stdout",
     "output_type": "stream",
     "text": [
      "WCS Keywords\n",
      "\n",
      "Number of WCS axes: 4\n",
      "CTYPE : 'RA---SIN'  'DEC--SIN'  'STOKES'  'FREQ'  \n",
      "CRVAL : 250.0  -80.0  1.0  260000000.0  \n",
      "CRPIX : 1025.0  1025.0  1.0  1.0  \n",
      "PC1_1 PC1_2 PC1_3 PC1_4  : 1.0  0.0  0.0  0.0  \n",
      "PC2_1 PC2_2 PC2_3 PC2_4  : 0.0  1.0  0.0  0.0  \n",
      "PC3_1 PC3_2 PC3_3 PC3_4  : 0.0  0.0  1.0  0.0  \n",
      "PC4_1 PC4_2 PC4_3 PC4_4  : 0.0  0.0  0.0  1.0  \n",
      "CDELT : -0.0044444444444445  0.0044444444444444  1.0  260000000.0  \n",
      "NAXIS : 2048  2048  1  1\n"
     ]
    },
    {
     "data": {
      "text/plain": "<Figure size 640x480 with 2 Axes>"
     },
     "metadata": {},
     "output_type": "display_data"
    },
    {
     "name": "stdout",
     "output_type": "stream",
     "text": [
      "WCS Keywords\n",
      "\n",
      "Number of WCS axes: 4\n",
      "CTYPE : 'RA---SIN'  'DEC--SIN'  'STOKES'  'FREQ'  \n",
      "CRVAL : 250.0  -80.0  1.0  100000000.0  \n",
      "CRPIX : 1025.0  1025.0  1.0  1.0  \n",
      "PC1_1 PC1_2 PC1_3 PC1_4  : 1.0  0.0  0.0  0.0  \n",
      "PC2_1 PC2_2 PC2_3 PC2_4  : 0.0  1.0  0.0  0.0  \n",
      "PC3_1 PC3_2 PC3_3 PC3_4  : 0.0  0.0  1.0  0.0  \n",
      "PC4_1 PC4_2 PC4_3 PC4_4  : 0.0  0.0  0.0  1.0  \n",
      "CDELT : -0.0044444444444445  0.0044444444444444  1.0  20000000.0  \n",
      "NAXIS : 2048  2048  1  16\n"
     ]
    },
    {
     "data": {
      "text/plain": "<Figure size 640x480 with 2 Axes>"
     },
     "metadata": {},
     "output_type": "display_data"
    }
   ],
   "source": [
    "deconvolved, restored, residual = result\n",
    "\n",
    "deconvolved.plot()\n",
    "deconvolved.write_to_file(\"./deconvolved.fits\")\n",
    "restored.plot()\n",
    "restored.write_to_file(\"./restored.fits\")\n",
    "residual.plot()\n",
    "residual.write_to_file(\"./residual.fits\")"
   ],
   "metadata": {
    "collapsed": false,
    "pycharm": {
     "name": "#%%\n"
    }
   }
  },
  {
   "cell_type": "markdown",
   "source": [
    "### Detect Sources in produced image\n",
    "\n"
   ],
   "metadata": {
    "collapsed": false,
    "pycharm": {
     "name": "#%% md\n"
    }
   }
  },
  {
   "cell_type": "code",
   "execution_count": 15,
   "outputs": [
    {
     "name": "stderr",
     "output_type": "stream",
     "text": [
      "\u001B[1;34m--> Opened './.tmp/2294e3aa-7809-4405-a1f3-2b1111351aab'\u001B[0m\n",
      "Image size .............................. : (2048, 2048) pixels\n",
      "Number of channels ...................... : 1\n",
      "Number of Stokes parameters ............. : 1\n",
      "Beam shape (major, minor, pos angle) .... : (5.58324e-02, 5.15437e-02, -24.5) degrees\n",
      "Frequency of image ...................... : 260.000 MHz\n",
      "Number of blank pixels .................. : 0 (0.0%)\n",
      "Flux from sum of (non-blank) pixels ..... : 3.828 Jy\n",
      "\u001B[1;34m--> Calculating background rms and mean images\u001B[0m\n",
      "Derived rms_box (box size, step size) ... : (2325, 205) pixels\n",
      "\u001B[1;34m--> Size of rms_box larger than 1/4 of image size\u001B[0m\n",
      "\u001B[1;34m--> Using constant background rms and mean\u001B[0m\n",
      "Value of background rms ................. : 2.46e-04 Jy/beam\n",
      "Value of background mean ................ : -0.00025 Jy/beam\n",
      "\u001B[1;34m--> Expected 5-sigma-clipped false detection rate < fdr_ratio\u001B[0m\n",
      "\u001B[1;34m--> Using sigma-clipping ('hard') thresholding\u001B[0m\n",
      "Minimum number of pixels per island ..... : 55\n",
      "Number of islands found ................. : 1\n"
     ]
    },
    {
     "name": "stdout",
     "output_type": "stream",
     "text": [
      "\u001B[1G\u001B[0mFitting islands with Gaussians .......... : [|] 0/1\u001B[0m\u001B[46G"
     ]
    },
    {
     "name": "stderr",
     "output_type": "stream",
     "text": [
      "stty: stdin isn't a terminal\n",
      "stty: stdin isn't a terminal\n",
      "2022-07-27 14:47:09,372 - distributed.scheduler - WARNING - Worker failed to heartbeat within 300 seconds. Closing: <WorkerState 'tcp://127.0.0.1:52989', name: 0, status: running, memory: 0, processing: 0>\n",
      "2022-07-27 14:47:09,375 - distributed.scheduler - WARNING - Worker failed to heartbeat within 300 seconds. Closing: <WorkerState 'tcp://127.0.0.1:52991', name: 2, status: running, memory: 0, processing: 0>\n",
      "2022-07-27 14:47:09,378 - distributed.scheduler - WARNING - Received heartbeat from unregistered worker 'tcp://127.0.0.1:52991'.\n",
      "2022-07-27 14:47:09,379 - distributed.scheduler - WARNING - Received heartbeat from unregistered worker 'tcp://127.0.0.1:52989'.\n",
      "2022-07-27 14:47:09,380 - distributed.worker - ERROR - Scheduler was unaware of this worker 'tcp://127.0.0.1:52991'. Shutting down.\n",
      "2022-07-27 14:47:09,382 - distributed.worker - ERROR - Scheduler was unaware of this worker 'tcp://127.0.0.1:52989'. Shutting down.\n",
      "2022-07-27 14:47:09,387 - distributed.nanny - ERROR - Worker process died unexpectedly\n",
      "\n",
      "Traceback (most recent call last):\n",
      "  File \"/Users/cvoegele/opt/anaconda3/envs/karabo_dev_env/lib/python3.8/site-packages/distributed/utils.py\", line 778, in wrapper\n",
      "    return await func(*args, **kwargs)\n",
      "  File \"/Users/cvoegele/opt/anaconda3/envs/karabo_dev_env/lib/python3.8/site-packages/distributed/worker.py\", line 1443, in close\n",
      "    await self.finished()\n",
      "  File \"/Users/cvoegele/opt/anaconda3/envs/karabo_dev_env/lib/python3.8/site-packages/distributed/core.py\", line 447, in finished\n",
      "    await self._event_finished.wait()\n",
      "  File \"/Users/cvoegele/opt/anaconda3/envs/karabo_dev_env/lib/python3.8/asyncio/locks.py\", line 309, in wait\n",
      "    await fut\n",
      "asyncio.exceptions.CancelledError\n",
      "2022-07-27 14:47:09,488 - distributed.nanny - ERROR - Worker process died unexpectedly\n",
      "2022-07-27 14:47:09,504 - distributed.nanny - WARNING - Restarting worker\n",
      "2022-07-27 15:06:19,473 - distributed.comm.tcp - WARNING - Could not set timeout on TCP stream: [Errno 22] Invalid argument\n",
      "2022-07-27 15:25:05,739 - distributed.scheduler - WARNING - Worker failed to heartbeat within 300 seconds. Closing: <WorkerState 'tcp://127.0.0.1:52990', name: 1, status: running, memory: 0, processing: 0>\n",
      "2022-07-27 15:38:24,697 - distributed.scheduler - WARNING - Received heartbeat from unregistered worker 'tcp://127.0.0.1:52990'.\n",
      "2022-07-27 15:38:24,700 - distributed.worker - ERROR - Scheduler was unaware of this worker 'tcp://127.0.0.1:52990'. Shutting down.\n",
      "\n",
      "Traceback (most recent call last):\n",
      "  File \"/Users/cvoegele/opt/anaconda3/envs/karabo_dev_env/lib/python3.8/site-packages/distributed/utils.py\", line 778, in wrapper\n",
      "    return await func(*args, **kwargs)\n",
      "  File \"/Users/cvoegele/opt/anaconda3/envs/karabo_dev_env/lib/python3.8/site-packages/distributed/worker.py\", line 1443, in close\n",
      "    await self.finished()\n",
      "  File \"/Users/cvoegele/opt/anaconda3/envs/karabo_dev_env/lib/python3.8/site-packages/distributed/core.py\", line 447, in finished\n",
      "    await self._event_finished.wait()\n",
      "  File \"/Users/cvoegele/opt/anaconda3/envs/karabo_dev_env/lib/python3.8/asyncio/locks.py\", line 309, in wait\n",
      "    await fut\n",
      "asyncio.exceptions.CancelledError\n",
      "2022-07-27 15:38:24,837 - distributed.nanny - ERROR - Worker process died unexpectedly\n",
      "\u001B[1;34m\n",
      "--> \u001B[31;1mAborted\u001B[0m\u001B[0m\n"
     ]
    },
    {
     "ename": "KeyboardInterrupt",
     "evalue": "",
     "output_type": "error",
     "traceback": [
      "\u001B[0;31m---------------------------------------------------------------------------\u001B[0m",
      "\u001B[0;31mKeyboardInterrupt\u001B[0m                         Traceback (most recent call last)",
      "Input \u001B[0;32mIn [15]\u001B[0m, in \u001B[0;36m<cell line: 1>\u001B[0;34m()\u001B[0m\n\u001B[0;32m----> 1\u001B[0m detection_result \u001B[38;5;241m=\u001B[39m \u001B[43mSourceDetectionResult\u001B[49m\u001B[38;5;241;43m.\u001B[39;49m\u001B[43mdetect_sources_in_image\u001B[49m\u001B[43m(\u001B[49m\u001B[43mrestored\u001B[49m\u001B[43m)\u001B[49m\n\u001B[1;32m      2\u001B[0m detection_result\u001B[38;5;241m.\u001B[39mdetected_sources\n",
      "File \u001B[0;32m~/development/Karabo-Pipeline/karabo/sourcedetection/result.py:47\u001B[0m, in \u001B[0;36mSourceDetectionResult.detect_sources_in_image\u001B[0;34m(image, beam, quiet)\u001B[0m\n\u001B[1;32m     36\u001B[0m \u001B[38;5;129m@staticmethod\u001B[39m\n\u001B[1;32m     37\u001B[0m \u001B[38;5;28;01mdef\u001B[39;00m \u001B[38;5;21mdetect_sources_in_image\u001B[39m(image: Image, beam\u001B[38;5;241m=\u001B[39m\u001B[38;5;28;01mNone\u001B[39;00m, quiet\u001B[38;5;241m=\u001B[39m\u001B[38;5;28;01mFalse\u001B[39;00m) \u001B[38;5;241m-\u001B[39m\u001B[38;5;241m>\u001B[39m \u001B[38;5;28many\u001B[39m:\n\u001B[1;32m     38\u001B[0m     \u001B[38;5;124;03m\"\"\"\u001B[39;00m\n\u001B[1;32m     39\u001B[0m \u001B[38;5;124;03m    Detecting sources in an image. The Source detection is implemented with the PyBDSF.process_image function.\u001B[39;00m\n\u001B[1;32m     40\u001B[0m \u001B[38;5;124;03m    See https://www.astron.nl/citt/pybdsf/process_image.html for more information.\u001B[39;00m\n\u001B[0;32m   (...)\u001B[0m\n\u001B[1;32m     45\u001B[0m \u001B[38;5;124;03m    :return: Source Detection Result containing the found sources\u001B[39;00m\n\u001B[1;32m     46\u001B[0m \u001B[38;5;124;03m    \"\"\"\u001B[39;00m\n\u001B[0;32m---> 47\u001B[0m     detection \u001B[38;5;241m=\u001B[39m \u001B[43mbdsf\u001B[49m\u001B[38;5;241;43m.\u001B[39;49m\u001B[43mprocess_image\u001B[49m\u001B[43m(\u001B[49m\u001B[43mimage\u001B[49m\u001B[38;5;241;43m.\u001B[39;49m\u001B[43mfile\u001B[49m\u001B[38;5;241;43m.\u001B[39;49m\u001B[43mpath\u001B[49m\u001B[43m,\u001B[49m\u001B[43m \u001B[49m\u001B[43mbeam\u001B[49m\u001B[38;5;241;43m=\u001B[39;49m\u001B[43mbeam\u001B[49m\u001B[43m,\u001B[49m\u001B[43m \u001B[49m\u001B[43mquiet\u001B[49m\u001B[38;5;241;43m=\u001B[39;49m\u001B[43mquiet\u001B[49m\u001B[43m,\u001B[49m\u001B[43m \u001B[49m\u001B[38;5;28;43mformat\u001B[39;49m\u001B[38;5;241;43m=\u001B[39;49m\u001B[38;5;124;43m'\u001B[39;49m\u001B[38;5;124;43mcsv\u001B[39;49m\u001B[38;5;124;43m'\u001B[39;49m\u001B[43m)\u001B[49m\n\u001B[1;32m     48\u001B[0m     \u001B[38;5;28;01mreturn\u001B[39;00m PyBDSFSourceDetectionResult(detection)\n",
      "File \u001B[0;32m~/opt/anaconda3/envs/karabo_dev_env/lib/python3.8/site-packages/bdsf/__init__.py:253\u001B[0m, in \u001B[0;36mprocess_image\u001B[0;34m(input, **kwargs)\u001B[0m\n\u001B[1;32m    249\u001B[0m     img\u001B[38;5;241m.\u001B[39mopts\u001B[38;5;241m.\u001B[39mdebug \u001B[38;5;241m=\u001B[39m kwargs[\u001B[38;5;124m'\u001B[39m\u001B[38;5;124mdebug\u001B[39m\u001B[38;5;124m'\u001B[39m]\n\u001B[1;32m    251\u001B[0m \u001B[38;5;66;03m# Now process it. Any kwargs specified by the user will\u001B[39;00m\n\u001B[1;32m    252\u001B[0m \u001B[38;5;66;03m# override those read in from the parameter save file or dictionary.\u001B[39;00m\n\u001B[0;32m--> 253\u001B[0m \u001B[43mimg\u001B[49m\u001B[38;5;241;43m.\u001B[39;49m\u001B[43mprocess\u001B[49m\u001B[43m(\u001B[49m\u001B[38;5;241;43m*\u001B[39;49m\u001B[38;5;241;43m*\u001B[39;49m\u001B[43mkwargs\u001B[49m\u001B[43m)\u001B[49m\n\u001B[1;32m    254\u001B[0m \u001B[38;5;28;01mreturn\u001B[39;00m img\n",
      "File \u001B[0;32m~/opt/anaconda3/envs/karabo_dev_env/lib/python3.8/site-packages/bdsf/image.py:135\u001B[0m, in \u001B[0;36mImage.process\u001B[0;34m(self, **kwargs)\u001B[0m\n\u001B[1;32m    133\u001B[0m \u001B[38;5;124;03m\"\"\"Process Image object\"\"\"\u001B[39;00m\n\u001B[1;32m    134\u001B[0m \u001B[38;5;28;01mfrom\u001B[39;00m \u001B[38;5;21;01m.\u001B[39;00m \u001B[38;5;28;01mimport\u001B[39;00m interface\n\u001B[0;32m--> 135\u001B[0m success \u001B[38;5;241m=\u001B[39m \u001B[43minterface\u001B[49m\u001B[38;5;241;43m.\u001B[39;49m\u001B[43mprocess\u001B[49m\u001B[43m(\u001B[49m\u001B[38;5;28;43mself\u001B[39;49m\u001B[43m,\u001B[49m\u001B[43m \u001B[49m\u001B[38;5;241;43m*\u001B[39;49m\u001B[38;5;241;43m*\u001B[39;49m\u001B[43mkwargs\u001B[49m\u001B[43m)\u001B[49m\n\u001B[1;32m    136\u001B[0m \u001B[38;5;28;01mreturn\u001B[39;00m success\n",
      "File \u001B[0;32m~/opt/anaconda3/envs/karabo_dev_env/lib/python3.8/site-packages/bdsf/interface.py:62\u001B[0m, in \u001B[0;36mprocess\u001B[0;34m(img, **kwargs)\u001B[0m\n\u001B[1;32m     60\u001B[0m img, op_chain \u001B[38;5;241m=\u001B[39m get_op_chain(img)\n\u001B[1;32m     61\u001B[0m \u001B[38;5;28;01mif\u001B[39;00m op_chain \u001B[38;5;129;01mis\u001B[39;00m \u001B[38;5;129;01mnot\u001B[39;00m \u001B[38;5;28;01mNone\u001B[39;00m:\n\u001B[0;32m---> 62\u001B[0m     \u001B[43m_run_op_list\u001B[49m\u001B[43m(\u001B[49m\u001B[43mimg\u001B[49m\u001B[43m,\u001B[49m\u001B[43m \u001B[49m\u001B[43mop_chain\u001B[49m\u001B[43m)\u001B[49m\n\u001B[1;32m     63\u001B[0m     img\u001B[38;5;241m.\u001B[39m_prev_opts \u001B[38;5;241m=\u001B[39m img\u001B[38;5;241m.\u001B[39mopts\u001B[38;5;241m.\u001B[39mto_dict()\n\u001B[1;32m     64\u001B[0m \u001B[38;5;28;01mreturn\u001B[39;00m \u001B[38;5;28;01mTrue\u001B[39;00m\n",
      "File \u001B[0;32m~/opt/anaconda3/envs/karabo_dev_env/lib/python3.8/site-packages/bdsf/__init__.py:152\u001B[0m, in \u001B[0;36m_run_op_list\u001B[0;34m(img, chain)\u001B[0m\n\u001B[1;32m    150\u001B[0m         answ \u001B[38;5;241m=\u001B[39m raw_input_no_history(prompt)\n\u001B[1;32m    151\u001B[0m op\u001B[38;5;241m.\u001B[39m__start_time \u001B[38;5;241m=\u001B[39m time()\n\u001B[0;32m--> 152\u001B[0m \u001B[43mop\u001B[49m\u001B[43m(\u001B[49m\u001B[43mimg\u001B[49m\u001B[43m)\u001B[49m\n\u001B[1;32m    153\u001B[0m op\u001B[38;5;241m.\u001B[39m__stop_time \u001B[38;5;241m=\u001B[39m time()\n\u001B[1;32m    154\u001B[0m gc\u001B[38;5;241m.\u001B[39mcollect()\n",
      "File \u001B[0;32m~/opt/anaconda3/envs/karabo_dev_env/lib/python3.8/site-packages/bdsf/gausfit.py:103\u001B[0m, in \u001B[0;36mOp_gausfit.__call__\u001B[0;34m(self, img)\u001B[0m\n\u001B[1;32m     98\u001B[0m     gaus_list \u001B[38;5;241m=\u001B[39m \u001B[38;5;28mmap\u001B[39m(func\u001B[38;5;241m.\u001B[39meval_func_tuple,\n\u001B[1;32m     99\u001B[0m             \u001B[38;5;28mzip\u001B[39m(itertools\u001B[38;5;241m.\u001B[39mrepeat(\u001B[38;5;28mself\u001B[39m\u001B[38;5;241m.\u001B[39mprocess_island),\n\u001B[1;32m    100\u001B[0m             img\u001B[38;5;241m.\u001B[39mislands, itertools\u001B[38;5;241m.\u001B[39mrepeat(img_simple),\n\u001B[1;32m    101\u001B[0m             itertools\u001B[38;5;241m.\u001B[39mrepeat(opts)))\n\u001B[1;32m    102\u001B[0m \u001B[38;5;28;01melse\u001B[39;00m:\n\u001B[0;32m--> 103\u001B[0m     gaus_list \u001B[38;5;241m=\u001B[39m \u001B[43mmp\u001B[49m\u001B[38;5;241;43m.\u001B[39;49m\u001B[43mparallel_map\u001B[49m\u001B[43m(\u001B[49m\u001B[43mfunc\u001B[49m\u001B[38;5;241;43m.\u001B[39;49m\u001B[43meval_func_tuple\u001B[49m\u001B[43m,\u001B[49m\n\u001B[1;32m    104\u001B[0m \u001B[43m            \u001B[49m\u001B[38;5;28;43mzip\u001B[39;49m\u001B[43m(\u001B[49m\u001B[43mitertools\u001B[49m\u001B[38;5;241;43m.\u001B[39;49m\u001B[43mrepeat\u001B[49m\u001B[43m(\u001B[49m\u001B[38;5;28;43mself\u001B[39;49m\u001B[38;5;241;43m.\u001B[39;49m\u001B[43mprocess_island\u001B[49m\u001B[43m)\u001B[49m\u001B[43m,\u001B[49m\n\u001B[1;32m    105\u001B[0m \u001B[43m            \u001B[49m\u001B[43mimg\u001B[49m\u001B[38;5;241;43m.\u001B[39;49m\u001B[43mislands\u001B[49m\u001B[43m,\u001B[49m\u001B[43m \u001B[49m\u001B[43mitertools\u001B[49m\u001B[38;5;241;43m.\u001B[39;49m\u001B[43mrepeat\u001B[49m\u001B[43m(\u001B[49m\u001B[43mimg_simple\u001B[49m\u001B[43m)\u001B[49m\u001B[43m,\u001B[49m\n\u001B[1;32m    106\u001B[0m \u001B[43m            \u001B[49m\u001B[43mitertools\u001B[49m\u001B[38;5;241;43m.\u001B[39;49m\u001B[43mrepeat\u001B[49m\u001B[43m(\u001B[49m\u001B[43mopts\u001B[49m\u001B[43m)\u001B[49m\u001B[43m)\u001B[49m\u001B[43m,\u001B[49m\u001B[43m \u001B[49m\u001B[43mnumcores\u001B[49m\u001B[38;5;241;43m=\u001B[39;49m\u001B[43mopts\u001B[49m\u001B[38;5;241;43m.\u001B[39;49m\u001B[43mncores\u001B[49m\u001B[43m,\u001B[49m\n\u001B[1;32m    107\u001B[0m \u001B[43m            \u001B[49m\u001B[43mbar\u001B[49m\u001B[38;5;241;43m=\u001B[39;49m\u001B[43mbar\u001B[49m\u001B[43m,\u001B[49m\u001B[43m \u001B[49m\u001B[43mweights\u001B[49m\u001B[38;5;241;43m=\u001B[39;49m\u001B[43mweights\u001B[49m\u001B[43m)\u001B[49m\n\u001B[1;32m    108\u001B[0m gaus_list \u001B[38;5;241m=\u001B[39m \u001B[38;5;28mlist\u001B[39m(gaus_list)\n\u001B[1;32m    110\u001B[0m \u001B[38;5;28;01mfor\u001B[39;00m isl \u001B[38;5;129;01min\u001B[39;00m img\u001B[38;5;241m.\u001B[39mislands:\n\u001B[1;32m    111\u001B[0m     \u001B[38;5;66;03m### now convert gaussians into Gaussian objects and store\u001B[39;00m\n",
      "File \u001B[0;32m~/opt/anaconda3/envs/karabo_dev_env/lib/python3.8/site-packages/bdsf/multi_proc.py:165\u001B[0m, in \u001B[0;36mparallel_map\u001B[0;34m(function, sequence, numcores, bar, weights)\u001B[0m\n\u001B[1;32m    162\u001B[0m size \u001B[38;5;241m=\u001B[39m \u001B[38;5;28mlen\u001B[39m(sequence)\n\u001B[1;32m    164\u001B[0m \u001B[38;5;28;01mif\u001B[39;00m \u001B[38;5;129;01mnot\u001B[39;00m _multi \u001B[38;5;129;01mor\u001B[39;00m size \u001B[38;5;241m==\u001B[39m \u001B[38;5;241m1\u001B[39m:\n\u001B[0;32m--> 165\u001B[0m     results \u001B[38;5;241m=\u001B[39m \u001B[38;5;28;43mlist\u001B[39;49m\u001B[43m(\u001B[49m\u001B[38;5;28;43mmap\u001B[39;49m\u001B[43m(\u001B[49m\u001B[43mfunction\u001B[49m\u001B[43m,\u001B[49m\u001B[43m \u001B[49m\u001B[43msequence\u001B[49m\u001B[43m)\u001B[49m\u001B[43m)\u001B[49m\n\u001B[1;32m    166\u001B[0m     \u001B[38;5;28;01mif\u001B[39;00m bar \u001B[38;5;129;01mis\u001B[39;00m \u001B[38;5;129;01mnot\u001B[39;00m \u001B[38;5;28;01mNone\u001B[39;00m:\n\u001B[1;32m    167\u001B[0m         bar\u001B[38;5;241m.\u001B[39mstop()\n",
      "File \u001B[0;32m~/opt/anaconda3/envs/karabo_dev_env/lib/python3.8/site-packages/bdsf/functions.py:2061\u001B[0m, in \u001B[0;36meval_func_tuple\u001B[0;34m(f_args)\u001B[0m\n\u001B[1;32m   2055\u001B[0m \u001B[38;5;28;01mdef\u001B[39;00m \u001B[38;5;21meval_func_tuple\u001B[39m(f_args):\n\u001B[1;32m   2056\u001B[0m     \u001B[38;5;124;03m\"\"\"Takes a tuple of a function and args, evaluates and returns result\u001B[39;00m\n\u001B[1;32m   2057\u001B[0m \n\u001B[1;32m   2058\u001B[0m \u001B[38;5;124;03m    This function (in addition to itertools) gets around limitation that\u001B[39;00m\n\u001B[1;32m   2059\u001B[0m \u001B[38;5;124;03m    multiple-argument sequences are not supported by multiprocessing.\u001B[39;00m\n\u001B[1;32m   2060\u001B[0m \u001B[38;5;124;03m    \"\"\"\u001B[39;00m\n\u001B[0;32m-> 2061\u001B[0m     \u001B[38;5;28;01mreturn\u001B[39;00m \u001B[43mf_args\u001B[49m\u001B[43m[\u001B[49m\u001B[38;5;241;43m0\u001B[39;49m\u001B[43m]\u001B[49m\u001B[43m(\u001B[49m\u001B[38;5;241;43m*\u001B[39;49m\u001B[43mf_args\u001B[49m\u001B[43m[\u001B[49m\u001B[38;5;241;43m1\u001B[39;49m\u001B[43m:\u001B[49m\u001B[43m]\u001B[49m\u001B[43m)\u001B[49m\n",
      "File \u001B[0;32m~/opt/anaconda3/envs/karabo_dev_env/lib/python3.8/site-packages/bdsf/gausfit.py:247\u001B[0m, in \u001B[0;36mOp_gausfit.process_island\u001B[0;34m(self, isl, img, opts)\u001B[0m\n\u001B[1;32m    245\u001B[0m isl\u001B[38;5;241m.\u001B[39mislmean \u001B[38;5;241m=\u001B[39m \u001B[38;5;241m0.0\u001B[39m\n\u001B[1;32m    246\u001B[0m \u001B[38;5;28;01mif\u001B[39;00m opts\u001B[38;5;241m.\u001B[39mpeak_fit \u001B[38;5;129;01mand\u001B[39;00m size \u001B[38;5;241m>\u001B[39m peak_size:\n\u001B[0;32m--> 247\u001B[0m     gaul, fgaul \u001B[38;5;241m=\u001B[39m \u001B[38;5;28;43mself\u001B[39;49m\u001B[38;5;241;43m.\u001B[39;49m\u001B[43mfit_island_iteratively\u001B[49m\u001B[43m(\u001B[49m\u001B[43mimg\u001B[49m\u001B[43m,\u001B[49m\u001B[43m \u001B[49m\u001B[43misl\u001B[49m\u001B[43m,\u001B[49m\u001B[43m \u001B[49m\u001B[43miter_ngmax\u001B[49m\u001B[38;5;241;43m=\u001B[39;49m\u001B[43miter_ngmax\u001B[49m\u001B[43m,\u001B[49m\u001B[43m \u001B[49m\u001B[43mopts\u001B[49m\u001B[38;5;241;43m=\u001B[39;49m\u001B[43mopts\u001B[49m\u001B[43m)\u001B[49m\n\u001B[1;32m    248\u001B[0m \u001B[38;5;28;01melse\u001B[39;00m:\n\u001B[1;32m    249\u001B[0m     gaul, fgaul \u001B[38;5;241m=\u001B[39m \u001B[38;5;28mself\u001B[39m\u001B[38;5;241m.\u001B[39mfit_island(isl, opts, img)\n",
      "File \u001B[0;32m~/opt/anaconda3/envs/karabo_dev_env/lib/python3.8/site-packages/bdsf/gausfit.py:466\u001B[0m, in \u001B[0;36mOp_gausfit.fit_island_iteratively\u001B[0;34m(self, img, isl, iter_ngmax, opts)\u001B[0m\n\u001B[1;32m    464\u001B[0m \u001B[38;5;28;01mif\u001B[39;00m opts\u001B[38;5;241m.\u001B[39mverbose_fitting:\n\u001B[1;32m    465\u001B[0m     \u001B[38;5;28mprint\u001B[39m(\u001B[38;5;124m'\u001B[39m\u001B[38;5;124mIteration \u001B[39m\u001B[38;5;132;01m%i\u001B[39;00m\u001B[38;5;124m'\u001B[39m \u001B[38;5;241m%\u001B[39m count)\n\u001B[0;32m--> 466\u001B[0m sgaul, sfgaul \u001B[38;5;241m=\u001B[39m \u001B[38;5;28;43mself\u001B[39;49m\u001B[38;5;241;43m.\u001B[39;49m\u001B[43mfit_island\u001B[49m\u001B[43m(\u001B[49m\u001B[43misl\u001B[49m\u001B[43m,\u001B[49m\u001B[43m \u001B[49m\u001B[43mopts\u001B[49m\u001B[43m,\u001B[49m\u001B[43m \u001B[49m\u001B[43mimg\u001B[49m\u001B[43m,\u001B[49m\u001B[43m \u001B[49m\u001B[43mffimg\u001B[49m\u001B[38;5;241;43m=\u001B[39;49m\u001B[43mffimg_tot\u001B[49m\u001B[43m,\u001B[49m\u001B[43m \u001B[49m\u001B[43mngmax\u001B[49m\u001B[38;5;241;43m=\u001B[39;49m\u001B[43miter_ngmax\u001B[49m\u001B[43m,\u001B[49m\u001B[43m \u001B[49m\u001B[43mini_gausfit\u001B[49m\u001B[38;5;241;43m=\u001B[39;49m\u001B[38;5;124;43m'\u001B[39;49m\u001B[38;5;124;43msimple\u001B[39;49m\u001B[38;5;124;43m'\u001B[39;49m\u001B[43m)\u001B[49m\n\u001B[1;32m    467\u001B[0m gaul \u001B[38;5;241m=\u001B[39m gaul \u001B[38;5;241m+\u001B[39m sgaul; fgaul \u001B[38;5;241m=\u001B[39m fgaul \u001B[38;5;241m+\u001B[39m sfgaul\n\u001B[1;32m    469\u001B[0m \u001B[38;5;66;03m# Calculate residual image\u001B[39;00m\n",
      "File \u001B[0;32m~/opt/anaconda3/envs/karabo_dev_env/lib/python3.8/site-packages/bdsf/gausfit.py:334\u001B[0m, in \u001B[0;36mOp_gausfit.fit_island\u001B[0;34m(self, isl, opts, img, ngmax, ffimg, ini_gausfit)\u001B[0m\n\u001B[1;32m    332\u001B[0m \u001B[38;5;28miter\u001B[39m \u001B[38;5;241m+\u001B[39m\u001B[38;5;241m=\u001B[39m \u001B[38;5;241m1\u001B[39m\n\u001B[1;32m    333\u001B[0m \u001B[38;5;28;01mif\u001B[39;00m verbose: \u001B[38;5;28mprint\u001B[39m(\u001B[38;5;124m'\u001B[39m\u001B[38;5;124mIn Gaussian flag loop, iter =\u001B[39m\u001B[38;5;124m'\u001B[39m,\u001B[38;5;28miter\u001B[39m)\n\u001B[0;32m--> 334\u001B[0m fitok \u001B[38;5;241m=\u001B[39m \u001B[38;5;28;43mself\u001B[39;49m\u001B[38;5;241;43m.\u001B[39;49m\u001B[43mfit_iter\u001B[49m\u001B[43m(\u001B[49m\u001B[43mgaul\u001B[49m\u001B[43m,\u001B[49m\u001B[43m \u001B[49m\u001B[43mng1\u001B[49m\u001B[43m,\u001B[49m\u001B[43m \u001B[49m\u001B[43mfcn\u001B[49m\u001B[43m,\u001B[49m\u001B[43m \u001B[49m\u001B[43mdof\u001B[49m\u001B[43m,\u001B[49m\u001B[43m \u001B[49m\u001B[43mbeam\u001B[49m\u001B[43m,\u001B[49m\u001B[43m \u001B[49m\u001B[43mthr0\u001B[49m\u001B[43m,\u001B[49m\u001B[43m \u001B[49m\u001B[38;5;28;43miter\u001B[39;49m\u001B[43m,\u001B[49m\u001B[43m \u001B[49m\u001B[43mini_gausfit\u001B[49m\u001B[43m,\u001B[49m\u001B[43m \u001B[49m\u001B[43mngmax\u001B[49m\u001B[43m,\u001B[49m\u001B[43m \u001B[49m\u001B[43mverbose\u001B[49m\u001B[43m,\u001B[49m\u001B[43m \u001B[49m\u001B[43mg3_only\u001B[49m\u001B[43m)\u001B[49m\n\u001B[1;32m    335\u001B[0m \u001B[38;5;28;01mif\u001B[39;00m verbose: \u001B[38;5;28mprint\u001B[39m(\u001B[38;5;124m'\u001B[39m\u001B[38;5;124mCalling flag_gaussians\u001B[39m\u001B[38;5;124m'\u001B[39m)\n\u001B[1;32m    336\u001B[0m gaul, fgaul \u001B[38;5;241m=\u001B[39m \u001B[38;5;28mself\u001B[39m\u001B[38;5;241m.\u001B[39mflag_gaussians(fcn\u001B[38;5;241m.\u001B[39mparameters, opts,\n\u001B[1;32m    337\u001B[0m                                   beam, thr0, peak, shape, isl\u001B[38;5;241m.\u001B[39mmask_active,\n\u001B[1;32m    338\u001B[0m                                   isl\u001B[38;5;241m.\u001B[39mimage, size)\n",
      "File \u001B[0;32m~/opt/anaconda3/envs/karabo_dev_env/lib/python3.8/site-packages/bdsf/gausfit.py:704\u001B[0m, in \u001B[0;36mOp_gausfit.fit_iter\u001B[0;34m(self, gaul, ng1, fcn, dof, beam, thr, iter, inifit, ngmax, verbose, g3_only)\u001B[0m\n\u001B[1;32m    701\u001B[0m       \u001B[38;5;28;01mbreak\u001B[39;00m\n\u001B[1;32m    702\u001B[0m   fitok \u001B[38;5;241m&\u001B[39m\u001B[38;5;241m=\u001B[39m \u001B[38;5;28mself\u001B[39m\u001B[38;5;241m.\u001B[39madd_gaussian(fcn, g, dof, g3_only)\n\u001B[0;32m--> 704\u001B[0m   fitok \u001B[38;5;241m&\u001B[39m\u001B[38;5;241m=\u001B[39m \u001B[43mfit\u001B[49m\u001B[43m(\u001B[49m\u001B[43mfcn\u001B[49m\u001B[43m,\u001B[49m\u001B[43m \u001B[49m\u001B[43mfinal\u001B[49m\u001B[38;5;241;43m=\u001B[39;49m\u001B[38;5;241;43m0\u001B[39;49m\u001B[43m,\u001B[49m\u001B[43m \u001B[49m\u001B[43mverbose\u001B[49m\u001B[38;5;241;43m=\u001B[39;49m\u001B[43mverbose\u001B[49m\u001B[43m)\u001B[49m\n\u001B[1;32m    706\u001B[0m \u001B[38;5;66;03m### and one last fit with higher precision\u001B[39;00m\n\u001B[1;32m    707\u001B[0m \u001B[38;5;66;03m### make sure we return False when fitok==False due to lack\u001B[39;00m\n\u001B[1;32m    708\u001B[0m \u001B[38;5;66;03m### of free parameters\u001B[39;00m\n\u001B[1;32m    709\u001B[0m fitok \u001B[38;5;241m&\u001B[39m\u001B[38;5;241m=\u001B[39m fit(fcn, final\u001B[38;5;241m=\u001B[39m\u001B[38;5;241m1\u001B[39m, verbose\u001B[38;5;241m=\u001B[39mverbose)\n",
      "\u001B[0;31mKeyboardInterrupt\u001B[0m: "
     ]
    }
   ],
   "source": [
    "detection_result = SourceDetectionResult.detect_sources_in_image(restored)\n",
    "detection_result.detected_sources"
   ],
   "metadata": {
    "collapsed": false,
    "pycharm": {
     "name": "#%%\n"
    }
   }
  },
  {
   "cell_type": "code",
   "execution_count": null,
   "outputs": [],
   "source": [
    "mapping = SourceDetectionEvaluation.evaluate_result_with_sky_in_pixel_space(detection_result, filtered_sky, 10)\n",
    "mapping.plot()"
   ],
   "metadata": {
    "collapsed": false,
    "pycharm": {
     "name": "#%%\n"
    }
   }
  },
  {
   "cell_type": "markdown",
   "source": [],
   "metadata": {
    "collapsed": false,
    "pycharm": {
     "name": "#%% md\n"
    }
   }
  }
 ],
 "metadata": {
  "interpreter": {
   "hash": "a424f534593172213fc036407833d41a2357dbed8b39ef293519ab55d7a4ebc3"
  },
  "kernelspec": {
   "display_name": "karabo_dev_env",
   "language": "python",
   "name": "karabo_dev_env"
  },
  "language_info": {
   "codemirror_mode": {
    "name": "ipython",
    "version": 3
   },
   "file_extension": ".py",
   "mimetype": "text/x-python",
   "name": "python",
   "nbconvert_exporter": "python",
   "pygments_lexer": "ipython3",
   "version": "3.8.13"
  }
 },
 "nbformat": 4,
 "nbformat_minor": 5
}