{
 "cells": [
  {
   "cell_type": "code",
   "execution_count": 1,
   "metadata": {
    "collapsed": true,
    "pycharm": {
     "name": "#%%\n"
    }
   },
   "outputs": [],
   "source": [
    "import numpy as np\n",
    "\n",
    "from karabo.simulation.sky_model import SkyModel\n",
    "from karabo.sourcedetection import detect_sources_in_image\n",
    "from karabo.Imaging.imager import Imager\n",
    "from karabo.simulation.telescope import get_MEERKAT_Telescope\n",
    "from karabo.simulation.interferometer import InterferometerSimulation\n",
    "from karabo.simulation.observation import Observation\n"
   ]
  },
  {
   "cell_type": "code",
   "execution_count": 3,
   "outputs": [
    {
     "name": "stdout",
     "output_type": "stream",
     "text": [
      "W|                                                                   \n",
      "W|== WARNING: No GPU capability available.\n",
      "W|                                                                   \n",
      "<SkyCoord (ICRS): (ra, dec) in deg\n",
      "    (0., 0.)>\n"
     ]
    },
    {
     "ename": "KeyError",
     "evalue": "\"Keyword 'HISTORY' not found.\"",
     "output_type": "error",
     "traceback": [
      "\u001B[0;31m---------------------------------------------------------------------------\u001B[0m",
      "\u001B[0;31mKeyError\u001B[0m                                  Traceback (most recent call last)",
      "File \u001B[0;32m~/opt/anaconda3/envs/karabo_dev_env/lib/python3.8/site-packages/bdsf/readimage.py:377\u001B[0m, in \u001B[0;36mOp_readimage.init_beam\u001B[0;34m(self, img)\u001B[0m\n\u001B[1;32m    376\u001B[0m \u001B[38;5;28;01mtry\u001B[39;00m:\n\u001B[0;32m--> 377\u001B[0m     beam \u001B[38;5;241m=\u001B[39m (\u001B[43mhdr\u001B[49m\u001B[43m[\u001B[49m\u001B[38;5;124;43m'\u001B[39;49m\u001B[38;5;124;43mBMAJ\u001B[39;49m\u001B[38;5;124;43m'\u001B[39;49m\u001B[43m]\u001B[49m, hdr[\u001B[38;5;124m'\u001B[39m\u001B[38;5;124mBMIN\u001B[39m\u001B[38;5;124m'\u001B[39m], hdr[\u001B[38;5;124m'\u001B[39m\u001B[38;5;124mBPA\u001B[39m\u001B[38;5;124m'\u001B[39m])\n\u001B[1;32m    378\u001B[0m     found \u001B[38;5;241m=\u001B[39m \u001B[38;5;28;01mTrue\u001B[39;00m\n",
      "File \u001B[0;32m~/opt/anaconda3/envs/karabo_dev_env/lib/python3.8/site-packages/astropy/io/fits/header.py:157\u001B[0m, in \u001B[0;36mHeader.__getitem__\u001B[0;34m(self, key)\u001B[0m\n\u001B[1;32m    155\u001B[0m     keyword \u001B[38;5;241m=\u001B[39m key\n\u001B[0;32m--> 157\u001B[0m card \u001B[38;5;241m=\u001B[39m \u001B[38;5;28mself\u001B[39m\u001B[38;5;241m.\u001B[39m_cards[\u001B[38;5;28;43mself\u001B[39;49m\u001B[38;5;241;43m.\u001B[39;49m\u001B[43m_cardindex\u001B[49m\u001B[43m(\u001B[49m\u001B[43mkey\u001B[49m\u001B[43m)\u001B[49m]\n\u001B[1;32m    159\u001B[0m \u001B[38;5;28;01mif\u001B[39;00m card\u001B[38;5;241m.\u001B[39mfield_specifier \u001B[38;5;129;01mis\u001B[39;00m \u001B[38;5;129;01mnot\u001B[39;00m \u001B[38;5;28;01mNone\u001B[39;00m \u001B[38;5;129;01mand\u001B[39;00m keyword \u001B[38;5;241m==\u001B[39m card\u001B[38;5;241m.\u001B[39mrawkeyword:\n\u001B[1;32m    160\u001B[0m     \u001B[38;5;66;03m# This is RVKC; if only the top-level keyword was specified return\u001B[39;00m\n\u001B[1;32m    161\u001B[0m     \u001B[38;5;66;03m# the raw value, not the parsed out float value\u001B[39;00m\n",
      "File \u001B[0;32m~/opt/anaconda3/envs/karabo_dev_env/lib/python3.8/site-packages/astropy/io/fits/header.py:1754\u001B[0m, in \u001B[0;36mHeader._cardindex\u001B[0;34m(self, key)\u001B[0m\n\u001B[1;32m   1753\u001B[0m \u001B[38;5;28;01mif\u001B[39;00m \u001B[38;5;129;01mnot\u001B[39;00m indices:\n\u001B[0;32m-> 1754\u001B[0m     \u001B[38;5;28;01mraise\u001B[39;00m \u001B[38;5;167;01mKeyError\u001B[39;00m(\u001B[38;5;124mf\u001B[39m\u001B[38;5;124m\"\u001B[39m\u001B[38;5;124mKeyword \u001B[39m\u001B[38;5;132;01m{\u001B[39;00mkeyword\u001B[38;5;132;01m!r}\u001B[39;00m\u001B[38;5;124m not found.\u001B[39m\u001B[38;5;124m\"\u001B[39m)\n\u001B[1;32m   1756\u001B[0m \u001B[38;5;28;01mtry\u001B[39;00m:\n",
      "\u001B[0;31mKeyError\u001B[0m: \"Keyword 'BMAJ' not found.\"",
      "\nDuring handling of the above exception, another exception occurred:\n",
      "\u001B[0;31mKeyError\u001B[0m                                  Traceback (most recent call last)",
      "Input \u001B[0;32mIn [3]\u001B[0m, in \u001B[0;36m<cell line: 9>\u001B[0;34m()\u001B[0m\n\u001B[1;32m     12\u001B[0m imager \u001B[38;5;241m=\u001B[39m Imager(visibility, imaging_npixel\u001B[38;5;241m=\u001B[39m\u001B[38;5;241m2048\u001B[39m, imaging_cellsize\u001B[38;5;241m=\u001B[39m\u001B[38;5;241m3.878509448876288e-05\u001B[39m)\n\u001B[1;32m     13\u001B[0m image \u001B[38;5;241m=\u001B[39m imager\u001B[38;5;241m.\u001B[39mget_dirty_image()\n\u001B[0;32m---> 14\u001B[0m detection \u001B[38;5;241m=\u001B[39m \u001B[43mdetect_sources_in_image\u001B[49m\u001B[43m(\u001B[49m\u001B[43mimage\u001B[49m\u001B[43m)\u001B[49m\n\u001B[1;32m     15\u001B[0m detections\u001B[38;5;241m.\u001B[39mappend(detection)\n",
      "File \u001B[0;32m~/development/SKA/karabo/sourcedetection/source_detection.py:49\u001B[0m, in \u001B[0;36mdetect_sources_in_image\u001B[0;34m(image, beam)\u001B[0m\n\u001B[1;32m     39\u001B[0m \u001B[38;5;124;03m\"\"\"\u001B[39;00m\n\u001B[1;32m     40\u001B[0m \u001B[38;5;124;03mDetecting sources in an image. The Source detection is impemented with the PyBDSF.process_image function.\u001B[39;00m\n\u001B[1;32m     41\u001B[0m \u001B[38;5;124;03mSee https://www.astron.nl/citt/pybdsf/process_image.html for more information.\u001B[39;00m\n\u001B[0;32m   (...)\u001B[0m\n\u001B[1;32m     46\u001B[0m \u001B[38;5;124;03m:return: Source Detection Result containing the found sources\u001B[39;00m\n\u001B[1;32m     47\u001B[0m \u001B[38;5;124;03m\"\"\"\u001B[39;00m\n\u001B[1;32m     48\u001B[0m \u001B[38;5;28;01mimport\u001B[39;00m \u001B[38;5;21;01mbdsf\u001B[39;00m\n\u001B[0;32m---> 49\u001B[0m detection \u001B[38;5;241m=\u001B[39m \u001B[43mbdsf\u001B[49m\u001B[38;5;241;43m.\u001B[39;49m\u001B[43mprocess_image\u001B[49m\u001B[43m(\u001B[49m\u001B[43mimage\u001B[49m\u001B[38;5;241;43m.\u001B[39;49m\u001B[43mfile\u001B[49m\u001B[38;5;241;43m.\u001B[39;49m\u001B[43mpath\u001B[49m\u001B[43m,\u001B[49m\u001B[43m \u001B[49m\u001B[43mbeam\u001B[49m\u001B[38;5;241;43m=\u001B[39;49m\u001B[43mbeam\u001B[49m\u001B[43m,\u001B[49m\u001B[43m \u001B[49m\u001B[43mquiet\u001B[49m\u001B[38;5;241;43m=\u001B[39;49m\u001B[38;5;28;43;01mTrue\u001B[39;49;00m\u001B[43m,\u001B[49m\u001B[43m \u001B[49m\u001B[38;5;28;43mformat\u001B[39;49m\u001B[38;5;241;43m=\u001B[39;49m\u001B[38;5;124;43m'\u001B[39;49m\u001B[38;5;124;43mcsv\u001B[39;49m\u001B[38;5;124;43m'\u001B[39;49m\u001B[43m)\u001B[49m\n\u001B[1;32m     50\u001B[0m \u001B[38;5;28;01mreturn\u001B[39;00m PyBDSFSourceDetectionResult(detection)\n",
      "File \u001B[0;32m~/opt/anaconda3/envs/karabo_dev_env/lib/python3.8/site-packages/bdsf/__init__.py:253\u001B[0m, in \u001B[0;36mprocess_image\u001B[0;34m(input, **kwargs)\u001B[0m\n\u001B[1;32m    249\u001B[0m     img\u001B[38;5;241m.\u001B[39mopts\u001B[38;5;241m.\u001B[39mdebug \u001B[38;5;241m=\u001B[39m kwargs[\u001B[38;5;124m'\u001B[39m\u001B[38;5;124mdebug\u001B[39m\u001B[38;5;124m'\u001B[39m]\n\u001B[1;32m    251\u001B[0m \u001B[38;5;66;03m# Now process it. Any kwargs specified by the user will\u001B[39;00m\n\u001B[1;32m    252\u001B[0m \u001B[38;5;66;03m# override those read in from the parameter save file or dictionary.\u001B[39;00m\n\u001B[0;32m--> 253\u001B[0m \u001B[43mimg\u001B[49m\u001B[38;5;241;43m.\u001B[39;49m\u001B[43mprocess\u001B[49m\u001B[43m(\u001B[49m\u001B[38;5;241;43m*\u001B[39;49m\u001B[38;5;241;43m*\u001B[39;49m\u001B[43mkwargs\u001B[49m\u001B[43m)\u001B[49m\n\u001B[1;32m    254\u001B[0m \u001B[38;5;28;01mreturn\u001B[39;00m img\n",
      "File \u001B[0;32m~/opt/anaconda3/envs/karabo_dev_env/lib/python3.8/site-packages/bdsf/image.py:135\u001B[0m, in \u001B[0;36mImage.process\u001B[0;34m(self, **kwargs)\u001B[0m\n\u001B[1;32m    133\u001B[0m \u001B[38;5;124;03m\"\"\"Process Image object\"\"\"\u001B[39;00m\n\u001B[1;32m    134\u001B[0m \u001B[38;5;28;01mfrom\u001B[39;00m \u001B[38;5;21;01m.\u001B[39;00m \u001B[38;5;28;01mimport\u001B[39;00m interface\n\u001B[0;32m--> 135\u001B[0m success \u001B[38;5;241m=\u001B[39m \u001B[43minterface\u001B[49m\u001B[38;5;241;43m.\u001B[39;49m\u001B[43mprocess\u001B[49m\u001B[43m(\u001B[49m\u001B[38;5;28;43mself\u001B[39;49m\u001B[43m,\u001B[49m\u001B[43m \u001B[49m\u001B[38;5;241;43m*\u001B[39;49m\u001B[38;5;241;43m*\u001B[39;49m\u001B[43mkwargs\u001B[49m\u001B[43m)\u001B[49m\n\u001B[1;32m    136\u001B[0m \u001B[38;5;28;01mreturn\u001B[39;00m success\n",
      "File \u001B[0;32m~/opt/anaconda3/envs/karabo_dev_env/lib/python3.8/site-packages/bdsf/interface.py:62\u001B[0m, in \u001B[0;36mprocess\u001B[0;34m(img, **kwargs)\u001B[0m\n\u001B[1;32m     60\u001B[0m img, op_chain \u001B[38;5;241m=\u001B[39m get_op_chain(img)\n\u001B[1;32m     61\u001B[0m \u001B[38;5;28;01mif\u001B[39;00m op_chain \u001B[38;5;129;01mis\u001B[39;00m \u001B[38;5;129;01mnot\u001B[39;00m \u001B[38;5;28;01mNone\u001B[39;00m:\n\u001B[0;32m---> 62\u001B[0m     \u001B[43m_run_op_list\u001B[49m\u001B[43m(\u001B[49m\u001B[43mimg\u001B[49m\u001B[43m,\u001B[49m\u001B[43m \u001B[49m\u001B[43mop_chain\u001B[49m\u001B[43m)\u001B[49m\n\u001B[1;32m     63\u001B[0m     img\u001B[38;5;241m.\u001B[39m_prev_opts \u001B[38;5;241m=\u001B[39m img\u001B[38;5;241m.\u001B[39mopts\u001B[38;5;241m.\u001B[39mto_dict()\n\u001B[1;32m     64\u001B[0m \u001B[38;5;28;01mreturn\u001B[39;00m \u001B[38;5;28;01mTrue\u001B[39;00m\n",
      "File \u001B[0;32m~/opt/anaconda3/envs/karabo_dev_env/lib/python3.8/site-packages/bdsf/__init__.py:152\u001B[0m, in \u001B[0;36m_run_op_list\u001B[0;34m(img, chain)\u001B[0m\n\u001B[1;32m    150\u001B[0m         answ \u001B[38;5;241m=\u001B[39m raw_input_no_history(prompt)\n\u001B[1;32m    151\u001B[0m op\u001B[38;5;241m.\u001B[39m__start_time \u001B[38;5;241m=\u001B[39m time()\n\u001B[0;32m--> 152\u001B[0m \u001B[43mop\u001B[49m\u001B[43m(\u001B[49m\u001B[43mimg\u001B[49m\u001B[43m)\u001B[49m\n\u001B[1;32m    153\u001B[0m op\u001B[38;5;241m.\u001B[39m__stop_time \u001B[38;5;241m=\u001B[39m time()\n\u001B[1;32m    154\u001B[0m gc\u001B[38;5;241m.\u001B[39mcollect()\n",
      "File \u001B[0;32m~/opt/anaconda3/envs/karabo_dev_env/lib/python3.8/site-packages/bdsf/readimage.py:122\u001B[0m, in \u001B[0;36mOp_readimage.__call__\u001B[0;34m(self, img)\u001B[0m\n\u001B[1;32m    120\u001B[0m \u001B[38;5;66;03m### initialize wcs conversion routines\u001B[39;00m\n\u001B[1;32m    121\u001B[0m \u001B[38;5;28mself\u001B[39m\u001B[38;5;241m.\u001B[39minit_wcs(img)\n\u001B[0;32m--> 122\u001B[0m \u001B[38;5;28;43mself\u001B[39;49m\u001B[38;5;241;43m.\u001B[39;49m\u001B[43minit_beam\u001B[49m\u001B[43m(\u001B[49m\u001B[43mimg\u001B[49m\u001B[43m)\u001B[49m\n\u001B[1;32m    123\u001B[0m \u001B[38;5;28mself\u001B[39m\u001B[38;5;241m.\u001B[39minit_freq(img)\n\u001B[1;32m    124\u001B[0m year, code \u001B[38;5;241m=\u001B[39m \u001B[38;5;28mself\u001B[39m\u001B[38;5;241m.\u001B[39mget_equinox(img)\n",
      "File \u001B[0;32m~/opt/anaconda3/envs/karabo_dev_env/lib/python3.8/site-packages/bdsf/readimage.py:381\u001B[0m, in \u001B[0;36mOp_readimage.init_beam\u001B[0;34m(self, img)\u001B[0m\n\u001B[1;32m    378\u001B[0m     found \u001B[38;5;241m=\u001B[39m \u001B[38;5;28;01mTrue\u001B[39;00m\n\u001B[1;32m    379\u001B[0m \u001B[38;5;28;01mexcept\u001B[39;00m:\n\u001B[1;32m    380\u001B[0m     \u001B[38;5;66;03m### try see if AIPS as put the beam in HISTORY as usual\u001B[39;00m\n\u001B[0;32m--> 381\u001B[0m    \u001B[38;5;28;01mfor\u001B[39;00m h \u001B[38;5;129;01min\u001B[39;00m \u001B[43mhdr\u001B[49m\u001B[43m[\u001B[49m\u001B[38;5;124;43m'\u001B[39;49m\u001B[38;5;124;43mHISTORY\u001B[39;49m\u001B[38;5;124;43m'\u001B[39;49m\u001B[43m]\u001B[49m:\n\u001B[1;32m    382\u001B[0m       \u001B[38;5;66;03m# Check if h is a string or a FITS Card object (long headers are\u001B[39;00m\n\u001B[1;32m    383\u001B[0m       \u001B[38;5;66;03m# split into Cards as of PyFITS 3.0.4)\u001B[39;00m\n\u001B[1;32m    384\u001B[0m       \u001B[38;5;28;01mif\u001B[39;00m \u001B[38;5;129;01mnot\u001B[39;00m \u001B[38;5;28misinstance\u001B[39m(h, \u001B[38;5;28mstr\u001B[39m):\n\u001B[1;32m    385\u001B[0m         hstr \u001B[38;5;241m=\u001B[39m h\u001B[38;5;241m.\u001B[39mvalue\n",
      "File \u001B[0;32m~/opt/anaconda3/envs/karabo_dev_env/lib/python3.8/site-packages/astropy/io/fits/header.py:150\u001B[0m, in \u001B[0;36mHeader.__getitem__\u001B[0;34m(self, key)\u001B[0m\n\u001B[1;32m    148\u001B[0m         key \u001B[38;5;241m=\u001B[39m key\u001B[38;5;241m.\u001B[39mupper()\n\u001B[1;32m    149\u001B[0m         \u001B[38;5;66;03m# Special case for commentary cards\u001B[39;00m\n\u001B[0;32m--> 150\u001B[0m         \u001B[38;5;28;01mreturn\u001B[39;00m \u001B[43m_HeaderCommentaryCards\u001B[49m\u001B[43m(\u001B[49m\u001B[38;5;28;43mself\u001B[39;49m\u001B[43m,\u001B[49m\u001B[43m \u001B[49m\u001B[43mkey\u001B[49m\u001B[43m)\u001B[49m\n\u001B[1;32m    152\u001B[0m \u001B[38;5;28;01mif\u001B[39;00m \u001B[38;5;28misinstance\u001B[39m(key, \u001B[38;5;28mtuple\u001B[39m):\n\u001B[1;32m    153\u001B[0m     keyword \u001B[38;5;241m=\u001B[39m key[\u001B[38;5;241m0\u001B[39m]\n",
      "File \u001B[0;32m~/opt/anaconda3/envs/karabo_dev_env/lib/python3.8/site-packages/astropy/io/fits/header.py:2214\u001B[0m, in \u001B[0;36m_HeaderCommentaryCards.__init__\u001B[0;34m(self, header, keyword)\u001B[0m\n\u001B[1;32m   2212\u001B[0m \u001B[38;5;28msuper\u001B[39m()\u001B[38;5;241m.\u001B[39m\u001B[38;5;21m__init__\u001B[39m(header)\n\u001B[1;32m   2213\u001B[0m \u001B[38;5;28mself\u001B[39m\u001B[38;5;241m.\u001B[39m_keyword \u001B[38;5;241m=\u001B[39m keyword\n\u001B[0;32m-> 2214\u001B[0m \u001B[38;5;28mself\u001B[39m\u001B[38;5;241m.\u001B[39m_count \u001B[38;5;241m=\u001B[39m \u001B[38;5;28;43mself\u001B[39;49m\u001B[38;5;241;43m.\u001B[39;49m\u001B[43m_header\u001B[49m\u001B[38;5;241;43m.\u001B[39;49m\u001B[43mcount\u001B[49m\u001B[43m(\u001B[49m\u001B[38;5;28;43mself\u001B[39;49m\u001B[38;5;241;43m.\u001B[39;49m\u001B[43m_keyword\u001B[49m\u001B[43m)\u001B[49m\n\u001B[1;32m   2215\u001B[0m \u001B[38;5;28mself\u001B[39m\u001B[38;5;241m.\u001B[39m_indices \u001B[38;5;241m=\u001B[39m \u001B[38;5;28mslice\u001B[39m(\u001B[38;5;28mself\u001B[39m\u001B[38;5;241m.\u001B[39m_count)\u001B[38;5;241m.\u001B[39mindices(\u001B[38;5;28mself\u001B[39m\u001B[38;5;241m.\u001B[39m_count)\n",
      "File \u001B[0;32m~/opt/anaconda3/envs/karabo_dev_env/lib/python3.8/site-packages/astropy/io/fits/header.py:1380\u001B[0m, in \u001B[0;36mHeader.count\u001B[0;34m(self, keyword)\u001B[0m\n\u001B[1;32m   1377\u001B[0m \u001B[38;5;66;03m# We have to look before we leap, since otherwise _keyword_indices,\u001B[39;00m\n\u001B[1;32m   1378\u001B[0m \u001B[38;5;66;03m# being a defaultdict, will create an entry for the nonexistent keyword\u001B[39;00m\n\u001B[1;32m   1379\u001B[0m \u001B[38;5;28;01mif\u001B[39;00m keyword \u001B[38;5;129;01mnot\u001B[39;00m \u001B[38;5;129;01min\u001B[39;00m \u001B[38;5;28mself\u001B[39m\u001B[38;5;241m.\u001B[39m_keyword_indices:\n\u001B[0;32m-> 1380\u001B[0m     \u001B[38;5;28;01mraise\u001B[39;00m \u001B[38;5;167;01mKeyError\u001B[39;00m(\u001B[38;5;124mf\u001B[39m\u001B[38;5;124m\"\u001B[39m\u001B[38;5;124mKeyword \u001B[39m\u001B[38;5;132;01m{\u001B[39;00mkeyword\u001B[38;5;132;01m!r}\u001B[39;00m\u001B[38;5;124m not found.\u001B[39m\u001B[38;5;124m\"\u001B[39m)\n\u001B[1;32m   1382\u001B[0m \u001B[38;5;28;01mreturn\u001B[39;00m \u001B[38;5;28mlen\u001B[39m(\u001B[38;5;28mself\u001B[39m\u001B[38;5;241m.\u001B[39m_keyword_indices[keyword])\n",
      "\u001B[0;31mKeyError\u001B[0m: \"Keyword 'HISTORY' not found.\""
     ]
    }
   ],
   "source": [
    "flux_range = np.linspace(0.1, 10, 20)\n",
    "\n",
    "observation = Observation(1e8)\n",
    "sim = InterferometerSimulation()\n",
    "telescope = get_MEERKAT_Telescope()\n",
    "\n",
    "detections = []\n",
    "\n",
    "for flux in flux_range:\n",
    "    sky = SkyModel(np.array([[250, 60, flux]]))\n",
    "    visibility = sim.run_simulation(telescope, sky, observation)\n",
    "    imager = Imager(visibility, imaging_npixel=2048, imaging_cellsize=3.878509448876288e-05)\n",
    "    image = imager.get_dirty_image()\n",
    "    detection = detect_sources_in_image(image)\n",
    "    detections.append(detection)"
   ],
   "metadata": {
    "collapsed": false,
    "pycharm": {
     "name": "#%%\n"
    }
   }
  },
  {
   "cell_type": "code",
   "execution_count": null,
   "outputs": [],
   "source": [],
   "metadata": {
    "collapsed": false,
    "pycharm": {
     "name": "#%%\n"
    }
   }
  }
 ],
 "metadata": {
  "kernelspec": {
   "display_name": "Python 3",
   "language": "python",
   "name": "python3"
  },
  "language_info": {
   "codemirror_mode": {
    "name": "ipython",
    "version": 2
   },
   "file_extension": ".py",
   "mimetype": "text/x-python",
   "name": "python",
   "nbconvert_exporter": "python",
   "pygments_lexer": "ipython2",
   "version": "2.7.6"
  }
 },
 "nbformat": 4,
 "nbformat_minor": 0
}