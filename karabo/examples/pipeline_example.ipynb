{
 "cells": [
  {
   "cell_type": "markdown",
   "id": "7269719f",
   "metadata": {},
   "source": [
    "# Sample Pipeline\n",
    "\n",
    "This notebook shows an end to end radio interferometry pipeline from the simulation of the sky to the final image. The pipeline consists of three modules:\n",
    "\n",
    "- Simulation\n",
    "    - Sky module: OSKAR\n",
    "    - Telescope module incl. calibration: OSKAR\n",
    "- Processing\n",
    "    - Calibration after observation: RASCIL\n",
    "    - Deconvolution: RASCIL\n",
    "- Analysis & comparison\n",
    "    - Quantitative and qualitative analysis of algorithms"
   ]
  },
  {
   "cell_type": "code",
   "execution_count": 1,
   "id": "ebaf71c9-53db-4fc7-adc6-6ab0390d812d",
   "metadata": {
    "tags": []
   },
   "outputs": [],
   "source": [
    "import sys\n",
    "import oskar\n",
    "import matplotlib\n",
    "import matplotlib.pyplot as plt\n",
    "from astropy.visualization import astropy_mpl_style\n",
    "import numpy as np\n",
    "# from rascil.apps import rascil_imager\n",
    "# from rascil.processing_components.util.performance import (\n",
    "#     performance_store_dict,\n",
    "#     performance_environment,\n",
    "# )\n",
    "from astropy.utils.data import get_pkg_data_filename\n",
    "from astropy.io import fits"
   ]
  },
  {
   "cell_type": "code",
   "execution_count": 3,
   "id": "4e9a0aad-cbef-40fb-a1e1-105cffd83cea",
   "metadata": {
    "tags": []
   },
   "outputs": [],
   "source": [
    "plt.style.use(astropy_mpl_style)"
   ]
  },
  {
   "cell_type": "markdown",
   "id": "2b3c6d8c",
   "metadata": {},
   "source": []
  },
  {
   "cell_type": "markdown",
   "id": "22b3dd01",
   "metadata": {},
   "source": [
    "## Simulation\n",
    "\n",
    "The sky and telescope simulation is currently provided completely by OSKAR.\n",
    "\n",
    "### Sky Module\n",
    "\n",
    "The sky module of OSKAR contains radiation sources, which are defined as array and can be passed to `oskar.Sky.from_array`."
   ]
  },
  {
   "cell_type": "code",
   "execution_count": 3,
   "id": "51f5ede7",
   "metadata": {
    "tags": []
   },
   "outputs": [],
   "source": [
    "# Set the numerical precision to use.\n",
    "precision = \"single\"\n",
    "\n",
    "# Create a sky model containing three sources from a numpy array.\n",
    "sky_data = np.array([\n",
    "        [20.0, -30.0, 1, 0, 0, 0, 100.0e6, -0.7, 0.0, 0,   0,   0],\n",
    "        [20.0, -30.5, 3, 2, 2, 0, 100.0e6, -0.7, 0.0, 600, 50,  45],\n",
    "        [20.5, -30.5, 3, 0, 0, 2, 100.0e6, -0.7, 0.0, 700, 10, -10]])\n",
    "sky = oskar.Sky.from_array(sky_data, precision)  # Pass precision here."
   ]
  },
  {
   "cell_type": "markdown",
   "source": [],
   "metadata": {
    "collapsed": false
   }
  },
  {
   "cell_type": "markdown",
   "id": "d15a1b55",
   "metadata": {},
   "source": [
    "### Telescope Module\n",
    "\n",
    "Various observation parameters and meta information `params` must be passed to the telescope module `oskar.Interferometer` of OSKAR as `oskar.SettingsTree`."
   ]
  },
  {
   "cell_type": "code",
   "execution_count": 4,
   "id": "06c2e94d-e3f1-4cb9-bfc5-5a6cf57459f9",
   "metadata": {
    "tags": []
   },
   "outputs": [],
   "source": [
    "# Basic settings. (Note that the sky model is set up later.)\n",
    "params = {\n",
    "    \"simulator\": {\n",
    "        \"use_gpus\": False\n",
    "    },\n",
    "    \"observation\" : {\n",
    "        \"num_channels\": 64,\n",
    "        \"start_frequency_hz\": 100e6,\n",
    "        \"frequency_inc_hz\": 20e6,\n",
    "        \"phase_centre_ra_deg\": 20,\n",
    "        \"phase_centre_dec_deg\": -30,\n",
    "        \"num_time_steps\": 24,\n",
    "        \"start_time_utc\": \"01-01-2000 12:00:00.000\",\n",
    "        \"length\": \"12:00:00.000\"\n",
    "    },\n",
    "    \"telescope\": {\n",
    "        \"input_directory\": \"../data/telescope.tm\"\n",
    "    },\n",
    "    \"interferometer\": {\n",
    "        \"ms_filename\": \"visibilities.ms\",\n",
    "        \"oskar_vis_filename\": \"visibilities.vis\",\n",
    "        \"channel_bandwidth_hz\": 1e6,\n",
    "        \"time_average_sec\": 10\n",
    "    }\n",
    "}\n",
    "settings = oskar.SettingsTree(\"oskar_sim_interferometer\")\n",
    "settings.from_dict(params)\n",
    "\n",
    "if precision == \"single\":\n",
    "    settings[\"simulator/double_precision\"] = False\n",
    "\n",
    "# Set the sky model and run the simulation.\n",
    "sim = oskar.Interferometer(settings=settings)"
   ]
  },
  {
   "cell_type": "markdown",
   "id": "1868693f",
   "metadata": {},
   "source": [
    "### Observation Simulation\n",
    "\n",
    "Now the sky module must be passed to the interferometer and the simulation of the observation must be started to generate the measurement set."
   ]
  },
  {
   "cell_type": "code",
   "execution_count": 5,
   "id": "59b6d11e",
   "metadata": {
    "tags": []
   },
   "outputs": [],
   "source": [
    "sim.set_sky_model(sky)\n",
    "sim.run()"
   ]
  },
  {
   "cell_type": "markdown",
   "id": "b9e0bd1b",
   "metadata": {},
   "source": [
    "## Processing\n",
    "\n",
    "After the observation is made with the telescope, a calibration of the measured data must be performed, followed by the reconstruction of the image.\n",
    "\n",
    "### Calibration after Observation\n",
    "\n",
    "toDo"
   ]
  },
  {
   "cell_type": "code",
   "execution_count": null,
   "id": "e01ea9f0",
   "metadata": {
    "tags": []
   },
   "outputs": [],
   "source": [
    "# Code here"
   ]
  },
  {
   "cell_type": "markdown",
   "id": "5a1ca8bf",
   "metadata": {},
   "source": [
    "### Imaging\n",
    "\n",
    "Start an mmclean algorithm with the visibilites.ms as an input to deconvolve. \n",
    "To use dask cluster where you can see the progress, first create a dask cluster in the dask-extension on the left. \n",
    "Then copy the scheduler adress into the variable below. It might be correct already.\n",
    "\n",
    "If you don't do this, remove the --dask_scheduler option from the options in the start_imager call.\n",
    "Then RASCIL starts its own scheduler, you will however not be able to see the dashbaord, as the port is probably not forwarded by docker."
   ]
  },
  {
   "cell_type": "code",
   "execution_count": 10,
   "id": "71820804-3b7a-47be-ac9e-c4058ea50436",
   "metadata": {
    "tags": []
   },
   "outputs": [
    {
     "name": "stdout",
     "output_type": "stream",
     "text": [
      "\n",
      "RASCIL Continuum Imager\n",
      "\n",
      "Started : 2022-02-18 08:09:50.365523\n",
      "Writing log to visibilities.log\n",
      "Gettting client via get_dask_client\n",
      "Creating Dask.distributed Client\n",
      "Diagnostic pages available on port http://127.0.0.1:8787\n"
     ]
    },
    {
     "name": "stderr",
     "output_type": "stream",
     "text": [
      "distributed.nanny - WARNING - Worker process still alive after 3 seconds, killing\n",
      "distributed.nanny - WARNING - Worker process still alive after 3 seconds, killing\n",
      "distributed.nanny - WARNING - Worker process still alive after 3 seconds, killing\n",
      "distributed.nanny - WARNING - Worker process still alive after 3 seconds, killing\n"
     ]
    },
    {
     "name": "stdout",
     "output_type": "stream",
     "text": [
      "Dask nanny: set mem_alloc_trim_=0\n",
      "Dask timeouts: connect 30s tcp: 30s\n",
      "Dask nanny environment {'MALLOC_TRIM_THRESHOLD_': 0, 'OMP_NUM_THREADS': 1, 'MKL_NUM_THREADS': 1}\n",
      "{'calibration_B_first_selfcal': 4,\n",
      " 'calibration_B_phase_only': 'False',\n",
      " 'calibration_B_timeslice': None,\n",
      " 'calibration_G_first_selfcal': 3,\n",
      " 'calibration_G_phase_only': 'False',\n",
      " 'calibration_G_timeslice': None,\n",
      " 'calibration_T_first_selfcal': 1,\n",
      " 'calibration_T_phase_only': 'True',\n",
      " 'calibration_T_timeslice': None,\n",
      " 'calibration_context': 'T',\n",
      " 'calibration_global_solution': 'True',\n",
      " 'calibration_reset_skymodel': 'True',\n",
      " 'clean_algorithm': 'mmclean',\n",
      " 'clean_beam': None,\n",
      " 'clean_component_method': 'fit',\n",
      " 'clean_component_threshold': None,\n",
      " 'clean_facets': 1,\n",
      " 'clean_fractional_threshold': 0.3,\n",
      " 'clean_gain': 0.1,\n",
      " 'clean_niter': 1000,\n",
      " 'clean_nmajor': 1,\n",
      " 'clean_nmoment': 5,\n",
      " 'clean_overlap': 32,\n",
      " 'clean_psf_support': 640,\n",
      " 'clean_restore_facets': 1,\n",
      " 'clean_restore_overlap': 32,\n",
      " 'clean_restore_taper': 'tukey',\n",
      " 'clean_restored_output': 'integrated',\n",
      " 'clean_scales': [0, 6, 10, 30, 60],\n",
      " 'clean_taper': 'tukey',\n",
      " 'clean_threshold': 0.00012,\n",
      " 'dask_connect_timeout': None,\n",
      " 'dask_malloc_trim_threshold': 0,\n",
      " 'dask_memory': None,\n",
      " 'dask_memory_usage_file': None,\n",
      " 'dask_nodes': None,\n",
      " 'dask_nthreads': None,\n",
      " 'dask_nworkers': None,\n",
      " 'dask_scheduler': None,\n",
      " 'dask_scheduler_file': None,\n",
      " 'dask_tcp_timeout': None,\n",
      " 'imaging_cellsize': 3.878509448876288e-05,\n",
      " 'imaging_context': 'ng',\n",
      " 'imaging_dft_kernel': None,\n",
      " 'imaging_dopsf': 'False',\n",
      " 'imaging_flat_sky': False,\n",
      " 'imaging_gaussian_taper': None,\n",
      " 'imaging_nchan': 1,\n",
      " 'imaging_ng_threads': 4,\n",
      " 'imaging_npixel': 2048,\n",
      " 'imaging_phasecentre': None,\n",
      " 'imaging_pol': 'stokesI',\n",
      " 'imaging_robustness': -0.5,\n",
      " 'imaging_w_stacking': True,\n",
      " 'imaging_weighting': 'robust',\n",
      " 'ingest_average_blockvis': 'True',\n",
      " 'ingest_chan_per_blockvis': 4,\n",
      " 'ingest_dd': [0],\n",
      " 'ingest_msname': 'visibilities.ms',\n",
      " 'ingest_vis_nchan': 64,\n",
      " 'input_skycomponent_file': None,\n",
      " 'logfile': None,\n",
      " 'mode': 'cip',\n",
      " 'num_bright_sources': None,\n",
      " 'performance_file': None,\n",
      " 'use_dask': 'True',\n",
      " 'use_initial_skymodel': False}\n",
      "Current working directory is /home/jovyan/work/persistent/karabo/examples\n",
      "create_blockvisibility_from_ms_rsexecute: Defining graph\n",
      "create_blockvisibility_from_ms_rsexecute: will load MS data descriptors [0] into 16 BlockVisibility's of 4 channels\n",
      "rascil.imager.perf_graph: Size of cip graph = 98021 B, time to construct 0.12296652793884277 s\n",
      "rascil.imager.cip: Starting compute of continuum imaging pipeline graph \n",
      "rascil.imager.cip: Finished compute of continuum imaging pipeline graph\n",
      "Quality assessment:\n",
      "\tOrigin: qa_image\n",
      "\tContext: Deconvolved\n",
      "\tData:\n",
      "\t\tshape: '(16, 1, 2048, 2048)'\n",
      "\t\tsize: '536903812'\n",
      "\t\tmax: '0.013947041860537154'\n",
      "\t\tmin: '-9.548386058219185e-05'\n",
      "\t\tmaxabs: '0.013947041860537154'\n",
      "\t\trms: '1.854601879583135e-05'\n",
      "\t\tsum: '6.495531493163053'\n",
      "\t\tmedianabs: '0.0'\n",
      "\t\tmedianabsdevmedian: '0.0'\n",
      "\t\tmedian: '0.0'\n",
      "\n",
      "Writing restored image as single plane at mid-frequency\n",
      "Quality assessment:\n",
      "\tOrigin: qa_image\n",
      "\tContext: Restored\n",
      "\tData:\n",
      "\t\tshape: '(1, 1, 2048, 2048)'\n",
      "\t\tsize: '33587212'\n",
      "\t\tmax: '0.25261624700831553'\n",
      "\t\tmin: '-0.004004645081659632'\n",
      "\t\tmaxabs: '0.25261624700831553'\n",
      "\t\trms: '0.0007858383562996357'\n",
      "\t\tsum: '222.67240594737564'\n",
      "\t\tmedianabs: '0.00019075140181275225'\n",
      "\t\tmedianabsdevmedian: '0.00018969065539086295'\n",
      "\t\tmedian: '3.145719443153926e-05'\n",
      "\n",
      "Quality assessment:\n",
      "\tOrigin: qa_image\n",
      "\tContext: Residual\n",
      "\tData:\n",
      "\t\tshape: '(16, 1, 2048, 2048)'\n",
      "\t\tsize: '536903812'\n",
      "\t\tmax: '0.38202414259821127'\n",
      "\t\tmin: '-0.06393689972930164'\n",
      "\t\tmaxabs: '0.38202414259821127'\n",
      "\t\trms: '0.004165407209350249'\n",
      "\t\tsum: '10310.701171985203'\n",
      "\t\tmedianabs: '0.0007076055068729744'\n",
      "\t\tmedianabsdevmedian: '0.0007071005840356066'\n",
      "\t\tmedian: '-1.1464576719274002e-05'\n",
      "\n",
      "Processor time used in each function\n",
      "\n",
      "Function                              Time (s)    Percent    Number calls\n",
      "----------------------------------  ----------  ---------  --------------\n",
      "create_blockvisibility_from_ms          25.934      1.181              16\n",
      "getitem                                  0.007      0                  34\n",
      "convert_blockvisibility_to_stokesI       0.401      0.018              16\n",
      "create_image_from_visibility             0.343      0.016              16\n",
      "SkyModel                                 0.005      0                  16\n",
      "imaging_grid_weights                     3.235      0.147              16\n",
      "griddata_merge_weights                   3.857      0.176              31\n",
      "extract_sm_image                         0.006      0                  16\n",
      "imaging_re_weight                        1.741      0.079              16\n",
      "imaging_zero_vis                         0.215      0.01               16\n",
      "skymodel_predict_calibrate             514.196     23.412              32\n",
      "imaging_subtract_vis                     0.976      0.044              32\n",
      "invert_blockvisibility                 493.94      22.49               16\n",
      "skymodel_calibrate_invert             1140.3       51.92               32\n",
      "trim                                     0.022      0.001              32\n",
      "sum_invert_results                       8.235      0.375              62\n",
      "fit_psf                                  0.025      0.001               1\n",
      "imaging_deconvolve                       0.072      0.003               1\n",
      "skymodel_update_image                    2.047      0.093              16\n",
      "list                                     0.7        0.032               2\n",
      "skymodel_restore                         0.001      0                   1\n",
      "Total processor time 2196.258 (s), total wallclock time 392.213 (s), speedup 5.60\n",
      "Resulting image(s) ('visibilities_nmoment5_cip_deconvolved.fits', 'visibilities_nmoment5_cip_residual.fits', 'visibilities_nmoment5_cip_restored_centre.fits', 'visibilities_nmoment5_cip_skymodel.hdf')\n",
      "Started  : 2022-02-18 08:09:50.365523\n",
      "Finished : 2022-02-18 08:16:36.202846\n"
     ]
    }
   ],
   "source": [
    "from rascil.apps import rascil_imager\n",
    "\n",
    "def start_imager(rawargs):\n",
    "    parser = rascil_imager.cli_parser()\n",
    "    args = parser.parse_args(rawargs)\n",
    "    rascil_imager.performance_environment(args.performance_file, mode=\"w\")\n",
    "    rascil_imager.performance_store_dict(args.performance_file, \"cli_args\", vars(args), mode=\"a\")\n",
    "    image_name = rascil_imager.imager(args)\n",
    "\n",
    "start_imager(\n",
    "    [\n",
    "        '--ingest_msname','visibilities.ms',\n",
    "        '--ingest_dd', '0',\n",
    "        '--ingest_vis_nchan', '64',\n",
    "        '--ingest_chan_per_blockvis', '4',\n",
    "        '--ingest_average_blockvis', 'True',\n",
    "        '--imaging_npixel', '2048',\n",
    "        '--imaging_cellsize', '3.878509448876288e-05',\n",
    "        '--imaging_weighting', 'robust',\n",
    "        '--imaging_robustness', '-0.5',\n",
    "        '--clean_nmajor', '2',\n",
    "        '--clean_algorithm', 'mmclean',\n",
    "        '--clean_scales', '0', '6', '10', '30', '60',\n",
    "        '--clean_fractional_threshold', '0.3',\n",
    "        '--clean_threshold', '0.12e-3',\n",
    "        '--clean_nmoment' ,'5',\n",
    "        '--clean_psf_support', '640',\n",
    "        '--clean_restored_output', 'integrated'\n",
    "    ])"
   ]
  },
  {
   "cell_type": "markdown",
   "id": "5193be94",
   "metadata": {},
   "source": [
    "## Analysis and Comparison\n",
    "\n",
    "toDo"
   ]
  },
  {
   "cell_type": "code",
   "execution_count": null,
   "id": "5ff6d94d-2643-468d-b0ab-a9f72feb62e2",
   "metadata": {
    "tags": []
   },
   "outputs": [],
   "source": [
    "# matplotlib.use(\"Agg\") from rascil_imager.py causes the problem that matplotlib isn't able to plot in the notebook\n",
    "# If you want to plot here, you have to restart the kernel first, otherwise use an imager like \"SAOImage DS9\"\n",
    "image_file = get_pkg_data_filename('visibilities_nmoment5_cip_deconvolved.fits')\n",
    "fits.info(image_file)"
   ]
  },
  {
   "cell_type": "code",
   "execution_count": null,
   "id": "cb378147-a901-46ae-a1e3-2320b94d497b",
   "metadata": {
    "tags": []
   },
   "outputs": [],
   "source": [
    "image_data = fits.getdata(image_file)\n",
    "image_data = np.log(image_data.sum(axis=(0,1)))\n",
    "_ = plt.figure(figsize=(8,6))\n",
    "_ = plt.imshow(image_data, cmap='gray')\n",
    "_ = plt.colorbar()"
   ]
  }
 ],
 "metadata": {
  "interpreter": {
   "hash": "a424f534593172213fc036407833d41a2357dbed8b39ef293519ab55d7a4ebc3"
  },
  "kernelspec": {
   "display_name": "Python 3 (ipykernel)",
   "language": "python",
   "name": "python3"
  },
  "language_info": {
   "codemirror_mode": {
    "name": "ipython",
    "version": 3
   },
   "file_extension": ".py",
   "mimetype": "text/x-python",
   "name": "python",
   "nbconvert_exporter": "python",
   "pygments_lexer": "ipython3",
   "version": "3.9.7"
  }
 },
 "nbformat": 4,
 "nbformat_minor": 5
}
