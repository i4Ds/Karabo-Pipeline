{
 "cells": [
  {
   "cell_type": "markdown",
   "id": "87d67272",
   "metadata": {
    "pycharm": {
     "name": "#%% md\n"
    }
   },
   "source": [
    "# Source Detection Benchmark"
   ]
  },
  {
   "cell_type": "code",
   "execution_count": 1,
   "id": "7f2f594e",
   "metadata": {
    "pycharm": {
     "name": "#%%\n"
    }
   },
   "outputs": [],
   "source": [
    "import numpy as np\n",
    "from karabo.sourcedetection.evaluation import SourceDetectionEvaluation\n",
    "import matplotlib.pyplot as plt\n",
    "\n",
    "# Render matplotlib inline\n",
    "%matplotlib inline"
   ]
  },
  {
   "cell_type": "markdown",
   "id": "747d5480",
   "metadata": {
    "pycharm": {
     "name": "#%% md\n"
    }
   },
   "source": [
    "## Evaluation Measures\n",
    "\n",
    "true positives (TP), false positives (FP) or false negatives (FN)\n",
    "true sources correctly detected (TSD) = recall = TP / (TP + FN)\n",
    "reliability = precision = TP / (TP + FP)\n",
    "\n",
    "The strategy used to match the detections with the sources in the reference catalogue is the following: first, the closest detection for each source in the catalogue is found. Second, associations between sources and detections that are further away than a pre-established maximum distanceance are deleted. We assume that the centre of two different sources cannot be closer than the FWHM of the image, so this is the maximum distance selected. Next, where detections associated with more than one source from the catalogue are found, only the closest association is kept, deleting the others. In the same way, if a true source is associated with more than one detection, only the correspondence with the shortest distance is saved. Finally, the evaluation measures are computed: TP are the detections associated with a source, FP are detections without any associated source, while FN are sources with no associations with a detection (AUTOMATIC SOURCE DETECTION IN ASTRONOMICAL IMAGES, Marc MASIAS MOYSET 2014).\n",
    "\n",
    "The implementation of `automatic_assignment` is pretty similar, but not equal. For details read the docstring."
   ]
  },
  {
   "cell_type": "code",
   "execution_count": 2,
   "id": "947b621a",
   "metadata": {},
   "outputs": [
    {
     "name": "stdout",
     "output_type": "stream",
     "text": [
      "Shape of ground truth:  (4, 2)\n",
      "Shape of detection:  (4, 2)\n"
     ]
    }
   ],
   "source": [
    "max_dist = 0.5\n",
    "gtruth = np.array(\n",
    "    [\n",
    "        [0.0, 0.0],\n",
    "        [0.0, 1.1],\n",
    "        [1.0, 0.0],\n",
    "        [1.2, 1.0],\n",
    "    ]\n",
    ")\n",
    "\n",
    "detection = np.array(\n",
    "    [\n",
    "        [1.0, 0.0],\n",
    "        [1.2, 1.0],\n",
    "        [0.0, 0.0],\n",
    "        [0.0, 1.1],\n",
    "    ]\n",
    ")\n",
    "\n",
    "detection = detection + np.random.randn(*detection.shape) * 0.1\n",
    "\n",
    "print(\"Shape of ground truth: \", gtruth.shape)\n",
    "print(\"Shape of detection: \", detection.shape)"
   ]
  },
  {
   "cell_type": "code",
   "execution_count": 3,
   "id": "dfae1370",
   "metadata": {},
   "outputs": [
    {
     "data": {
      "text/plain": [
       "array([[0.        , 2.        , 0.0414303 ],\n",
       "       [1.        , 3.        , 0.24787477],\n",
       "       [2.        , 0.        , 0.04181487],\n",
       "       [3.        , 1.        , 0.33758069]])"
      ]
     },
     "execution_count": 3,
     "metadata": {},
     "output_type": "execute_result"
    }
   ],
   "source": [
    "assigment = (\n",
    "    SourceDetectionEvaluation.automatic_assignment_of_ground_truth_and_prediction(\n",
    "        gtruth, detection, max_dist, top_k=3\n",
    "    )\n",
    ")\n",
    "assigment"
   ]
  },
  {
   "cell_type": "code",
   "execution_count": 4,
   "id": "69443bbf",
   "metadata": {},
   "outputs": [
    {
     "data": {
      "image/png": "[encoded data removed]",
      "text/plain": [
       "<Figure size 640x480 with 1 Axes>"
      ]
     },
     "metadata": {},
     "output_type": "display_data"
    }
   ],
   "source": [
    "plt.scatter(gtruth[:, 0], gtruth[:, 1], c=\"g\", alpha=0.5, label=\"ground truth\")\n",
    "plt.scatter(detection[:, 0], detection[:, 1], c=\"r\", alpha=0.5, label=\"detection\")\n",
    "plt.legend([\"Ground truth\", \"Detection\"])\n",
    "plt.title(\"Source detection assessment\")\n",
    "\n",
    "# Annotated with the assignment\n",
    "for i in range(len(gtruth)):\n",
    "    plt.annotate(int(assigment[i, 0]), (gtruth[i, 0], gtruth[i, 1]))\n",
    "\n",
    "for i in range(len(detection)):\n",
    "    plt.annotate(int(assigment[i, 0]), (detection[i, 0], detection[i, 1]))\n",
    "plt.show()"
   ]
  },
  {
   "cell_type": "code",
   "execution_count": 5,
   "id": "3ee1679d",
   "metadata": {
    "pycharm": {
     "name": "#%%\n"
    }
   },
   "outputs": [
    {
     "name": "stdout",
     "output_type": "stream",
     "text": [
      "Shape of ground truth:  (8, 2)\n",
      "Shape of detection:  (9, 2)\n"
     ]
    }
   ],
   "source": [
    "# with this seed and max_dist it seems to be correct\n",
    "max_dist = 1\n",
    "gtruth = np.array(\n",
    "    [\n",
    "        [0.0, 0.0],\n",
    "        [1.1, 1.1],\n",
    "        [2.2, 2.2],\n",
    "        [3.3, 3.3],\n",
    "        [4.4, 4.4],\n",
    "        [5.5, 5.5],\n",
    "        [6.6, 6.6],\n",
    "        [7.7, 7.7],\n",
    "    ]\n",
    ")\n",
    "\n",
    "\n",
    "# Flip gtruth to get a different result\n",
    "detection = np.flipud(gtruth) + np.random.randn(*gtruth.shape) * 0.5\n",
    "detection = np.vstack((detection, np.array([-2, -2])))\n",
    "\n",
    "print(\"Shape of ground truth: \", gtruth.shape)\n",
    "print(\"Shape of detection: \", detection.shape)"
   ]
  },
  {
   "cell_type": "code",
   "execution_count": 6,
   "id": "c64cb778",
   "metadata": {
    "pycharm": {
     "name": "#%%\n"
    }
   },
   "outputs": [
    {
     "data": {
      "text/plain": [
       "array([[-1.        ,  0.        ,         inf],\n",
       "       [-1.        ,  6.        ,         inf],\n",
       "       [-1.        ,  8.        ,         inf],\n",
       "       [ 0.        ,  7.        ,  0.57839393],\n",
       "       [ 1.        , -1.        ,         inf],\n",
       "       [ 2.        ,  5.        ,  0.58915135],\n",
       "       [ 3.        ,  4.        ,  0.61855496],\n",
       "       [ 4.        ,  3.        ,  0.2871654 ],\n",
       "       [ 5.        ,  2.        ,  0.7506074 ],\n",
       "       [ 6.        ,  1.        ,  0.32062921],\n",
       "       [ 7.        , -1.        ,         inf]])"
      ]
     },
     "execution_count": 6,
     "metadata": {},
     "output_type": "execute_result"
    }
   ],
   "source": [
    "assigment = (\n",
    "    SourceDetectionEvaluation.automatic_assignment_of_ground_truth_and_prediction(\n",
    "        gtruth, detection, max_dist, top_k=3\n",
    "    )\n",
    ")\n",
    "assigment"
   ]
  },
  {
   "cell_type": "code",
   "execution_count": 7,
   "id": "e7b006c2",
   "metadata": {
    "pycharm": {
     "name": "#%%\n"
    }
   },
   "outputs": [
    {
     "data": {
      "image/png": "[encoded data removed]",
      "text/plain": [
       "<Figure size 640x480 with 1 Axes>"
      ]
     },
     "metadata": {},
     "output_type": "display_data"
    }
   ],
   "source": [
    "plt.scatter(gtruth[:, 0], gtruth[:, 1], c=\"g\", alpha=0.5, label=\"ground truth\")\n",
    "plt.scatter(detection[:, 0], detection[:, 1], c=\"r\", alpha=0.5, label=\"detection\")\n",
    "plt.legend([\"Ground truth\", \"Detection\"])\n",
    "plt.title(\"Source detection assessment\")\n",
    "plt.show()"
   ]
  },
  {
   "cell_type": "markdown",
   "id": "90c95baa",
   "metadata": {},
   "source": [
    "        Calculates the True Positive (TP), False Positive (FP) and False Negative (FN) of the ground truth and predictions.\n",
    "        - TP are the detections associated with a source\n",
    "        - FP are detections without any associated source\n",
    "        - FN are sources with no associations with a detection\n"
   ]
  },
  {
   "cell_type": "code",
   "execution_count": 8,
   "id": "3276aab6",
   "metadata": {},
   "outputs": [],
   "source": [
    "tp = assigment[np.logical_and(assigment[:, 1] != -1, assigment[:, 0] != -1), :].shape[0]\n",
    "fp = assigment[assigment[:, 1] == -1, :].shape[0]\n",
    "fn = assigment[assigment[:, 0] == -1, :].shape[0]"
   ]
  },
  {
   "cell_type": "code",
   "execution_count": 9,
   "id": "bc49ddc9",
   "metadata": {},
   "outputs": [
    {
     "data": {
      "text/plain": [
       "(6, 2, 3)"
      ]
     },
     "execution_count": 9,
     "metadata": {},
     "output_type": "execute_result"
    }
   ],
   "source": [
    "tp, fp, fn"
   ]
  },
  {
   "cell_type": "markdown",
   "id": "4f7494a0",
   "metadata": {},
   "source": [
    "## Calculate TP, FP, FN"
   ]
  },
  {
   "cell_type": "code",
   "execution_count": 10,
   "id": "4df937a2",
   "metadata": {},
   "outputs": [
    {
     "data": {
      "text/plain": [
       "(8, 0, 0)"
      ]
     },
     "execution_count": 10,
     "metadata": {},
     "output_type": "execute_result"
    }
   ],
   "source": [
    "SourceDetectionEvaluation.calculate_evaluation_measures(assigment)"
   ]
  },
  {
   "cell_type": "markdown",
   "id": "2b22c742",
   "metadata": {},
   "source": [
    "## Test with bigger data"
   ]
  },
  {
   "cell_type": "code",
   "execution_count": 11,
   "id": "833c70ea",
   "metadata": {},
   "outputs": [],
   "source": [
    "gtruth = np.random.randn(50000, 2) * 100\n",
    "detected = np.flipud(gtruth)\n",
    "\n",
    "result = SourceDetectionEvaluation.automatic_assignment_of_ground_truth_and_prediction(\n",
    "    gtruth, detected, max_dist, top_k=3\n",
    ")\n",
    "\n",
    "assert np.all(\n",
    "    result[:, 0] == result[::-1, 1]\n",
    "), \"The assignment is not correct. The column with the ground truth should be idential to the reveresed detection column.\""
   ]
  },
  {
   "cell_type": "code",
   "execution_count": 12,
   "id": "79569fa2",
   "metadata": {},
   "outputs": [
    {
     "data": {
      "text/plain": [
       "array([[-1.00000000e+00,  0.00000000e+00,             inf],\n",
       "       [-1.00000000e+00,  2.44200000e+03,             inf],\n",
       "       [-1.00000000e+00,  2.44100000e+03,             inf],\n",
       "       ...,\n",
       "       [ 4.99700000e+03,  4.96200000e+03,  3.66456620e-01],\n",
       "       [ 4.99800000e+03, -1.00000000e+00,             inf],\n",
       "       [ 4.99900000e+03,  6.34000000e+02,  2.37956087e-01]])"
      ]
     },
     "execution_count": 12,
     "metadata": {},
     "output_type": "execute_result"
    }
   ],
   "source": [
    "gtruth = np.random.randn(5000, 2) * 10\n",
    "detected = np.random.randn(5000, 2) * 10\n",
    "SourceDetectionEvaluation.automatic_assignment_of_ground_truth_and_prediction(\n",
    "    gtruth, detected, max_dist, top_k=3\n",
    ")"
   ]
  }
 ],
 "metadata": {
  "kernelspec": {
   "display_name": "Python 3.9.16 ('karabo_dev_env')",
   "language": "python",
   "name": "python3"
  },
  "language_info": {
   "codemirror_mode": {
    "name": "ipython",
    "version": 3
   },
   "file_extension": ".py",
   "mimetype": "text/x-python",
   "name": "python",
   "nbconvert_exporter": "python",
   "pygments_lexer": "ipython3",
   "version": "3.9.16"
  },
  "vscode": {
   "interpreter": {
    "hash": "ccbb141bba2c4c019c63d533d94ea415ff9cd07ec39847273b695c7aaf48b1d0"
   }
  }
 },
 "nbformat": 4,
 "nbformat_minor": 5
}
