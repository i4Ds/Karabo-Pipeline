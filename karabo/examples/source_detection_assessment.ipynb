{
 "cells": [
  {
   "cell_type": "markdown",
   "id": "87d67272",
   "metadata": {},
   "source": [
    "# Source Detection Benchmark"
   ]
  },
  {
   "cell_type": "code",
   "execution_count": 1,
   "id": "7f2f594e",
   "metadata": {},
   "outputs": [],
   "source": [
    "from scipy.spatial.distance import cdist\n",
    "import numpy as np"
   ]
  },
  {
   "cell_type": "markdown",
   "id": "747d5480",
   "metadata": {},
   "source": [
    "## Evaluation Measures\n",
    "\n",
    "true positives (TP), false positives (FP) or false negatives (FN)\n",
    "true sources correctly detected (TSD) = recall = TP / (TP + FN)\n",
    "reliability = precision = TP / (TP + FP)\n",
    "\n",
    "The strategy used to match the detections with the sources in the reference catalogue is the following: first, the closest detection for each source in the catalogue is found. Second, associations between sources and detections that are further away than a pre-established maximum distance are deleted. We assume that the centre of two different sources cannot be closer than the FWHM of the image, so this is the maximum distance selected. Next, where detections associated with more than one source from the catalogue are found, only the closest association is kept, deleting the others. In the same way, if a true source is associated with more than one detection, only the correspondence with the shortest distance is saved. Finally, the evaluation measures are computed: TP are the detections associated with a source, FP are detections without any associated source, while FN are sources with no associations with a detection (AUTOMATIC SOURCE DETECTION IN ASTRONOMICAL IMAGES, Marc MASIAS MOYSET 2014).\n",
    "\n",
    "The implementation of `automatic_assignment` is pretty similar, but not equal. For details read the docstring."
   ]
  },
  {
   "cell_type": "code",
   "execution_count": 2,
   "id": "c71644e3",
   "metadata": {},
   "outputs": [],
   "source": [
    "def automatic_assignment(gtruth: np.ndarray, predicted: np.ndarray, max_dist: float) -> np.ndarray:\n",
    "    \"\"\"\n",
    "    Automatic assignment of the predicted sources `predicted` to the ground truth `gtruth`.\n",
    "    The strategy is the following\n",
    "    (similar to AUTOMATIC SOURCE DETECTION IN ASTRONOMICAL IMAGES, P.61, Marc MASIAS MOYSET, 2014):\n",
    "    \n",
    "    Each distance between the predicted and the ground truth sources is calculated.\n",
    "    Any distances > `max_dist` are deleted.\n",
    "    Assign the closest distance from the predicted and ground truth.\n",
    "    Repeat the assignment, until every source from the gtruth has an assigment if possible,\n",
    "        not allowing any double assignments from the predicted sources to the ground truth and vice versa.\n",
    "    So each ground truth source should be assigned with a predicted source if at leas one was in range\n",
    "        and the predicted source assigned to another ground truth source before.\n",
    "        \n",
    "    :param gtruth: nx2 np.ndarray with the ground truth pixel coordinates of the catalog\n",
    "    :param predicted: kx2 np.ndarray with the predicted pixel coordinates of the image\n",
    "    :param max_dist: maximal allowed distance for assignment\n",
    "    \n",
    "    :return: jx3 np.ndarray where each row represents an assignment\n",
    "                 - first column represents the ground truth index\n",
    "                 - second column represents the predicted index\n",
    "                 - third column represents the euclidean distance between the assignment\n",
    "    \"\"\"\n",
    "    eucl_dists = cdist(gtruth, predicted)\n",
    "    gtruth_assignments = np.array([None]*gtruth.shape[0])\n",
    "    # gets the eucl_dists sorted values indices as (m*n of eucl_dists) x 2 matrix\n",
    "    argsort_2dIdxs = np.array(np.unravel_index(np.argsort(eucl_dists, axis=None), eucl_dists.shape)).transpose()\n",
    "    max_dist_2dIdxs = np.array(np.where(eucl_dists <= max_dist)).transpose()\n",
    "    # can slice it since argsort_2dIdxs is sorted. it is to ensure to not assign sources outside of max_dist\n",
    "    argsort_2dIdxs = argsort_2dIdxs[:max_dist_2dIdxs.shape[0]]\n",
    "    # to get the closes assignment it is the task to get the first indices pair which each index in each column occured just once\n",
    "    assigned_gtruth_idxs, assigned_predicted_idxs, eucl_dist = [], [], []\n",
    "    for i in range(argsort_2dIdxs.shape[0]):\n",
    "        # could maybe perform better if possible assignments argsort_2dIdxs is very large by filtering the selected idxs after assignment\n",
    "        assignment_idxs = argsort_2dIdxs[i]\n",
    "        if (assignment_idxs[0] not in assigned_gtruth_idxs) and (assignment_idxs[1] not in assigned_predicted_idxs):\n",
    "            assigned_gtruth_idxs.append(assignment_idxs[0])\n",
    "            assigned_predicted_idxs.append(assignment_idxs[1])\n",
    "            eucl_dist.append(eucl_dists[assignment_idxs[0],assignment_idxs[1]])\n",
    "    assignments = np.array([assigned_gtruth_idxs,assigned_predicted_idxs,eucl_dist]).transpose()\n",
    "    return assignments\n",
    "\n",
    "def calc_eval_measures(gtruth: np.ndarray, predicted: np.ndarray, max_dist: float) -> tuple:\n",
    "    \"\"\"\n",
    "    Calculates the True Positive (TP), False Positive (FP) and False Negative (FN) of the ground trugh and predictions.\n",
    "    - TP are the detections associated with a source\n",
    "    - FP are detections without any associated source\n",
    "    - FN are sources with no associations with a detection\n",
    "    \n",
    "    :param gtruth: nx2 np.ndarray with the ground truth pixel coordinates of the catalog\n",
    "    :param predicted: kx2 np.ndarray with the predicted pixel coordinates of the image\n",
    "    :param max_dist: maximal allowed distance for assignment\n",
    "    \n",
    "    :return: TP, FP, FN\n",
    "    \"\"\"\n",
    "    assignments = automatic_assignment(gtruth, predicted, max_dist)\n",
    "    tp = assignments.shape[0]\n",
    "    fp = predicted.shape[0] - assignments.shape[0]\n",
    "    fn = gtruth.shape[0] - assignments.shape[0]\n",
    "    return tp, fp, fn"
   ]
  },
  {
   "cell_type": "code",
   "execution_count": 3,
   "id": "3ee1679d",
   "metadata": {},
   "outputs": [
    {
     "data": {
      "text/plain": [
       "array([[3.        , 0.        , 0.15      ],\n",
       "       [0.        , 1.        , 0.2236068 ],\n",
       "       [2.        , 2.        , 0.23323808]])"
      ]
     },
     "execution_count": 3,
     "metadata": {},
     "output_type": "execute_result"
    }
   ],
   "source": [
    "# with this seed and max_dist it seems to be correct \n",
    "np.random.seed(42)\n",
    "max_dist = .5\n",
    "gtruth = np.array([[1.2,7.8],\n",
    "                   [4.5,1.4],\n",
    "                   [3.9,4.7],\n",
    "                   [3.7,4.8]])\n",
    "predicted = np.array([[3.7,4.65],\n",
    "                      [1.1,8.0],\n",
    "                      [3.7,4.58]])\n",
    "\n",
    "automatic_assignment(gtruth, predicted, max_dist)"
   ]
  },
  {
   "cell_type": "code",
   "execution_count": 4,
   "id": "c64cb778",
   "metadata": {},
   "outputs": [
    {
     "data": {
      "text/plain": [
       "(3, 0, 1)"
      ]
     },
     "execution_count": 4,
     "metadata": {},
     "output_type": "execute_result"
    }
   ],
   "source": [
    "calc_eval_measures(gtruth, predicted, max_dist)"
   ]
  },
  {
   "cell_type": "code",
   "execution_count": 5,
   "id": "e7b006c2",
   "metadata": {},
   "outputs": [
    {
     "data": {
      "image/png": "[encoded data removed]",
      "text/plain": [
       "<Figure size 640x480 with 1 Axes>"
      ]
     },
     "metadata": {},
     "output_type": "display_data"
    }
   ],
   "source": [
    "import matplotlib.pyplot as plt\n",
    "\n",
    "_ = plt.scatter(gtruth[:,0], gtruth[:,1], c='g')\n",
    "_ = plt.scatter(predicted[:,0], predicted[:,1], c='r')\n",
    "plt.show()"
   ]
  }
 ],
 "metadata": {
  "kernelspec": {
   "display_name": "karaboNew",
   "language": "python",
   "name": "karabonew"
  },
  "language_info": {
   "codemirror_mode": {
    "name": "ipython",
    "version": 3
   },
   "file_extension": ".py",
   "mimetype": "text/x-python",
   "name": "python",
   "nbconvert_exporter": "python",
   "pygments_lexer": "ipython3",
   "version": "3.8.12"
  }
 },
 "nbformat": 4,
 "nbformat_minor": 5
}
