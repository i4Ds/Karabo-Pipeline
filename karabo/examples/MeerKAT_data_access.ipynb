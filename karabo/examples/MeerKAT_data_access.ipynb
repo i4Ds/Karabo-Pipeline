{
 "cells": [
  {
   "cell_type": "markdown",
   "id": "f3e265f0",
   "metadata": {
    "pycharm": {
     "name": "#%% md\n"
    }
   },
   "source": [
    "# MeerKAT Data\n",
    "\n",
    "MeerKAT observations have different sizes from some GB to TB. To provide access to such data sets, [katdal](https://github.com/ska-sa/katdal) provides an interface. The data products are available as *MeerKAT Visibility Format (MVF)*. [katdal](https://github.com/ska-sa/katdal) additionally offers a script which converts the *MVF* to CASA measurement *.ms* files.\n",
    "\n",
    "For further details using [katdal](https://github.com/ska-sa/katdal) you can visit it's [documentation](https://katdal.readthedocs.io/en/latest/index.html). In addition, [MeerKAT-Cookbook](https://github.com/ska-sa/MeerKAT-Cookbook) also provides some examples of different use-cases using [katdal](https://github.com/ska-sa/katdal)."
   ]
  },
  {
   "cell_type": "code",
   "execution_count": null,
   "id": "798de378",
   "metadata": {
    "pycharm": {
     "name": "#%%\n"
    }
   },
   "outputs": [],
   "source": [
    "#!pip install katdal\n",
    "import katdal\n",
    "import time, yaml"
   ]
  },
  {
   "cell_type": "markdown",
   "id": "f4a1cc74",
   "metadata": {
    "pycharm": {
     "name": "#%% md\n"
    }
   },
   "source": [
    "The observation we used to run this Notebook is:\n",
    "\n",
    "- Observer: Operator\n",
    "- Experiment ID: 20210605-0009\n",
    "- Description: 'Meertime phase up with flatten bandpass'\n",
    "- Observed from 2021-06-06 01:06:13.567 CEST to 2021-06-06 01:13:09.646 CEST\n",
    "- Dump rate / period: 0.12498 Hz / 8.002 s\n",
    "\n",
    "If you want to run the same configurations, please insert the according token in `config.yaml`."
   ]
  },
  {
   "cell_type": "markdown",
   "id": "da508722",
   "metadata": {
    "pycharm": {
     "name": "#%% md\n"
    }
   },
   "source": [
    "# Data Access\n",
    "\n",
    "MeerKAT observation files are available through the [MeerKAT archive](https://archive.sarao.ac.za/). It requires a registration and login to get access. A detailed description is accessible through [Archive Interface User Guide](https://archive.sarao.ac.za/statics/Archive_Interface_User_Guide.pdf).\n",
    "\n",
    "## katdal Visibility Data V4\n",
    "\n",
    "This section provides a rough overview of how to access the data directly using `katdal.visdatav4.VisibilityDataV4`. In case you are just interested of how to get a CASA measurement set, you can skip this section and continue on the chapter [Convert to CASA Measurement Set](#1).\n",
    "\n",
    "Der grosse Vorteil bei der Nutzung von [katdal](https://github.com/ska-sa/katdal) liegt darin, dass schnell ein Überblick über die Metadaten sowie ein Subset der gesamten Daten gewonnen werden kann, ohne dabei den gesamten Datensatz zuerst downloaden zu müssen. [katdal](https://github.com/ska-sa/katdal) stellt lazy Datenobjekte zur Verfügung. Diese laden lediglich die Metadaten des Datensets. Darauf können dann verschiedene Filterfunktionen ausgeführt werden, was die effektive Datenmenge des Datensatzes beim Download beschränkt.\n",
    "\n",
    "To get access through [katdal](https://github.com/ska-sa/katdal) you have to generate an *rdb-link with token* on the [MeerKAT archive](https://archive.sarao.ac.za/). The *rdb-link* is defined as:\n",
    "\n",
    "*https<span>://archive-gw-1.kat.ac.za/\\<captureblockID>/\\<captureblockID>_sdp_l0.full.rdb?token=\\<tokenString>*\n",
    "\n",
    "Then you can just copy the token \\<tokenString> into the `katdal.open` token argument. Afterwards, you can just copy the url into the first argument of `katdal.open`.\n",
    "\n",
    "**Note: all tokens have expiry dates**"
   ]
  },
  {
   "cell_type": "code",
   "execution_count": null,
   "id": "e57e9f4d",
   "metadata": {
    "pycharm": {
     "name": "#%%\n"
    }
   },
   "outputs": [],
   "source": [
    "with open('../config.yaml', 'r') as stream:\n",
    "    token = yaml.safe_load(stream)['MeerKAT_archive_token']\n",
    "\n",
    "stime = time.time()\n",
    "data = katdal.open('https://archive-gw-1.kat.ac.za/1622934371/1622934371_sdp_l0.full.rdb',\n",
    "                   s3_endpoint_url='https://archive-gw-1.kat.ac.za',\n",
    "                   token=token)\n",
    "print('time to read file = {} s'.format(time.time() - stime))\n",
    "print('(dumps x channels x baselines) = {}'.format(data.shape))\n",
    "print(data.vis.dataset)"
   ]
  },
  {
   "cell_type": "markdown",
   "id": "a726b673",
   "metadata": {
    "pycharm": {
     "name": "#%% md\n"
    }
   },
   "source": [
    "### Observation Details"
   ]
  },
  {
   "cell_type": "code",
   "execution_count": null,
   "id": "17ed10e6",
   "metadata": {
    "scrolled": true,
    "pycharm": {
     "name": "#%%\n"
    }
   },
   "outputs": [],
   "source": [
    "print(data)"
   ]
  },
  {
   "cell_type": "markdown",
   "id": "7924d415",
   "metadata": {
    "pycharm": {
     "name": "#%% md\n"
    }
   },
   "source": [
    "data.shape\\[0\\]: dumps\n",
    "\n",
    "data.shape\\[1\\]: channels\n",
    "\n",
    "data.shape\\[2\\]: correlation products"
   ]
  },
  {
   "cell_type": "code",
   "execution_count": null,
   "id": "8f886323",
   "metadata": {
    "pycharm": {
     "name": "#%%\n"
    }
   },
   "outputs": [],
   "source": [
    "data.shape"
   ]
  },
  {
   "cell_type": "markdown",
   "id": "7547ffcb",
   "metadata": {
    "pycharm": {
     "name": "#%% md\n"
    }
   },
   "source": [
    "esimated memory of the full visibilities in Bytes: dumps \\* channels \\* correlation_products \\* 64(complex64) / 8"
   ]
  },
  {
   "cell_type": "code",
   "execution_count": null,
   "id": "f1ede82a",
   "metadata": {
    "pycharm": {
     "name": "#%%\n"
    }
   },
   "outputs": [],
   "source": [
    "vis_memory = int(data.shape[0]*data.shape[1]*data.shape[2]*64/8)\n",
    "vis_memory"
   ]
  },
  {
   "cell_type": "markdown",
   "id": "52895bd6",
   "metadata": {
    "pycharm": {
     "name": "#%% md\n"
    }
   },
   "source": [
    "### Filtering & Access the Data\n",
    "\n",
    "[katdal](https://github.com/ska-sa/katdal) provides functionality regarding filtering through `data.select`. This pre-filters the data so that when `data.vis` is accessed, not all the data has to be loaded. After that an `npumpy.ndarray` is returned, on which you can continue working as usual.\n",
    "\n",
    "The following chunks show a small example of data access. Many parameter settings can be derived from the output of \"print(data)\".\n",
    "\n",
    "select `timerange` from **Scans**\n",
    "\n",
    "select `targets` from **Targets**"
   ]
  },
  {
   "cell_type": "code",
   "execution_count": null,
   "id": "f91c3751",
   "metadata": {
    "pycharm": {
     "name": "#%%\n"
    }
   },
   "outputs": [],
   "source": [
    "data.select(timerange=('2021-06-05 23:11:53', '2021-06-05 23:13:05'), targets=[0])"
   ]
  },
  {
   "cell_type": "markdown",
   "id": "2d1c7880",
   "metadata": {
    "pycharm": {
     "name": "#%% md\n"
    }
   },
   "source": [
    "select `spw` from **Spectral Windows**\n",
    "\n",
    "select `subarray` from **Subarrays**"
   ]
  },
  {
   "cell_type": "code",
   "execution_count": null,
   "id": "136f7fc4",
   "metadata": {
    "pycharm": {
     "name": "#%%\n"
    }
   },
   "outputs": [],
   "source": [
    "data.select(spw=0, subarray=0)"
   ]
  },
  {
   "cell_type": "markdown",
   "id": "9b936145",
   "metadata": {
    "pycharm": {
     "name": "#%% md\n"
    }
   },
   "source": [
    "select `ants` from **ants** or **Antennas**\n",
    "\n",
    "select `pol` (polarisation) from {'H', 'V', 'HH', 'VV', 'HV', 'VH'}\n",
    "\n",
    "select `scans` from **Scans ScanState**\n",
    "\n",
    "select `freqrange` NOT sure yet"
   ]
  },
  {
   "cell_type": "code",
   "execution_count": null,
   "id": "51779ee2",
   "metadata": {
    "pycharm": {
     "name": "#%%\n"
    }
   },
   "outputs": [],
   "source": [
    "data.select(ants='m000,m001,m002,m003,m005,m006,m007,m008,m009',\n",
    "            pol='H', scans=(0,1,2), freqrange=(1700e6, 1800e6))"
   ]
  },
  {
   "cell_type": "markdown",
   "id": "d8d1fb4a",
   "metadata": {
    "pycharm": {
     "name": "#%% md\n"
    }
   },
   "source": [
    "[katdal](https://github.com/ska-sa/katdal) provides more filter functionality. The code can be found [here](https://github.com/ska-sa/katdal/blob/master/katdal/dataset.py) in `DataSet`.\n",
    "\n",
    "Note the `[:]` indexing, as the `vis` and `timestamps` properties are special `LazyIndexer` objects that only give you the actual data when you use indexing, in order not to inadvertently load the entire array into memory.\n",
    "\n",
    "For the example dataset and no selection the `vis` array will have a shape of `data.shape`. The time dimension is labelled by `d.timestamps`, the frequency dimension by `d.channel_freqs` and the correlation product dimension by `d.corr_products`."
   ]
  },
  {
   "cell_type": "code",
   "execution_count": null,
   "id": "c0cbdb58",
   "metadata": {
    "pycharm": {
     "name": "#%%\n"
    }
   },
   "outputs": [],
   "source": [
    "#vis = data.vis[:] # loads the actual visibilities to `vis` as numpy.ndarray"
   ]
  },
  {
   "cell_type": "markdown",
   "id": "4c023fe2",
   "metadata": {
    "pycharm": {
     "name": "#%% md\n"
    }
   },
   "source": [
    "## Convert to CASA Measurement Set <a class=\"anchor\" id=\"1\"></a>\n",
    "\n",
    "The conversion from *MVF* to *.ms* files is done by mvftoms.py. As soon as you've installed [katdal](https://github.com/ska-sa/katdal) using pip, the mvftoms.py is available in your environments /bin. So you should be able to address the mvftoms.py directly using your shell.\n",
    "\n",
    "The datasets may be local filenames or archive URLs (*rdb-link* including access tokens). If there are multiple datasets they will be concatenated via katdal before conversion.\n",
    "\n",
    "The conversion has the following form:\n",
    "\n",
    "- mvftoms.py \\[options\\] \\<dataset> \\[\\<dataset2>\\]*\n",
    "\n",
    "An example if this is:\n",
    "\n",
    "- mvftoms.py -o myms https<span>://archive-gw-1.kat.ac.za/\\<captureblockID>/\\<captureblockID>_sdp_l0.full.rdb?token=\\<tokenString>\n",
    "    \n",
    "Using \\[options\\] you are able to pre-configure the measurement set. An overview of the options available can be found in the [MeerKAT-Cookbook](https://github.com/ska-sa/MeerKAT-Cookbook/blob/master/archive/Convert%20MVF%20dataset(s)%20to%20MeasurementSet.ipynb) or in the [mvftoms.py](https://github.com/ska-sa/katdal/blob/master/scripts/mvftoms.py) directly. If you just want to download the full measurement set, you can do so by download it directly using the *download-link* instead of the *rdb-link* on the [MeerKAT archive](https://archive.sarao.ac.za/).\n",
    "    \n",
    "According to [katdal issue 218](https://github.com/ska-sa/katdal/issues/218) it does sadly not provide a way to pre-select on `katdal.VisibilityDataV4` (`data`) and then create a measurement set out of it. However, it could be possible if you are able to hack the `data.select` directrly into your own [mvftoms.py](https://github.com/ska-sa/katdal/blob/master/scripts/mvftoms.py)."
   ]
  },
  {
   "cell_type": "code",
   "execution_count": null,
   "id": "cd75fcdc",
   "metadata": {
    "pycharm": {
     "name": "#%%\n"
    }
   },
   "outputs": [],
   "source": []
  }
 ],
 "metadata": {
  "kernelspec": {
   "display_name": "Python 3 (ipykernel)",
   "language": "python",
   "name": "python3"
  },
  "language_info": {
   "codemirror_mode": {
    "name": "ipython",
    "version": 3
   },
   "file_extension": ".py",
   "mimetype": "text/x-python",
   "name": "python",
   "nbconvert_exporter": "python",
   "pygments_lexer": "ipython3",
   "version": "3.8.12"
  }
 },
 "nbformat": 4,
 "nbformat_minor": 5
}