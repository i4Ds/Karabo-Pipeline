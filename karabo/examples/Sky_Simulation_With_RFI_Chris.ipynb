{
 "cells": [
  {
   "cell_type": "markdown",
   "id": "75776554b8eb13d1",
   "metadata": {},
   "source": [
    "# Performing a Sky Simulation with RFI Sources"
   ]
  },
  {
   "cell_type": "markdown",
   "id": "a2e5f73c8ad7d318",
   "metadata": {},
   "source": [
    "This example shows how to include RFI into the simulation. We take an arbitrary sky and use karabo to simulate the visibilities and the interference due to satellites."
   ]
  },
  {
   "cell_type": "code",
   "execution_count": null,
   "id": "initial_id",
   "metadata": {
    "ExecuteTime": {
     "end_time": "2025-05-22T08:02:35.056853Z",
     "start_time": "2025-05-22T08:02:31.872296Z"
    },
    "collapsed": true
   },
   "outputs": [],
   "source": [
    "import os\n",
    "from karabo.simulation.observation import Observation\n",
    "from karabo.simulation.sky_model import SkyModel\n",
    "from karabo.simulation.telescope import Telescope, VLAVersions\n",
    "from karabo.simulation.beam import generate_gaussian_beam_data\n",
    "from karabo.simulation.interferometer import FilterUnits, InterferometerSimulation\n",
    "from rascil.processing_components import create_visibility_from_ms\n",
    "from karabo.simulator_backend import SimulatorBackend\n",
    "from karabo.util.file_handler import FileHandler\n",
    "from karabo.simulation.signal.rfi_signal import RFISignal\n",
    "from pathlib import Path\n",
    "\n",
    "import numpy as np\n",
    "from astropy.coordinates import SkyCoord\n",
    "from astropy import units as u\n",
    "from datetime import datetime, timedelta\n",
    "\n",
    "from karabo.imaging.imager_wsclean import WscleanDirtyImager, WscleanDirtyImagerConfig\n",
    "\n",
    "import matplotlib.pyplot as plt\n",
    "\n",
    "%matplotlib inline"
   ]
  },
  {
   "cell_type": "code",
   "execution_count": null,
   "id": "16b0c571",
   "metadata": {},
   "outputs": [],
   "source": [
    "obs_vla = {\n",
    "    \"tel_name\": \"vla\",\n",
    "    \"fov\": 4.0,\n",
    "    \"phase_centre\": [100, 34],\n",
    "    \"start_time\": datetime(2023, 2, 22, 4, 12, 51),\n",
    "    \"obs_length\": timedelta(hours=0, minutes=0, seconds=40, milliseconds=0),\n",
    "    \"int_time\": 2.0,\n",
    "    \"chan_width\": 1.0e6,\n",
    "    \"n_freq\": 1,    \n",
    "    # \"start_freq\": 5e6, # Starlink far-field\n",
    "    \"start_freq\": 15e6, # Starlink far-field\n",
    "    # \"start_freq\": 45e6, # Starlink near-field\n",
    "    \"rfi_flux_scale\": 10e-9,\n",
    "    # \"rfi_flux_scale\": 5e-9,\n",
    "    # \"sat_names\": [\"starlink\"],\n",
    "    # \"norad_ids\": [],\n",
    "    \"sat_names\": [],\n",
    "    \"norad_ids\": [46038],\n",
    "    \"max_n_sats\": 1,\n",
    "    \"min_altitude_deg\": 0.0, # Above the horizon\n",
    "    \"max_angular_sep_deg\": 80.0,\n",
    "}\n",
    "\n",
    "mkat_pc = SkyCoord(ra=\"15:16:40.2\", dec=\"+00:15:02.0\", unit=(u.hourangle, u.deg))\n",
    "\n",
    "obs_mkat = {\n",
    "    \"tel_name\": \"meerkat\",\n",
    "    \"fov\": 4.0,\n",
    "    \"phase_centre\": [float(mkat_pc.ra.deg), float(mkat_pc.dec.deg)],\n",
    "    \"start_time\": datetime(2019, 5, 13, 23, 25, 15),\n",
    "    \"obs_length\": timedelta(seconds=896),\n",
    "    \"int_time\": 8.0,\n",
    "    \"chan_width\": 1.0e6,\n",
    "    \"n_freq\": 1,    \n",
    "    # \"start_freq\": 5e6, # Galileo far-field\n",
    "    \"start_freq\": 15e6, # Galileo far-field\n",
    "    # \"start_freq\": 45e6, # Galileo near-field\n",
    "    \"rfi_flux_scale\": 1e-5,\n",
    "    # \"rfi_flux_scale\": 5e-5,\n",
    "    \"sat_names\": [],\n",
    "    \"norad_ids\": [40544],\n",
    "    # \"sat_names\": [\"galileo\"],\n",
    "    # \"norad_ids\": [],\n",
    "    \"max_n_sats\": None,\n",
    "    \"min_altitude_deg\": 0.0, # Above the horizon\n",
    "    \"max_angular_sep_deg\": 40.0,\n",
    "}"
   ]
  },
  {
   "cell_type": "code",
   "execution_count": null,
   "id": "b137f3ad",
   "metadata": {},
   "outputs": [],
   "source": [
    "obs = obs_vla\n",
    "# obs = obs_mkat\n",
    "\n",
    "obs[\"n_time\"] = int(obs[\"obs_length\"].total_seconds() / obs[\"int_time\"])"
   ]
  },
  {
   "cell_type": "code",
   "execution_count": null,
   "id": "a882333ac2bb430f",
   "metadata": {
    "ExecuteTime": {
     "end_time": "2025-05-22T08:02:37.082357Z",
     "start_time": "2025-05-22T08:02:35.901643Z"
    }
   },
   "outputs": [],
   "source": [
    "# grid_srcs = False\n",
    "grid_srcs = True\n",
    "\n",
    "# Read in and plot the sky model\n",
    "# sky = SkyModel.sky_test()\n",
    "if grid_srcs:\n",
    "    ras = obs[\"phase_centre\"][0] + np.linspace(-obs[\"fov\"]/2, obs[\"fov\"]/2, 5)\n",
    "    decs = obs[\"phase_centre\"][1] + np.linspace(-obs[\"fov\"]/2, obs[\"fov\"]/2, 5)\n",
    "    ra_arr, dec_arr = np.meshgrid(ras, decs)\n",
    "    \n",
    "    sky = SkyModel()\n",
    "    sky_data = np.zeros((ra_arr.size, SkyModel.SOURCES_COLS))\n",
    "    sky_data[:, 0] = ra_arr.flatten()\n",
    "    sky_data[:, 1] = dec_arr.flatten()\n",
    "    sky_data[:, 2] = 1\n",
    "    sky.add_point_sources(sky_data)\n",
    "else:\n",
    "    # Sky Model if you want ONE POINT SOURCE ONLY\n",
    "    sky = SkyModel()\n",
    "    sky_data = np.array([[*obs[\"phase_centre\"], 1]])\n",
    "    sky.add_point_sources(sky_data)\n",
    "\n",
    "sky.explore_sky(phase_center=obs[\"phase_centre\"], wcs_enabled=True, cfun=lambda x: x, cbar_label=\"Flux [Jy]\")"
   ]
  },
  {
   "cell_type": "code",
   "execution_count": null,
   "id": "15c05657a50514f1",
   "metadata": {
    "ExecuteTime": {
     "end_time": "2025-05-21T13:48:48.408466Z",
     "start_time": "2025-05-21T13:48:48.404861Z"
    }
   },
   "outputs": [],
   "source": [
    "# Simulation settings that are the same for OSKAR and RASCIL\n",
    "observation = Observation(\n",
    "    phase_centre_ra_deg=obs[\"phase_centre\"][0],\n",
    "    phase_centre_dec_deg=obs[\"phase_centre\"][1],\n",
    "    start_date_and_time=obs[\"start_time\"],\n",
    "    length=obs[\"obs_length\"],\n",
    "    number_of_time_steps=obs[\"n_time\"],\n",
    "    start_frequency_hz=obs[\"start_freq\"],\n",
    "    frequency_increment_hz=obs[\"chan_width\"],\n",
    "    number_of_channels=obs[\"n_freq\"],\n",
    ")"
   ]
  },
  {
   "cell_type": "code",
   "execution_count": null,
   "id": "ba9a5eb5",
   "metadata": {},
   "outputs": [],
   "source": [
    "# `sim-vis` which is used for the RFI simulation relies on data from SpaceTrack service.\n",
    "# It needs a login with username and password. Thus, we must provide the login as\n",
    "# a .yaml file.\n",
    "\n",
    "credentials_filename = \"my_test_credentials.yaml\"\n",
    "# with open(credentials_filename, \"w\") as f:\n",
    "#     f.write(\"username: <add your username>\\n\")\n",
    "#     f.write(\"password: <add ypur password>\\n\")\n"
   ]
  },
  {
   "cell_type": "code",
   "execution_count": null,
   "id": "f8c30254",
   "metadata": {},
   "outputs": [],
   "source": [
    "# The class `RFISignal` controls the simulation of RFI sources\n",
    "rfi_signal = RFISignal(credentials_filename)\n",
    "rfi_signal.set_rfi_flux_scale(obs[\"rfi_flux_scale\"])\n",
    "rfi_signal.set_satellites(sat_names=obs[\"sat_names\"], norad_ids=obs[\"norad_ids\"])\n",
    "rfi_signal.filter_satellites(max_n_sats=obs[\"max_n_sats\"], min_altitude_deg=obs[\"min_altitude_deg\"], max_angular_sep_deg=obs[\"max_angular_sep_deg\"])"
   ]
  },
  {
   "cell_type": "code",
   "execution_count": null,
   "id": "4abace93",
   "metadata": {},
   "outputs": [],
   "source": [
    "simulation = InterferometerSimulation(\n",
    "    channel_bandwidth_hz=obs[\"chan_width\"],\n",
    "    time_average_sec=obs[\"int_time\"],\n",
    "    ignore_w_components=False,\n",
    "    uv_filter_units=FilterUnits.Metres,\n",
    "    use_gpus=True,\n",
    "    use_dask=False,\n",
    "    station_type=\"Isotropic beam\",  # This is only used by OSKAR (beam setting in OSKAR)\n",
    ")"
   ]
  },
  {
   "cell_type": "code",
   "execution_count": null,
   "id": "74ec6bb4",
   "metadata": {},
   "outputs": [],
   "source": [
    "output_base_directory = Path(\n",
    "    FileHandler().get_tmp_dir(\n",
    "        prefix=\"rfi-contaminated-\",\n",
    "        purpose=\"Example satellite RFI simulation\",\n",
    "    )\n",
    ")"
   ]
  },
  {
   "cell_type": "code",
   "execution_count": null,
   "id": "d296a141405c1791",
   "metadata": {
    "ExecuteTime": {
     "end_time": "2025-05-21T13:48:52.393762Z",
     "start_time": "2025-05-21T13:48:48.460080Z"
    }
   },
   "outputs": [],
   "source": [
    "#### OSKAR SIMULATION\n",
    "# Load the telescope (VLA D configuration [compact - max 2 km])\n",
    "if obs[\"tel_name\"]==\"vla\":\n",
    "    telescope = Telescope.constructor(\"VLA\", VLAVersions.D, backend=SimulatorBackend.OSKAR)\n",
    "else:\n",
    "    telescope = Telescope.constructor(\"MeerKAT\", backend=SimulatorBackend.OSKAR)\n",
    "    # telescope = Telescope.constructor(\"EDA2\", backend=SimulatorBackend.OSKAR)\n",
    "\n",
    "visibility = simulation.run_simulation(\n",
    "    telescope=telescope,\n",
    "    sky=sky,\n",
    "    observation=observation,\n",
    "    backend=SimulatorBackend.OSKAR,\n",
    "    primary_beam=None,\n",
    "    visibility_format=\"MS\",\n",
    "    visibility_path=os.path.join(output_base_directory, \"OSKAR.MS\"),\n",
    "    rfi_signals=rfi_signal\n",
    ")"
   ]
  },
  {
   "cell_type": "code",
   "execution_count": null,
   "id": "a4401306",
   "metadata": {},
   "outputs": [],
   "source": [
    "ang_min = np.min(rfi_signal.xds.rfi_tle_sat_ang_sep.data, axis=(1,2)).compute()\n",
    "np.argmin(ang_min), np.min(ang_min)"
   ]
  },
  {
   "cell_type": "code",
   "execution_count": null,
   "id": "a376744c",
   "metadata": {},
   "outputs": [],
   "source": [
    "xyz = (\n",
    "    rfi_signal.xds.rfi_tle_sat_xyz.data[:, :: rfi_signal.xds.n_int_samples]\n",
    "    - rfi_signal.xds.ants_xyz.data.mean(axis=1)[None, :: rfi_signal.xds.n_int_samples, :]\n",
    ")\n",
    "d_f = 2 * telescope.max_baseline()**2 / (3e8 / obs[\"start_freq\"])\n",
    "R = np.linalg.norm(xyz[0], axis=-1).compute()\n",
    "print(f\"Average satellite distance   : {R.mean()/1e3:.0f} km\")\n",
    "print(f\"Near-field boundary distance : {d_f/1e3:.0f} km\")"
   ]
  },
  {
   "cell_type": "code",
   "execution_count": null,
   "id": "e88be429",
   "metadata": {},
   "outputs": [],
   "source": [
    "# Set Imaging parameters\n",
    "if obs[\"tel_name\"]==\"vla\":\n",
    "    fov = np.deg2rad(35)\n",
    "else:\n",
    "    fov = np.deg2rad(15)\n",
    "imaging_cellsize = np.deg2rad(telescope.ang_res(obs[\"start_freq\"], telescope.max_baseline())/3600 / 5)\n",
    "imaging_npixel = 2 * int(fov / imaging_cellsize / 2)\n",
    "print(f\"Image size : ({imaging_npixel}x{imaging_npixel})\")\n"
   ]
  },
  {
   "cell_type": "code",
   "execution_count": null,
   "id": "1d29c899",
   "metadata": {},
   "outputs": [],
   "source": [
    "# Imaging with WSClean\n",
    "imager_single = WscleanDirtyImager(\n",
    "    WscleanDirtyImagerConfig(\n",
    "        imaging_npixel=imaging_npixel,\n",
    "        imaging_cellsize=imaging_cellsize,\n",
    "    )\n",
    ")\n",
    "\n",
    "dirty_image = imager_single.create_dirty_image(visibility)\n",
    "img_fig = dirty_image.plot(title=\"Dirty image WSClean\")"
   ]
  },
  {
   "cell_type": "code",
   "execution_count": null,
   "id": "dbf9ecf6",
   "metadata": {},
   "outputs": [],
   "source": [
    "sat_pos = rfi_signal.get_satellite_radec()\n",
    "ax = img_fig.axes[0]                 # or grab the specific WCSAxes you want\n",
    "world = ax.get_transform('world')  # 'world' = RA/Dec in the axis' native frame\n",
    "ax.plot(sat_pos.ra, sat_pos.dec, 'o', alpha=1, ms=6, mfc='none', mec='black', transform=world) \n",
    "\n",
    "img_fig\n"
   ]
  },
  {
   "cell_type": "code",
   "execution_count": null,
   "id": "9ecc8eaf",
   "metadata": {},
   "outputs": [],
   "source": [
    "imager_multi = WscleanDirtyImager(\n",
    "    WscleanDirtyImagerConfig(\n",
    "        imaging_npixel=imaging_npixel,\n",
    "        imaging_cellsize=imaging_cellsize,\n",
    "        intervals_out=obs[\"n_time\"],\n",
    "    )\n",
    ")\n",
    "\n",
    "imager_multi.create_dirty_image_series(visibility)\n",
    "anim = imager_multi.animate(\n",
    "    # interval_ms=200,\n",
    "    interval_ms=50,\n",
    "    normalize=\"global\",         # or \"per_frame\"\n",
    "    samples_per_frame=5000,\n",
    "    markers_world_per_frame=sat_pos,\n",
    "    marker_radius_deg=2.0,\n",
    ")"
   ]
  },
  {
   "cell_type": "code",
   "execution_count": null,
   "id": "176eff73",
   "metadata": {},
   "outputs": [],
   "source": []
  }
 ],
 "metadata": {
  "kernelspec": {
   "display_name": "karabo",
   "language": "python",
   "name": "python3"
  },
  "language_info": {
   "codemirror_mode": {
    "name": "ipython",
    "version": 3
   },
   "file_extension": ".py",
   "mimetype": "text/x-python",
   "name": "python",
   "nbconvert_exporter": "python",
   "pygments_lexer": "ipython3",
   "version": "3.10.18"
  }
 },
 "nbformat": 4,
 "nbformat_minor": 5
}
