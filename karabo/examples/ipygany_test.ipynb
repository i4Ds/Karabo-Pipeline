{
 "cells": [
  {
   "cell_type": "code",
   "execution_count": 6,
   "metadata": {
    "pycharm": {
     "name": "#%%\n"
    }
   },
   "outputs": [],
   "source": [
    "import numpy as np\n",
    "import math\n",
    "\n",
    "def transform_to_cartesian(lat, lon):\n",
    "    lat, lon = np.deg2rad(lat), np.deg2rad(lon)\n",
    "    R = 6371 # radius of the earth\n",
    "    x = R * np.cos(lat) * np.cos(lon)\n",
    "    y = R * np.cos(lat) * np.sin(lon)\n",
    "    z = R *np.sin(lat)\n",
    "    return x,y,z\n",
    "\n",
    "def normalize(v):\n",
    "    norm = np.linalg.norm(v)\n",
    "    if norm == 0: \n",
    "        return v\n",
    "    return v / norm"
   ]
  },
  {
   "cell_type": "code",
   "execution_count": 2,
   "metadata": {
    "pycharm": {
     "name": "#%%\n"
    }
   },
   "outputs": [
    {
     "data": {
      "image/png": "[encoded data removed]",
      "text/plain": [
       "<Figure size 432x288 with 1 Axes>"
      ]
     },
     "metadata": {
      "needs_background": "light"
     },
     "output_type": "display_data"
    },
    {
     "data": {
      "text/plain": [
       "array([[-30.72107432,  20.40901091,   0.        ],\n",
       "       [-30.72098992,  20.40935183,   0.        ],\n",
       "       [-30.7212888 ,  20.4088483 ,   0.        ],\n",
       "       [-30.72159821,  20.40905902,   0.        ],\n",
       "       [-30.72211178,  20.40857281,   0.        ],\n",
       "       [-30.7219181 ,  20.40828327,   0.        ],\n",
       "       [-30.72116396,  20.40816517,   0.        ],\n",
       "       [-30.72180572,  20.40713551,   0.        ],\n",
       "       [-30.72184111,  20.40586606,   0.        ],\n",
       "       [-30.72070901,  20.40743947,   0.        ],\n",
       "       [-30.72020774,  20.40608824,   0.        ],\n",
       "       [-30.72024446,  20.40762157,   0.        ],\n",
       "       [-30.71974078,  20.40746623,   0.        ],\n",
       "       [-30.71887048,  20.40722448,   0.        ],\n",
       "       [-30.71847588,  20.40825763,   0.        ],\n",
       "       [-30.71910563,  20.40889718,   0.        ],\n",
       "       [-30.71840852,  20.40921642,   0.        ],\n",
       "       [-30.71920474,  20.40992276,   0.        ],\n",
       "       [-30.72004917,  20.40864071,   0.        ],\n",
       "       [-30.71946408,  20.40826309,   0.        ],\n",
       "       [-30.72012751,  20.40812477,   0.        ],\n",
       "       [-30.72366169,  20.4078599 ,   0.        ],\n",
       "       [-30.72435449,  20.41100522,   0.        ],\n",
       "       [-30.72389857,  20.40963564,   0.        ],\n",
       "       [-30.72415703,  20.4124402 ,   0.        ],\n",
       "       [-30.72263657,  20.41316495,   0.        ],\n",
       "       [-30.72189036,  20.41116356,   0.        ],\n",
       "       [-30.720636  ,  20.41077822,   0.        ],\n",
       "       [-30.72146026,  20.41016354,   0.        ],\n",
       "       [-30.72179826,  20.40980907,   0.        ],\n",
       "       [-30.71945963,  20.41209342,   0.        ],\n",
       "       [-30.71878257,  20.41189965,   0.        ],\n",
       "       [-30.71685165,  20.41268409,   0.        ],\n",
       "       [-30.71577784,  20.41929027,   0.        ],\n",
       "       [-30.71778213,  20.41072837,   0.        ],\n",
       "       [-30.71752725,  20.4092642 ,   0.        ],\n",
       "       [-30.71750832,  20.40820997,   0.        ],\n",
       "       [-30.71758001,  20.40659262,   0.        ],\n",
       "       [-30.71908168,  20.40553929,   0.        ],\n",
       "       [-30.71871799,  20.40531795,   0.        ],\n",
       "       [-30.72124154,  20.40416577,   0.        ],\n",
       "       [-30.72358595,  20.40465075,   0.        ],\n",
       "       [-30.72425297,  20.40658294,   0.        ],\n",
       "       [-30.7266644 ,  20.40976862,   0.        ],\n",
       "       [-30.7290594 ,  20.41676218,   0.        ],\n",
       "       [-30.73748331,  20.41355965,   0.        ],\n",
       "       [-30.73419611,  20.42781089,   0.        ],\n",
       "       [-30.72620074,  20.40603618,   0.        ],\n",
       "       [-30.74623184,  20.43678228,   0.        ],\n",
       "       [-30.75342915,  20.41518815,   0.        ],\n",
       "       [-30.7394571 ,  20.40290398,   0.        ],\n",
       "       [-30.72864653,  20.40361748,   0.        ],\n",
       "       [-30.7263347 ,  20.3999779 ,   0.        ],\n",
       "       [-30.72091578,  20.3984828 ,   0.        ],\n",
       "       [-30.7131581 ,  20.40620396,   0.        ],\n",
       "       [-30.71019213,  20.41192591,   0.        ],\n",
       "       [-30.70662522,  20.415478  ,   0.        ],\n",
       "       [-30.71835019,  20.4422811 ,   0.        ],\n",
       "       [-30.69576716,  20.43678237,   0.        ],\n",
       "       [-30.68784717,  20.41828211,   0.        ],\n",
       "       [-30.69024605,  20.39333936,   0.        ],\n",
       "       [-30.72114757,  20.38870176,   0.        ],\n",
       "       [-30.73395591,  20.38697459,   0.        ],\n",
       "       [-30.75175307,  20.39333934,   0.        ]])"
      ]
     },
     "execution_count": 2,
     "metadata": {},
     "output_type": "execute_result"
    }
   ],
   "source": [
    "from karabo.simulation import telescope, telescope_versions\n",
    "\n",
    "tel = telescope.get_MEERKAT_Telescope()\n",
    "tel.plot_telescope()\n",
    "\n",
    "telescope_ll = np.array([[tel.centre_latitude, tel.centre_longitude, tel.centre_altitude]])\n",
    "\n",
    "station_ll = np.array([[station.latitude, station.longitude, station.altitude] for station in tel.stations])\n",
    "\n",
    "station_ll"
   ]
  },
  {
   "cell_type": "code",
   "execution_count": null,
   "metadata": {
    "pycharm": {
     "name": "#%%\n"
    }
   },
   "outputs": [],
   "source": []
  },
  {
   "cell_type": "code",
   "execution_count": 3,
   "metadata": {
    "pycharm": {
     "name": "#%%\n"
    }
   },
   "outputs": [
    {
     "data": {
      "text/plain": [
       "array([[ 0.80570085,  0.29978171, -0.51085915],\n",
       "       [ 0.80569977,  0.29978676, -0.51085788],\n",
       "       [ 0.80569991,  0.29977875, -0.51086237],\n",
       "       [ 0.80569622,  0.29978075, -0.51086701],\n",
       "       [ 0.80569447,  0.29977232, -0.51087472],\n",
       "       [ 0.8056976 ,  0.29976885, -0.51087181],\n",
       "       [ 0.80570452,  0.29976953, -0.5108605 ],\n",
       "       [ 0.80570455,  0.29975306, -0.51087012],\n",
       "       [ 0.80571089,  0.2997351 , -0.51087066],\n",
       "       [ 0.80571212,  0.29976074, -0.51085367],\n",
       "       [ 0.80572338,  0.2997433 , -0.51084615],\n",
       "       [ 0.80571505,  0.29976475, -0.5108467 ],\n",
       "       [ 0.80572007,  0.29976413, -0.51083914],\n",
       "       [ 0.80572861,  0.29976344, -0.51082608],\n",
       "       [ 0.8057265 ,  0.29977919, -0.51082016],\n",
       "       [ 0.80571789,  0.29978623, -0.51082961],\n",
       "       [ 0.80572205,  0.29979288, -0.51081915],\n",
       "       [ 0.8057117 ,  0.29980034, -0.5108311 ],\n",
       "       [ 0.80571135,  0.29977969, -0.51084377],\n",
       "       [ 0.80571822,  0.2997762 , -0.51083499],\n",
       "       [ 0.8057134 ,  0.29977219, -0.51084495],\n",
       "       [ 0.80568525,  0.29975748, -0.51089797],\n",
       "       [ 0.805663  ,  0.29979955, -0.51090837],\n",
       "       [ 0.80567398,  0.29978171, -0.51090153],\n",
       "       [ 0.80565714,  0.29982034, -0.5109054 ],\n",
       "       [ 0.80566606,  0.29983526, -0.51088259],\n",
       "       [ 0.80568277,  0.29980944, -0.51087139],\n",
       "       [ 0.80569526,  0.29980792, -0.51085257],\n",
       "       [ 0.80569159,  0.29979671, -0.51086494],\n",
       "       [ 0.80569062,  0.29979068, -0.51087001],\n",
       "       [ 0.80569821,  0.29983007, -0.51083492],\n",
       "       [ 0.80570488,  0.29982945, -0.51082477],\n",
       "       [ 0.80571691,  0.29984649, -0.51079579],\n",
       "       [ 0.80569131,  0.29994273, -0.51077968],\n",
       "       [ 0.80571937,  0.29981609, -0.51080975],\n",
       "       [ 0.80572916,  0.2997963 , -0.51080593],\n",
       "       [ 0.80573484,  0.29978153, -0.51080565],\n",
       "       [ 0.8057427 ,  0.29975856, -0.51080672],\n",
       "       [ 0.80573566,  0.29973908, -0.51082925],\n",
       "       [ 0.80573986,  0.2997371 , -0.5108238 ],\n",
       "       [ 0.8057248 ,  0.29971305, -0.51086166],\n",
       "       [ 0.80570267,  0.29971258, -0.51089684],\n",
       "       [ 0.80568699,  0.29973768, -0.51090684],\n",
       "       [ 0.80565017,  0.29977498, -0.51094302],\n",
       "       [ 0.80559355,  0.29986586, -0.51097895],\n",
       "       [ 0.8055399 ,  0.29979463, -0.51110533],\n",
       "       [ 0.80549278,  0.30000521, -0.51105602],\n",
       "       [ 0.80567357,  0.29972394, -0.51093607],\n",
       "       [ 0.80534518,  0.30009384, -0.51123656],\n",
       "       [ 0.80539803,  0.29976789, -0.51134452],\n",
       "       [ 0.80557913,  0.29963867, -0.51113494],\n",
       "       [ 0.80566578,  0.29968232, -0.51097276],\n",
       "       [ 0.80570414,  0.29963833, -0.51093808],\n",
       "       [ 0.80575724,  0.29963415, -0.51085677],\n",
       "       [ 0.80578168,  0.29976684, -0.51074037],\n",
       "       [ 0.80577652,  0.29985653, -0.51069587],\n",
       "       [ 0.80578772,  0.29991757, -0.51064234],\n",
       "       [ 0.8055494 ,  0.30025799, -0.51081828],\n",
       "       [ 0.80576681,  0.30025096, -0.51047939],\n",
       "       [ 0.80592984,  0.30001538, -0.51036053],\n",
       "       [ 0.80604034,  0.29965706, -0.51039653],\n",
       "       [ 0.80580645,  0.29949587, -0.51086025],\n",
       "       [ 0.80570841,  0.29943179, -0.51105241],\n",
       "       [ 0.80552631,  0.29946596, -0.51131938]])"
      ]
     },
     "execution_count": 3,
     "metadata": {},
     "output_type": "execute_result"
    }
   ],
   "source": [
    "station_pos = np.array([normalize(transform_to_cartesian(station[0], station[1])) for station in station_ll])\n",
    "station_pos"
   ]
  },
  {
   "cell_type": "code",
   "execution_count": null,
   "metadata": {
    "pycharm": {
     "name": "#%%\n"
    }
   },
   "outputs": [],
   "source": []
  },
  {
   "cell_type": "code",
   "execution_count": null,
   "metadata": {
    "pycharm": {
     "name": "#%%\n"
    }
   },
   "outputs": [],
   "source": []
  },
  {
   "cell_type": "code",
   "execution_count": 5,
   "metadata": {
    "scrolled": true,
    "pycharm": {
     "name": "#%%\n"
    }
   },
   "outputs": [
    {
     "name": "stdout",
     "output_type": "stream",
     "text": [
      "PolyData (0x7fb900bf72e0)\n",
      "  N Cells:\t2333880\n",
      "  N Points:\t2336041\n",
      "  X Bounds:\t-1.000e+00, 1.000e+00\n",
      "  Y Bounds:\t-1.000e+00, 1.000e+00\n",
      "  Z Bounds:\t-1.000e+00, 1.000e+00\n",
      "  N Arrays:\t1\n",
      "\n"
     ]
    },
    {
     "data": {
      "application/vnd.jupyter.widget-view+json": {
       "model_id": "cb60456341674b969b1b8ce123c5d689",
       "version_major": 2,
       "version_minor": 0
      },
      "text/plain": [
       "Renderer(camera=PerspectiveCamera(aspect=1.3333333333333333, children=(DirectionalLight(intensity=0.25, positi…"
      ]
     },
     "metadata": {},
     "output_type": "display_data"
    }
   ],
   "source": [
    "import numpy as np\n",
    "import pyvista\n",
    "from ipygany import PolyMesh, Scene\n",
    "from pyvista import examples\n",
    "\n",
    "#point_cloud = np.random.random((100, 3))\n",
    "#point_cloud = station_pos\n",
    "#pdata = pyvista.PolyData(point_cloud)\n",
    "#pdata['orig_sphere'] = np.arange(30)\n",
    "\n",
    "# create many spheres from the point cloud\n",
    "#sphere = pyvista.Sphere(radius=0.01, phi_resolution=10, theta_resolution=10)\n",
    "\n",
    "globe_sphere = pyvista.Sphere(radius=1, phi_resolution=100, theta_resolution=100)\n",
    "\n",
    "station_cone = pyvista.Cone()\n",
    "\n",
    "cones = [pyvista.Cone(center=station, direction=station, height=0.1, radius=0.1) for station in station_pos]\n",
    "#cones = [cone.scale([0.1, 0.1, 0.1], inplace=False) for cone in cones]\n",
    "\n",
    "merged = station_cone.merge(cones)\n",
    "\n",
    "#pc = pdata.glyph(scale=False, geom=cone)\n",
    "#merged = globe_sphere.merge([pc])\n",
    "mesh_globe = examples.download_topo_global()\n",
    "print(mesh_globe)\n",
    "#mesh_globe = PolyMesh.from_vtk(globe_sphere)\n",
    "#mesh_globe.default_color = 'red'\n",
    "\n",
    "#mesh = PolyMesh.from_vtk(merged)\n",
    "#mesh.default_color = 'white'\n",
    "#\n",
    "#scene = Scene([mesh_globe])\n",
    "#scenepl = \n",
    "pl = pyvista.Plotter()\n",
    "pl.add_mesh(mesh_globe)\n",
    "pl.camera_position = 'xy'\n",
    "pl.show(jupyter_backend='pythreejs')\n"
   ]
  },
  {
   "cell_type": "code",
   "execution_count": 6,
   "metadata": {
    "pycharm": {
     "name": "#%%\n"
    }
   },
   "outputs": [
    {
     "data": {
      "application/vnd.jupyter.widget-view+json": {
       "model_id": "d26fb9ae9382430ebf8186e05d4473bf",
       "version_major": 2,
       "version_minor": 0
      },
      "text/plain": [
       "Renderer(camera=PerspectiveCamera(aspect=1.3333333333333333, children=(DirectionalLight(intensity=0.25, positi…"
      ]
     },
     "metadata": {},
     "output_type": "display_data"
    }
   ],
   "source": [
    "import pyvista as pv\n",
    "from pyvista import examples\n",
    "\n",
    "mesh = examples.download_topo_global()\n",
    "mesh.compute_normals(inplace=True)  # this activates the normals as well\n",
    "\n",
    "# Now use those normals to warp the surface\n",
    "warp = mesh.warp_by_scalar(factor=0.5e-5)\n",
    "\n",
    "\n",
    "#stations\n",
    "cones = [pyvista.Cone(center=station, direction=station, height=1, radius=0.001) for station in station_pos]\n",
    "merged = cones[0].merge(cones[1:])\n",
    "\n",
    "pl = pv.Plotter()\n",
    "pl.add_mesh(warp)\n",
    "pl.add_mesh(merged)\n",
    "pl.camera_position = 'xy'\n",
    "pl.show(jupyter_backend='pythreejs')"
   ]
  },
  {
   "cell_type": "code",
   "execution_count": null,
   "metadata": {
    "pycharm": {
     "name": "#%%\n"
    }
   },
   "outputs": [],
   "source": []
  },
  {
   "cell_type": "code",
   "execution_count": null,
   "metadata": {
    "pycharm": {
     "name": "#%%\n"
    }
   },
   "outputs": [],
   "source": []
  },
  {
   "cell_type": "code",
   "execution_count": null,
   "metadata": {
    "pycharm": {
     "name": "#%%\n"
    }
   },
   "outputs": [],
   "source": []
  },
  {
   "cell_type": "code",
   "execution_count": 7,
   "metadata": {
    "pycharm": {
     "name": "#%%\n"
    }
   },
   "outputs": [],
   "source": [
    "def find_min_max_long_lat(stations):\n",
    "    lats = stations[:,0]\n",
    "    longs = stations[:,1]\n",
    "    return (np.min(lats), np.min(longs), np.max(lats), np.max(longs))\n",
    "    \n",
    "min_lat, max_lat, min_long, max_long = find_min_max_long_lat(station_ll)"
   ]
  },
  {
   "cell_type": "code",
   "execution_count": 8,
   "metadata": {
    "pycharm": {
     "name": "#%%\n"
    }
   },
   "outputs": [],
   "source": [
    "centre_plane = transform_to_cartesian(tel.centre_latitude, tel.centre_longitude)"
   ]
  },
  {
   "cell_type": "code",
   "execution_count": null,
   "metadata": {
    "pycharm": {
     "name": "#%%\n"
    }
   },
   "outputs": [],
   "source": []
  },
  {
   "cell_type": "code",
   "execution_count": 9,
   "metadata": {
    "pycharm": {
     "name": "#%%\n"
    }
   },
   "outputs": [
    {
     "data": {
      "application/vnd.jupyter.widget-view+json": {
       "model_id": "4e2ec77fcc6a482492c2d2bcbaea0b1c",
       "version_major": 2,
       "version_minor": 0
      },
      "text/plain": [
       "Renderer(camera=PerspectiveCamera(aspect=1.3333333333333333, children=(DirectionalLight(intensity=0.25, positi…"
      ]
     },
     "metadata": {},
     "output_type": "display_data"
    }
   ],
   "source": [
    "import pyvista as pv\n",
    "from pyvista import examples\n",
    "scale = 20\n",
    "planeMesh = pv.Plane(center=centre_plane, direction=centre_plane, i_size=scale, j_size=scale)\n",
    "#mesh = examples.download_topo_global()\n",
    "#mesh.compute_normals(inplace=True)  # this activates the normals as well\n",
    "#\n",
    "## Now use those normals to warp the surface\n",
    "#warp = mesh.warp_by_scalar(factor=0.5e-5)\n",
    "#\n",
    "\n",
    "#stations\n",
    "\n",
    "scaled_pos = [station*scale for station in station_pos]\n",
    "cones = [pyvista.Cone(center=station, direction=station, height=0.0001, radius=0.0001) for station in scaled_pos]\n",
    "merged = cones[0].merge(cones[1:])\n",
    "mm = merged.merge(planeMesh)\n",
    "\n",
    "pl = pv.Plotter()\n",
    "#pl.add_mesh(warp)\n",
    "\n",
    "#pl.add_mesh(mm)\n",
    "#pl.add_mesh(planeMesh)\n",
    "pl.add_mesh(merged)\n",
    "pl.background_color='grey'\n",
    "pl.camera_position = 'xy'\n",
    "pl.show(jupyter_backend='pythreejs')"
   ]
  },
  {
   "cell_type": "code",
   "execution_count": 1,
   "metadata": {
    "pycharm": {
     "name": "#%%\n"
    }
   },
   "outputs": [],
   "source": [
    "from karabo.simulation.sky_model import get_GLEAM_Sky, SkyModel"
   ]
  },
  {
   "cell_type": "code",
   "execution_count": null,
   "metadata": {
    "scrolled": true,
    "pycharm": {
     "name": "#%%\n"
    }
   },
   "outputs": [],
   "source": [
    "sky = get_GLEAM_Sky()\n",
    "sky.filter_by_flux(0, 500)\n",
    "sky.plot_sky([250, -80])\n"
   ]
  },
  {
   "cell_type": "code",
   "execution_count": null,
   "metadata": {
    "pycharm": {
     "name": "#%%\n"
    }
   },
   "outputs": [],
   "source": [
    "cartesian = sky.get_cartesian_sky()\n",
    "cartesian\n",
    "len(cartesian)\n",
    "len(sky[:,2])"
   ]
  },
  {
   "cell_type": "code",
   "execution_count": null,
   "metadata": {
    "scrolled": false,
    "pycharm": {
     "name": "#%%\n"
    }
   },
   "outputs": [],
   "source": [
    "import pyvista\n",
    "\n",
    "cartesian_scaled = cartesian * 1000\n",
    "\n",
    "\n",
    "sources = pyvista.PointSet(cartesian_scaled)\n",
    "scalars = np.repeat(sky[:,2], 82, axis=0)\n",
    "\n",
    "sphere = pyvista.Sphere(radius=0.001, phi_resolution=10, theta_resolution=10)\n",
    "pdata = pyvista.PolyData(cartesian)\n",
    "spheres = pdata.glyph(scale=False, geom=sphere)\n",
    "spheres.plot(scalars=scalars)\n",
    "#merged = spheres[0].merge(spheres[1:])\n",
    "#sources.plot(scalars=sky[:,2])\n",
    "#pl = pv.Plotter()\n",
    "#pl.add_mesh(spheres)\n",
    "#pl.background_color='grey'\n",
    "#pl.camera_position = 'xy'\n",
    "#pl.show(jupyter_backend='pythreejs')"
   ]
  },
  {
   "cell_type": "code",
   "execution_count": null,
   "metadata": {
    "pycharm": {
     "name": "#%%\n"
    }
   },
   "outputs": [],
   "source": []
  },
  {
   "cell_type": "code",
   "execution_count": null,
   "metadata": {
    "pycharm": {
     "name": "#%%\n"
    }
   },
   "outputs": [],
   "source": []
  },
  {
   "cell_type": "code",
   "execution_count": null,
   "metadata": {
    "pycharm": {
     "name": "#%%\n"
    }
   },
   "outputs": [],
   "source": [
    "import time\n",
    "\n",
    "import pyvista as pv\n",
    "from pyvista import examples\n",
    "\n",
    "lidar = examples.download_lidar()\n",
    "print(lidar)\n",
    "tstart = time.time()\n",
    "clipped = lidar.clip(origin=(0, 0, 1.76e3), normal=(0, 0, 1))\n",
    "t_elapsed = time.time() - tstart\n",
    "print(f\"Time to clip with a PolyData {t_elapsed:.2f} seconds.\")"
   ]
  },
  {
   "cell_type": "code",
   "execution_count": null,
   "metadata": {
    "pycharm": {
     "name": "#%%\n"
    }
   },
   "outputs": [],
   "source": []
  },
  {
   "cell_type": "code",
   "execution_count": null,
   "metadata": {
    "pycharm": {
     "name": "#%%\n"
    }
   },
   "outputs": [],
   "source": [
    "clipped.plot()"
   ]
  },
  {
   "cell_type": "code",
   "execution_count": null,
   "metadata": {
    "pycharm": {
     "name": "#%%\n"
    }
   },
   "outputs": [],
   "source": []
  },
  {
   "cell_type": "code",
   "execution_count": null,
   "metadata": {
    "pycharm": {
     "name": "#%%\n"
    }
   },
   "outputs": [],
   "source": []
  },
  {
   "cell_type": "code",
   "execution_count": null,
   "metadata": {
    "pycharm": {
     "name": "#%%\n"
    }
   },
   "outputs": [],
   "source": []
  },
  {
   "cell_type": "code",
   "execution_count": null,
   "metadata": {
    "pycharm": {
     "name": "#%%\n"
    }
   },
   "outputs": [],
   "source": []
  },
  {
   "cell_type": "code",
   "execution_count": null,
   "metadata": {
    "pycharm": {
     "name": "#%%\n"
    }
   },
   "outputs": [],
   "source": [
    "\n"
   ]
  },
  {
   "cell_type": "code",
   "execution_count": null,
   "metadata": {
    "pycharm": {
     "name": "#%%\n"
    }
   },
   "outputs": [],
   "source": []
  },
  {
   "cell_type": "code",
   "execution_count": null,
   "metadata": {
    "pycharm": {
     "name": "#%%\n"
    }
   },
   "outputs": [],
   "source": []
  },
  {
   "cell_type": "code",
   "execution_count": null,
   "metadata": {
    "pycharm": {
     "name": "#%%\n"
    }
   },
   "outputs": [],
   "source": []
  },
  {
   "cell_type": "code",
   "execution_count": null,
   "metadata": {
    "pycharm": {
     "name": "#%%\n"
    }
   },
   "outputs": [],
   "source": []
  },
  {
   "cell_type": "code",
   "execution_count": null,
   "metadata": {
    "pycharm": {
     "name": "#%%\n"
    }
   },
   "outputs": [],
   "source": []
  },
  {
   "cell_type": "code",
   "execution_count": null,
   "metadata": {
    "pycharm": {
     "name": "#%%\n"
    }
   },
   "outputs": [],
   "source": [
    "import srtm\n",
    "geo_elevation_data = srtm.get_data()\n",
    "image = geo_elevation_data.get_image((100, 100),  (math.floor(min_lat), math.ceil(max_lat)), (math.floor(min_long), math.ceil(max_long)), 300)\n",
    "# the image s a standard PIL object, you can save or show it:\n",
    "image.show()"
   ]
  },
  {
   "cell_type": "code",
   "execution_count": null,
   "metadata": {
    "pycharm": {
     "name": "#%%\n"
    }
   },
   "outputs": [],
   "source": []
  },
  {
   "cell_type": "code",
   "execution_count": null,
   "metadata": {
    "pycharm": {
     "name": "#%%\n"
    }
   },
   "outputs": [],
   "source": []
  },
  {
   "cell_type": "code",
   "execution_count": null,
   "metadata": {
    "pycharm": {
     "name": "#%%\n"
    }
   },
   "outputs": [],
   "source": []
  }
 ],
 "metadata": {
  "kernelspec": {
   "display_name": "Python 3 (ipykernel)",
   "language": "python",
   "name": "python3"
  },
  "language_info": {
   "codemirror_mode": {
    "name": "ipython",
    "version": 3
   },
   "file_extension": ".py",
   "mimetype": "text/x-python",
   "name": "python",
   "nbconvert_exporter": "python",
   "pygments_lexer": "ipython3",
   "version": "3.8.13"
  }
 },
 "nbformat": 4,
 "nbformat_minor": 1
}